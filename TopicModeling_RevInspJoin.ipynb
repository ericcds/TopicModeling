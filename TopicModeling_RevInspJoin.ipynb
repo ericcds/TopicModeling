{
 "cells": [
  {
   "cell_type": "code",
   "execution_count": 1,
   "metadata": {
    "collapsed": false
   },
   "outputs": [
    {
     "name": "stdout",
     "output_type": "stream",
     "text": [
      "This non-commercial license of GraphLab Create for academic use is assigned to eacarr2@illinois.edu and will expire on February 08, 2018.\n"
     ]
    },
    {
     "name": "stderr",
     "output_type": "stream",
     "text": [
      "[INFO] graphlab.cython.cy_server: GraphLab Create v2.1 started. Logging: /tmp/graphlab_server_1494112267.log\n"
     ]
    }
   ],
   "source": [
    "import graphlab as gl\n",
    "import pyLDAvis\n",
    "import pyLDAvis.graphlab\n",
    "import pandas as pd\n",
    "import ftfy\n",
    "import numpy as np\n",
    "import io"
   ]
  },
  {
   "cell_type": "code",
   "execution_count": 2,
   "metadata": {
    "collapsed": false
   },
   "outputs": [
    {
     "data": {
      "text/html": [
       "<pre>Finished parsing file /home/ubuntu/LARA_Python/data/LVInspRevJoin_Clean_Deduped.csv</pre>"
      ],
      "text/plain": [
       "Finished parsing file /home/ubuntu/LARA_Python/data/LVInspRevJoin_Clean_Deduped.csv"
      ]
     },
     "metadata": {},
     "output_type": "display_data"
    },
    {
     "data": {
      "text/html": [
       "<pre>Parsing completed. Parsed 100 lines in 21.1808 secs.</pre>"
      ],
      "text/plain": [
       "Parsing completed. Parsed 100 lines in 21.1808 secs."
      ]
     },
     "metadata": {},
     "output_type": "display_data"
    },
    {
     "name": "stdout",
     "output_type": "stream",
     "text": [
      "------------------------------------------------------\n",
      "Inferred types from first 100 line(s) of file as \n",
      "column_type_hints=[str,str,str,str,str,str,str,int,str,str,str,str,str,str,str,str,str,int,str,str,int,int,int,int,float,str,str,str,int,str,float,float,int,float]\n",
      "If parsing fails due to incorrect types, you can correct\n",
      "the inferred type list above and pass it to read_csv in\n",
      "the column_type_hints argument\n",
      "------------------------------------------------------\n"
     ]
    },
    {
     "data": {
      "text/html": [
       "<pre>Unable to parse line \"DA0486820,PR0011845,TOFU HUT,TOFU HUT,3920 SPRING MOUNTAIN RD,LAS VEGAS,NEVADA,89102-8646,A,B,5/17/10,11/6/13,4/29/15,\"(36.126579, -115.193423)\",n19rDU_oneDvz153F0ftmA,KOETBCGiyfQhr5KIglqmUA,0w3BdEOxvwKTpypwbN5kiQ,2,5/2/14,\"The bbq was moderate, however, t...\"</pre>"
      ],
      "text/plain": [
       "Unable to parse line \"DA0486820,PR0011845,TOFU HUT,TOFU HUT,3920 SPRING MOUNTAIN RD,LAS VEGAS,NEVADA,89102-8646,A,B,5/17/10,11/6/13,4/29/15,\"(36.126579, -115.193423)\",n19rDU_oneDvz153F0ftmA,KOETBCGiyfQhr5KIglqmUA,0w3BdEOxvwKTpypwbN5kiQ,2,5/2/14,\"The bbq was moderate, however, t...\""
      ]
     },
     "metadata": {},
     "output_type": "display_data"
    },
    {
     "data": {
      "text/html": [
       "<pre>Unable to parse line \"DA1501409,PR0011845,TOFU HUT,TOFU HUT,3920 SPRING MOUNTAIN RD,LAS VEGAS,NEVADA,89102-8646,A,A,4/29/15,11/6/13,4/25/16,\"(36.126579, -115.193423)\",n19rDU_oneDvz153F0ftmA,KOETBCGiyfQhr5KIglqmUA,0w3BdEOxvwKTpypwbN5kiQ,2,5/2/14,\"The bbq was moderate, however, t...\"</pre>"
      ],
      "text/plain": [
       "Unable to parse line \"DA1501409,PR0011845,TOFU HUT,TOFU HUT,3920 SPRING MOUNTAIN RD,LAS VEGAS,NEVADA,89102-8646,A,A,4/29/15,11/6/13,4/25/16,\"(36.126579, -115.193423)\",n19rDU_oneDvz153F0ftmA,KOETBCGiyfQhr5KIglqmUA,0w3BdEOxvwKTpypwbN5kiQ,2,5/2/14,\"The bbq was moderate, however, t...\""
      ]
     },
     "metadata": {},
     "output_type": "display_data"
    },
    {
     "data": {
      "text/html": [
       "<pre>Unable to parse line \"DA1677491,PR0011845,TOFU HUT,TOFU HUT,3920 SPRING MOUNTAIN RD,LAS VEGAS,NEVADA,89102-8646,A,A,4/25/16,11/6/13,4/21/15,\"(36.126579, -115.193423)\",n19rDU_oneDvz153F0ftmA,KOETBCGiyfQhr5KIglqmUA,0w3BdEOxvwKTpypwbN5kiQ,2,5/2/14,\"The bbq was moderate, however, t...\"</pre>"
      ],
      "text/plain": [
       "Unable to parse line \"DA1677491,PR0011845,TOFU HUT,TOFU HUT,3920 SPRING MOUNTAIN RD,LAS VEGAS,NEVADA,89102-8646,A,A,4/25/16,11/6/13,4/21/15,\"(36.126579, -115.193423)\",n19rDU_oneDvz153F0ftmA,KOETBCGiyfQhr5KIglqmUA,0w3BdEOxvwKTpypwbN5kiQ,2,5/2/14,\"The bbq was moderate, however, t...\""
      ]
     },
     "metadata": {},
     "output_type": "display_data"
    },
    {
     "data": {
      "text/html": [
       "<pre>Unable to parse line \"DA1153846,PR0011845,TOFU HUT,TOFU HUT,3920 SPRING MOUNTAIN RD,LAS VEGAS,NEVADA,89102-8646,A,X,4/16/14,11/6/13,4/7/16,\"(36.126579, -115.193423)\",n19rDU_oneDvz153F0ftmA,KOETBCGiyfQhr5KIglqmUA,0w3BdEOxvwKTpypwbN5kiQ,2,5/2/14,\"The bbq was moderate, however, th...\"</pre>"
      ],
      "text/plain": [
       "Unable to parse line \"DA1153846,PR0011845,TOFU HUT,TOFU HUT,3920 SPRING MOUNTAIN RD,LAS VEGAS,NEVADA,89102-8646,A,X,4/16/14,11/6/13,4/7/16,\"(36.126579, -115.193423)\",n19rDU_oneDvz153F0ftmA,KOETBCGiyfQhr5KIglqmUA,0w3BdEOxvwKTpypwbN5kiQ,2,5/2/14,\"The bbq was moderate, however, th...\""
      ]
     },
     "metadata": {},
     "output_type": "display_data"
    },
    {
     "data": {
      "text/html": [
       "<pre>Unable to parse line \"DA1669790,PR0011845,TOFU HUT,TOFU HUT,3920 SPRING MOUNTAIN RD,LAS VEGAS,NEVADA,89102-8646,A,B,4/7/16,11/6/13,3/28/17,\"(36.126579, -115.193423)\",n19rDU_oneDvz153F0ftmA,KOETBCGiyfQhr5KIglqmUA,0w3BdEOxvwKTpypwbN5kiQ,2,5/2/14,\"The bbq was moderate, however, th...\"</pre>"
      ],
      "text/plain": [
       "Unable to parse line \"DA1669790,PR0011845,TOFU HUT,TOFU HUT,3920 SPRING MOUNTAIN RD,LAS VEGAS,NEVADA,89102-8646,A,B,4/7/16,11/6/13,3/28/17,\"(36.126579, -115.193423)\",n19rDU_oneDvz153F0ftmA,KOETBCGiyfQhr5KIglqmUA,0w3BdEOxvwKTpypwbN5kiQ,2,5/2/14,\"The bbq was moderate, however, th...\""
      ]
     },
     "metadata": {},
     "output_type": "display_data"
    },
    {
     "data": {
      "text/html": [
       "<pre>Unable to parse line \"DA0486823,PR0011845,TOFU HUT,TOFU HUT,3920 SPRING MOUNTAIN RD,LAS VEGAS,NEVADA,89102-8646,A,X,2/15/11,11/6/13,1/21/15,\"(36.126579, -115.193423)\",n19rDU_oneDvz153F0ftmA,KOETBCGiyfQhr5KIglqmUA,0w3BdEOxvwKTpypwbN5kiQ,2,5/2/14,\"The bbq was moderate, however, t...\"</pre>"
      ],
      "text/plain": [
       "Unable to parse line \"DA0486823,PR0011845,TOFU HUT,TOFU HUT,3920 SPRING MOUNTAIN RD,LAS VEGAS,NEVADA,89102-8646,A,X,2/15/11,11/6/13,1/21/15,\"(36.126579, -115.193423)\",n19rDU_oneDvz153F0ftmA,KOETBCGiyfQhr5KIglqmUA,0w3BdEOxvwKTpypwbN5kiQ,2,5/2/14,\"The bbq was moderate, however, t...\""
      ]
     },
     "metadata": {},
     "output_type": "display_data"
    },
    {
     "data": {
      "text/html": [
       "<pre>Unable to parse line \"DA0486822,PR0011845,TOFU HUT,TOFU HUT,3920 SPRING MOUNTAIN RD,LAS VEGAS,NEVADA,89102-8646,A,A,6/15/10,11/6/13,5/27/14,\"(36.126579, -115.193423)\",n19rDU_oneDvz153F0ftmA,KOETBCGiyfQhr5KIglqmUA,0w3BdEOxvwKTpypwbN5kiQ,2,5/2/14,\"The bbq was moderate, however, t...\"</pre>"
      ],
      "text/plain": [
       "Unable to parse line \"DA0486822,PR0011845,TOFU HUT,TOFU HUT,3920 SPRING MOUNTAIN RD,LAS VEGAS,NEVADA,89102-8646,A,A,6/15/10,11/6/13,5/27/14,\"(36.126579, -115.193423)\",n19rDU_oneDvz153F0ftmA,KOETBCGiyfQhr5KIglqmUA,0w3BdEOxvwKTpypwbN5kiQ,2,5/2/14,\"The bbq was moderate, however, t...\""
      ]
     },
     "metadata": {},
     "output_type": "display_data"
    },
    {
     "data": {
      "text/html": [
       "<pre>Unable to parse line \"DA1165501,PR0011845,TOFU HUT,TOFU HUT,3920 SPRING MOUNTAIN RD,LAS VEGAS,NEVADA,89102-8646,A,A,5/27/14,11/6/13,5/19/14,\"(36.126579, -115.193423)\",n19rDU_oneDvz153F0ftmA,KOETBCGiyfQhr5KIglqmUA,0w3BdEOxvwKTpypwbN5kiQ,2,5/2/14,\"The bbq was moderate, however, t...\"</pre>"
      ],
      "text/plain": [
       "Unable to parse line \"DA1165501,PR0011845,TOFU HUT,TOFU HUT,3920 SPRING MOUNTAIN RD,LAS VEGAS,NEVADA,89102-8646,A,A,5/27/14,11/6/13,5/19/14,\"(36.126579, -115.193423)\",n19rDU_oneDvz153F0ftmA,KOETBCGiyfQhr5KIglqmUA,0w3BdEOxvwKTpypwbN5kiQ,2,5/2/14,\"The bbq was moderate, however, t...\""
      ]
     },
     "metadata": {},
     "output_type": "display_data"
    },
    {
     "data": {
      "text/html": [
       "<pre>Read 55275 lines. Lines per second: 2284.02</pre>"
      ],
      "text/plain": [
       "Read 55275 lines. Lines per second: 2284.02"
      ]
     },
     "metadata": {},
     "output_type": "display_data"
    },
    {
     "data": {
      "text/html": [
       "<pre>8 lines failed to parse correctly</pre>"
      ],
      "text/plain": [
       "8 lines failed to parse correctly"
      ]
     },
     "metadata": {},
     "output_type": "display_data"
    },
    {
     "data": {
      "text/html": [
       "<pre>Finished parsing file /home/ubuntu/LARA_Python/data/LVInspRevJoin_Clean_Deduped.csv</pre>"
      ],
      "text/plain": [
       "Finished parsing file /home/ubuntu/LARA_Python/data/LVInspRevJoin_Clean_Deduped.csv"
      ]
     },
     "metadata": {},
     "output_type": "display_data"
    },
    {
     "data": {
      "text/html": [
       "<pre>Parsing completed. Parsed 141597 lines in 26.1265 secs.</pre>"
      ],
      "text/plain": [
       "Parsing completed. Parsed 141597 lines in 26.1265 secs."
      ]
     },
     "metadata": {},
     "output_type": "display_data"
    },
    {
     "data": {
      "text/html": [
       "<div style=\"max-height:1000px;max-width:1500px;overflow:auto;\"><table frame=\"box\" rules=\"cols\">\n",
       "    <tr>\n",
       "        <th style=\"padding-left: 1em; padding-right: 1em; text-align: center\">Serial Number</th>\n",
       "        <th style=\"padding-left: 1em; padding-right: 1em; text-align: center\">Permit Number</th>\n",
       "        <th style=\"padding-left: 1em; padding-right: 1em; text-align: center\">Restaurant Name</th>\n",
       "        <th style=\"padding-left: 1em; padding-right: 1em; text-align: center\">Location Name</th>\n",
       "        <th style=\"padding-left: 1em; padding-right: 1em; text-align: center\">Address</th>\n",
       "        <th style=\"padding-left: 1em; padding-right: 1em; text-align: center\">City</th>\n",
       "        <th style=\"padding-left: 1em; padding-right: 1em; text-align: center\">State</th>\n",
       "    </tr>\n",
       "    <tr>\n",
       "        <td style=\"padding-left: 1em; padding-right: 1em; text-align: center; vertical-align: top\">DA1304620</td>\n",
       "        <td style=\"padding-left: 1em; padding-right: 1em; text-align: center; vertical-align: top\">PR0105774</td>\n",
       "        <td style=\"padding-left: 1em; padding-right: 1em; text-align: center; vertical-align: top\">ARIA MEDITERRANEAN<br>RESTAURANT ...</td>\n",
       "        <td style=\"padding-left: 1em; padding-right: 1em; text-align: center; vertical-align: top\">ARIA MEDITERRANEAN<br>RESTAURANT ...</td>\n",
       "        <td style=\"padding-left: 1em; padding-right: 1em; text-align: center; vertical-align: top\">230 S RAINBOW BLVD</td>\n",
       "        <td style=\"padding-left: 1em; padding-right: 1em; text-align: center; vertical-align: top\">LAS VEGAS</td>\n",
       "        <td style=\"padding-left: 1em; padding-right: 1em; text-align: center; vertical-align: top\">NEVADA</td>\n",
       "    </tr>\n",
       "    <tr>\n",
       "        <td style=\"padding-left: 1em; padding-right: 1em; text-align: center; vertical-align: top\">DA1304620</td>\n",
       "        <td style=\"padding-left: 1em; padding-right: 1em; text-align: center; vertical-align: top\">PR0105774</td>\n",
       "        <td style=\"padding-left: 1em; padding-right: 1em; text-align: center; vertical-align: top\">ARIA MEDITERRANEAN<br>RESTAURANT ...</td>\n",
       "        <td style=\"padding-left: 1em; padding-right: 1em; text-align: center; vertical-align: top\">ARIA MEDITERRANEAN<br>RESTAURANT ...</td>\n",
       "        <td style=\"padding-left: 1em; padding-right: 1em; text-align: center; vertical-align: top\">230 S RAINBOW BLVD</td>\n",
       "        <td style=\"padding-left: 1em; padding-right: 1em; text-align: center; vertical-align: top\">LAS VEGAS</td>\n",
       "        <td style=\"padding-left: 1em; padding-right: 1em; text-align: center; vertical-align: top\">NEVADA</td>\n",
       "    </tr>\n",
       "    <tr>\n",
       "        <td style=\"padding-left: 1em; padding-right: 1em; text-align: center; vertical-align: top\">DA1304620</td>\n",
       "        <td style=\"padding-left: 1em; padding-right: 1em; text-align: center; vertical-align: top\">PR0105774</td>\n",
       "        <td style=\"padding-left: 1em; padding-right: 1em; text-align: center; vertical-align: top\">ARIA MEDITERRANEAN<br>RESTAURANT ...</td>\n",
       "        <td style=\"padding-left: 1em; padding-right: 1em; text-align: center; vertical-align: top\">ARIA MEDITERRANEAN<br>RESTAURANT ...</td>\n",
       "        <td style=\"padding-left: 1em; padding-right: 1em; text-align: center; vertical-align: top\">230 S RAINBOW BLVD</td>\n",
       "        <td style=\"padding-left: 1em; padding-right: 1em; text-align: center; vertical-align: top\">LAS VEGAS</td>\n",
       "        <td style=\"padding-left: 1em; padding-right: 1em; text-align: center; vertical-align: top\">NEVADA</td>\n",
       "    </tr>\n",
       "    <tr>\n",
       "        <td style=\"padding-left: 1em; padding-right: 1em; text-align: center; vertical-align: top\">DA1304620</td>\n",
       "        <td style=\"padding-left: 1em; padding-right: 1em; text-align: center; vertical-align: top\">PR0105774</td>\n",
       "        <td style=\"padding-left: 1em; padding-right: 1em; text-align: center; vertical-align: top\">ARIA MEDITERRANEAN<br>RESTAURANT ...</td>\n",
       "        <td style=\"padding-left: 1em; padding-right: 1em; text-align: center; vertical-align: top\">ARIA MEDITERRANEAN<br>RESTAURANT ...</td>\n",
       "        <td style=\"padding-left: 1em; padding-right: 1em; text-align: center; vertical-align: top\">230 S RAINBOW BLVD</td>\n",
       "        <td style=\"padding-left: 1em; padding-right: 1em; text-align: center; vertical-align: top\">LAS VEGAS</td>\n",
       "        <td style=\"padding-left: 1em; padding-right: 1em; text-align: center; vertical-align: top\">NEVADA</td>\n",
       "    </tr>\n",
       "    <tr>\n",
       "        <td style=\"padding-left: 1em; padding-right: 1em; text-align: center; vertical-align: top\">DA1304620</td>\n",
       "        <td style=\"padding-left: 1em; padding-right: 1em; text-align: center; vertical-align: top\">PR0105774</td>\n",
       "        <td style=\"padding-left: 1em; padding-right: 1em; text-align: center; vertical-align: top\">ARIA MEDITERRANEAN<br>RESTAURANT ...</td>\n",
       "        <td style=\"padding-left: 1em; padding-right: 1em; text-align: center; vertical-align: top\">ARIA MEDITERRANEAN<br>RESTAURANT ...</td>\n",
       "        <td style=\"padding-left: 1em; padding-right: 1em; text-align: center; vertical-align: top\">230 S RAINBOW BLVD</td>\n",
       "        <td style=\"padding-left: 1em; padding-right: 1em; text-align: center; vertical-align: top\">LAS VEGAS</td>\n",
       "        <td style=\"padding-left: 1em; padding-right: 1em; text-align: center; vertical-align: top\">NEVADA</td>\n",
       "    </tr>\n",
       "</table>\n",
       "<table frame=\"box\" rules=\"cols\">\n",
       "    <tr>\n",
       "        <th style=\"padding-left: 1em; padding-right: 1em; text-align: center\">Zip</th>\n",
       "        <th style=\"padding-left: 1em; padding-right: 1em; text-align: center\">Current Grade</th>\n",
       "        <th style=\"padding-left: 1em; padding-right: 1em; text-align: center\">Inspection Grade</th>\n",
       "        <th style=\"padding-left: 1em; padding-right: 1em; text-align: center\">Inspection Date</th>\n",
       "        <th style=\"padding-left: 1em; padding-right: 1em; text-align: center\">Prior Insp Date</th>\n",
       "        <th style=\"padding-left: 1em; padding-right: 1em; text-align: center\">Next Insp Date</th>\n",
       "    </tr>\n",
       "    <tr>\n",
       "        <td style=\"padding-left: 1em; padding-right: 1em; text-align: center; vertical-align: top\">89145</td>\n",
       "        <td style=\"padding-left: 1em; padding-right: 1em; text-align: center; vertical-align: top\">A</td>\n",
       "        <td style=\"padding-left: 1em; padding-right: 1em; text-align: center; vertical-align: top\">A</td>\n",
       "        <td style=\"padding-left: 1em; padding-right: 1em; text-align: center; vertical-align: top\">10/24/14</td>\n",
       "        <td style=\"padding-left: 1em; padding-right: 1em; text-align: center; vertical-align: top\">None</td>\n",
       "        <td style=\"padding-left: 1em; padding-right: 1em; text-align: center; vertical-align: top\">7/9/15</td>\n",
       "    </tr>\n",
       "    <tr>\n",
       "        <td style=\"padding-left: 1em; padding-right: 1em; text-align: center; vertical-align: top\">89145</td>\n",
       "        <td style=\"padding-left: 1em; padding-right: 1em; text-align: center; vertical-align: top\">A</td>\n",
       "        <td style=\"padding-left: 1em; padding-right: 1em; text-align: center; vertical-align: top\">A</td>\n",
       "        <td style=\"padding-left: 1em; padding-right: 1em; text-align: center; vertical-align: top\">10/24/14</td>\n",
       "        <td style=\"padding-left: 1em; padding-right: 1em; text-align: center; vertical-align: top\">None</td>\n",
       "        <td style=\"padding-left: 1em; padding-right: 1em; text-align: center; vertical-align: top\">7/9/15</td>\n",
       "    </tr>\n",
       "    <tr>\n",
       "        <td style=\"padding-left: 1em; padding-right: 1em; text-align: center; vertical-align: top\">89145</td>\n",
       "        <td style=\"padding-left: 1em; padding-right: 1em; text-align: center; vertical-align: top\">A</td>\n",
       "        <td style=\"padding-left: 1em; padding-right: 1em; text-align: center; vertical-align: top\">A</td>\n",
       "        <td style=\"padding-left: 1em; padding-right: 1em; text-align: center; vertical-align: top\">10/24/14</td>\n",
       "        <td style=\"padding-left: 1em; padding-right: 1em; text-align: center; vertical-align: top\">None</td>\n",
       "        <td style=\"padding-left: 1em; padding-right: 1em; text-align: center; vertical-align: top\">7/9/15</td>\n",
       "    </tr>\n",
       "    <tr>\n",
       "        <td style=\"padding-left: 1em; padding-right: 1em; text-align: center; vertical-align: top\">89145</td>\n",
       "        <td style=\"padding-left: 1em; padding-right: 1em; text-align: center; vertical-align: top\">A</td>\n",
       "        <td style=\"padding-left: 1em; padding-right: 1em; text-align: center; vertical-align: top\">A</td>\n",
       "        <td style=\"padding-left: 1em; padding-right: 1em; text-align: center; vertical-align: top\">10/24/14</td>\n",
       "        <td style=\"padding-left: 1em; padding-right: 1em; text-align: center; vertical-align: top\">None</td>\n",
       "        <td style=\"padding-left: 1em; padding-right: 1em; text-align: center; vertical-align: top\">7/9/15</td>\n",
       "    </tr>\n",
       "    <tr>\n",
       "        <td style=\"padding-left: 1em; padding-right: 1em; text-align: center; vertical-align: top\">89145</td>\n",
       "        <td style=\"padding-left: 1em; padding-right: 1em; text-align: center; vertical-align: top\">A</td>\n",
       "        <td style=\"padding-left: 1em; padding-right: 1em; text-align: center; vertical-align: top\">A</td>\n",
       "        <td style=\"padding-left: 1em; padding-right: 1em; text-align: center; vertical-align: top\">10/24/14</td>\n",
       "        <td style=\"padding-left: 1em; padding-right: 1em; text-align: center; vertical-align: top\">None</td>\n",
       "        <td style=\"padding-left: 1em; padding-right: 1em; text-align: center; vertical-align: top\">7/9/15</td>\n",
       "    </tr>\n",
       "</table>\n",
       "<table frame=\"box\" rules=\"cols\">\n",
       "    <tr>\n",
       "        <th style=\"padding-left: 1em; padding-right: 1em; text-align: center\">Location 1</th>\n",
       "        <th style=\"padding-left: 1em; padding-right: 1em; text-align: center\">user_id</th>\n",
       "        <th style=\"padding-left: 1em; padding-right: 1em; text-align: center\">review_id</th>\n",
       "        <th style=\"padding-left: 1em; padding-right: 1em; text-align: center\">business_id</th>\n",
       "        <th style=\"padding-left: 1em; padding-right: 1em; text-align: center\">rev_stars</th>\n",
       "        <th style=\"padding-left: 1em; padding-right: 1em; text-align: center\">rev_date</th>\n",
       "    </tr>\n",
       "    <tr>\n",
       "        <td style=\"padding-left: 1em; padding-right: 1em; text-align: center; vertical-align: top\">(36.1715383,<br>-115.2442591) ...</td>\n",
       "        <td style=\"padding-left: 1em; padding-right: 1em; text-align: center; vertical-align: top\">lJ4NkD1LIfCCxcm2hU04vg</td>\n",
       "        <td style=\"padding-left: 1em; padding-right: 1em; text-align: center; vertical-align: top\">EZxPDohUjaahzuHfnp2FBA</td>\n",
       "        <td style=\"padding-left: 1em; padding-right: 1em; text-align: center; vertical-align: top\">ufmokEGxGqEWIdvIVsNg_Q</td>\n",
       "        <td style=\"padding-left: 1em; padding-right: 1em; text-align: center; vertical-align: top\">4</td>\n",
       "        <td style=\"padding-left: 1em; padding-right: 1em; text-align: center; vertical-align: top\">4/10/15</td>\n",
       "    </tr>\n",
       "    <tr>\n",
       "        <td style=\"padding-left: 1em; padding-right: 1em; text-align: center; vertical-align: top\">(36.1715383,<br>-115.2442591) ...</td>\n",
       "        <td style=\"padding-left: 1em; padding-right: 1em; text-align: center; vertical-align: top\">_OH1vsgO_QVmmI_9BaEzBw</td>\n",
       "        <td style=\"padding-left: 1em; padding-right: 1em; text-align: center; vertical-align: top\">yYm2JpAKblVI3rcUODHKJA</td>\n",
       "        <td style=\"padding-left: 1em; padding-right: 1em; text-align: center; vertical-align: top\">ufmokEGxGqEWIdvIVsNg_Q</td>\n",
       "        <td style=\"padding-left: 1em; padding-right: 1em; text-align: center; vertical-align: top\">5</td>\n",
       "        <td style=\"padding-left: 1em; padding-right: 1em; text-align: center; vertical-align: top\">2/13/15</td>\n",
       "    </tr>\n",
       "    <tr>\n",
       "        <td style=\"padding-left: 1em; padding-right: 1em; text-align: center; vertical-align: top\">(36.1715383,<br>-115.2442591) ...</td>\n",
       "        <td style=\"padding-left: 1em; padding-right: 1em; text-align: center; vertical-align: top\">Q3LokcKH-GK4HMyQo8aLuw</td>\n",
       "        <td style=\"padding-left: 1em; padding-right: 1em; text-align: center; vertical-align: top\">VknreguAe2VzgEg-7ouNOg</td>\n",
       "        <td style=\"padding-left: 1em; padding-right: 1em; text-align: center; vertical-align: top\">ufmokEGxGqEWIdvIVsNg_Q</td>\n",
       "        <td style=\"padding-left: 1em; padding-right: 1em; text-align: center; vertical-align: top\">5</td>\n",
       "        <td style=\"padding-left: 1em; padding-right: 1em; text-align: center; vertical-align: top\">2/22/15</td>\n",
       "    </tr>\n",
       "    <tr>\n",
       "        <td style=\"padding-left: 1em; padding-right: 1em; text-align: center; vertical-align: top\">(36.1715383,<br>-115.2442591) ...</td>\n",
       "        <td style=\"padding-left: 1em; padding-right: 1em; text-align: center; vertical-align: top\">gmB4FosCp9Oquc55iMSi5A</td>\n",
       "        <td style=\"padding-left: 1em; padding-right: 1em; text-align: center; vertical-align: top\">KcADsT0A2MpUl0qQ3fpfng</td>\n",
       "        <td style=\"padding-left: 1em; padding-right: 1em; text-align: center; vertical-align: top\">ufmokEGxGqEWIdvIVsNg_Q</td>\n",
       "        <td style=\"padding-left: 1em; padding-right: 1em; text-align: center; vertical-align: top\">5</td>\n",
       "        <td style=\"padding-left: 1em; padding-right: 1em; text-align: center; vertical-align: top\">2/24/15</td>\n",
       "    </tr>\n",
       "    <tr>\n",
       "        <td style=\"padding-left: 1em; padding-right: 1em; text-align: center; vertical-align: top\">(36.1715383,<br>-115.2442591) ...</td>\n",
       "        <td style=\"padding-left: 1em; padding-right: 1em; text-align: center; vertical-align: top\">3mZFkwfa6XV0BBazRTva9w</td>\n",
       "        <td style=\"padding-left: 1em; padding-right: 1em; text-align: center; vertical-align: top\">daGPgA0TITTYDI-2yQKqaQ</td>\n",
       "        <td style=\"padding-left: 1em; padding-right: 1em; text-align: center; vertical-align: top\">ufmokEGxGqEWIdvIVsNg_Q</td>\n",
       "        <td style=\"padding-left: 1em; padding-right: 1em; text-align: center; vertical-align: top\">5</td>\n",
       "        <td style=\"padding-left: 1em; padding-right: 1em; text-align: center; vertical-align: top\">1/15/15</td>\n",
       "    </tr>\n",
       "</table>\n",
       "<table frame=\"box\" rules=\"cols\">\n",
       "    <tr>\n",
       "        <th style=\"padding-left: 1em; padding-right: 1em; text-align: center\">rev_text</th>\n",
       "        <th style=\"padding-left: 1em; padding-right: 1em; text-align: center\">rev_funny</th>\n",
       "        <th style=\"padding-left: 1em; padding-right: 1em; text-align: center\">rev_useful</th>\n",
       "        <th style=\"padding-left: 1em; padding-right: 1em; text-align: center\">rev_cool</th>\n",
       "        <th style=\"padding-left: 1em; padding-right: 1em; text-align: center\">usr_revcnt</th>\n",
       "        <th style=\"padding-left: 1em; padding-right: 1em; text-align: center\">usr_avgrating</th>\n",
       "        <th style=\"padding-left: 1em; padding-right: 1em; text-align: center\">usr_name</th>\n",
       "        <th style=\"padding-left: 1em; padding-right: 1em; text-align: center\">city</th>\n",
       "    </tr>\n",
       "    <tr>\n",
       "        <td style=\"padding-left: 1em; padding-right: 1em; text-align: center; vertical-align: top\">This place is great , I<br>would definitely ...</td>\n",
       "        <td style=\"padding-left: 1em; padding-right: 1em; text-align: center; vertical-align: top\">0</td>\n",
       "        <td style=\"padding-left: 1em; padding-right: 1em; text-align: center; vertical-align: top\">0</td>\n",
       "        <td style=\"padding-left: 1em; padding-right: 1em; text-align: center; vertical-align: top\">0</td>\n",
       "        <td style=\"padding-left: 1em; padding-right: 1em; text-align: center; vertical-align: top\">25</td>\n",
       "        <td style=\"padding-left: 1em; padding-right: 1em; text-align: center; vertical-align: top\">3.48</td>\n",
       "        <td style=\"padding-left: 1em; padding-right: 1em; text-align: center; vertical-align: top\">Jenu</td>\n",
       "        <td style=\"padding-left: 1em; padding-right: 1em; text-align: center; vertical-align: top\">LAS VEGAS</td>\n",
       "    </tr>\n",
       "    <tr>\n",
       "        <td style=\"padding-left: 1em; padding-right: 1em; text-align: center; vertical-align: top\">Apart from the bread, the<br>food is homemade,  even ...</td>\n",
       "        <td style=\"padding-left: 1em; padding-right: 1em; text-align: center; vertical-align: top\">0</td>\n",
       "        <td style=\"padding-left: 1em; padding-right: 1em; text-align: center; vertical-align: top\">0</td>\n",
       "        <td style=\"padding-left: 1em; padding-right: 1em; text-align: center; vertical-align: top\">0</td>\n",
       "        <td style=\"padding-left: 1em; padding-right: 1em; text-align: center; vertical-align: top\">4</td>\n",
       "        <td style=\"padding-left: 1em; padding-right: 1em; text-align: center; vertical-align: top\">3.25</td>\n",
       "        <td style=\"padding-left: 1em; padding-right: 1em; text-align: center; vertical-align: top\">John</td>\n",
       "        <td style=\"padding-left: 1em; padding-right: 1em; text-align: center; vertical-align: top\">LAS VEGAS</td>\n",
       "    </tr>\n",
       "    <tr>\n",
       "        <td style=\"padding-left: 1em; padding-right: 1em; text-align: center; vertical-align: top\">Excellent food, excellent<br>prices (Most other pl ...</td>\n",
       "        <td style=\"padding-left: 1em; padding-right: 1em; text-align: center; vertical-align: top\">0</td>\n",
       "        <td style=\"padding-left: 1em; padding-right: 1em; text-align: center; vertical-align: top\">0</td>\n",
       "        <td style=\"padding-left: 1em; padding-right: 1em; text-align: center; vertical-align: top\">0</td>\n",
       "        <td style=\"padding-left: 1em; padding-right: 1em; text-align: center; vertical-align: top\">17</td>\n",
       "        <td style=\"padding-left: 1em; padding-right: 1em; text-align: center; vertical-align: top\">4.53</td>\n",
       "        <td style=\"padding-left: 1em; padding-right: 1em; text-align: center; vertical-align: top\">Ramsin</td>\n",
       "        <td style=\"padding-left: 1em; padding-right: 1em; text-align: center; vertical-align: top\">LAS VEGAS</td>\n",
       "    </tr>\n",
       "    <tr>\n",
       "        <td style=\"padding-left: 1em; padding-right: 1em; text-align: center; vertical-align: top\">This place is fantastic!<br>Its owned by a sweet ...</td>\n",
       "        <td style=\"padding-left: 1em; padding-right: 1em; text-align: center; vertical-align: top\">0</td>\n",
       "        <td style=\"padding-left: 1em; padding-right: 1em; text-align: center; vertical-align: top\">2</td>\n",
       "        <td style=\"padding-left: 1em; padding-right: 1em; text-align: center; vertical-align: top\">0</td>\n",
       "        <td style=\"padding-left: 1em; padding-right: 1em; text-align: center; vertical-align: top\">2</td>\n",
       "        <td style=\"padding-left: 1em; padding-right: 1em; text-align: center; vertical-align: top\">3.5</td>\n",
       "        <td style=\"padding-left: 1em; padding-right: 1em; text-align: center; vertical-align: top\">Cassandra</td>\n",
       "        <td style=\"padding-left: 1em; padding-right: 1em; text-align: center; vertical-align: top\">LAS VEGAS</td>\n",
       "    </tr>\n",
       "    <tr>\n",
       "        <td style=\"padding-left: 1em; padding-right: 1em; text-align: center; vertical-align: top\">Hidden little gem tucked<br>in the corner of a strip ...</td>\n",
       "        <td style=\"padding-left: 1em; padding-right: 1em; text-align: center; vertical-align: top\">0</td>\n",
       "        <td style=\"padding-left: 1em; padding-right: 1em; text-align: center; vertical-align: top\">0</td>\n",
       "        <td style=\"padding-left: 1em; padding-right: 1em; text-align: center; vertical-align: top\">0</td>\n",
       "        <td style=\"padding-left: 1em; padding-right: 1em; text-align: center; vertical-align: top\">37</td>\n",
       "        <td style=\"padding-left: 1em; padding-right: 1em; text-align: center; vertical-align: top\">4.23</td>\n",
       "        <td style=\"padding-left: 1em; padding-right: 1em; text-align: center; vertical-align: top\">Diane</td>\n",
       "        <td style=\"padding-left: 1em; padding-right: 1em; text-align: center; vertical-align: top\">LAS VEGAS</td>\n",
       "    </tr>\n",
       "</table>\n",
       "<table frame=\"box\" rules=\"cols\">\n",
       "    <tr>\n",
       "        <th style=\"padding-left: 1em; padding-right: 1em; text-align: center\">state</th>\n",
       "        <th style=\"padding-left: 1em; padding-right: 1em; text-align: center\">postal_code</th>\n",
       "        <th style=\"padding-left: 1em; padding-right: 1em; text-align: center\">neighborhood</th>\n",
       "        <th style=\"padding-left: 1em; padding-right: 1em; text-align: center\">latitude</th>\n",
       "        <th style=\"padding-left: 1em; padding-right: 1em; text-align: center\">longitude</th>\n",
       "        <th style=\"padding-left: 1em; padding-right: 1em; text-align: center\">bus_revcnt</th>\n",
       "        <th style=\"padding-left: 1em; padding-right: 1em; text-align: center\">bus_rating</th>\n",
       "    </tr>\n",
       "    <tr>\n",
       "        <td style=\"padding-left: 1em; padding-right: 1em; text-align: center; vertical-align: top\">NV</td>\n",
       "        <td style=\"padding-left: 1em; padding-right: 1em; text-align: center; vertical-align: top\">89145</td>\n",
       "        <td style=\"padding-left: 1em; padding-right: 1em; text-align: center; vertical-align: top\">Westside</td>\n",
       "        <td style=\"padding-left: 1em; padding-right: 1em; text-align: center; vertical-align: top\">36.17139824</td>\n",
       "        <td style=\"padding-left: 1em; padding-right: 1em; text-align: center; vertical-align: top\">-115.2455138</td>\n",
       "        <td style=\"padding-left: 1em; padding-right: 1em; text-align: center; vertical-align: top\">107</td>\n",
       "        <td style=\"padding-left: 1em; padding-right: 1em; text-align: center; vertical-align: top\">4.5</td>\n",
       "    </tr>\n",
       "    <tr>\n",
       "        <td style=\"padding-left: 1em; padding-right: 1em; text-align: center; vertical-align: top\">NV</td>\n",
       "        <td style=\"padding-left: 1em; padding-right: 1em; text-align: center; vertical-align: top\">89145</td>\n",
       "        <td style=\"padding-left: 1em; padding-right: 1em; text-align: center; vertical-align: top\">Westside</td>\n",
       "        <td style=\"padding-left: 1em; padding-right: 1em; text-align: center; vertical-align: top\">36.17139824</td>\n",
       "        <td style=\"padding-left: 1em; padding-right: 1em; text-align: center; vertical-align: top\">-115.2455138</td>\n",
       "        <td style=\"padding-left: 1em; padding-right: 1em; text-align: center; vertical-align: top\">107</td>\n",
       "        <td style=\"padding-left: 1em; padding-right: 1em; text-align: center; vertical-align: top\">4.5</td>\n",
       "    </tr>\n",
       "    <tr>\n",
       "        <td style=\"padding-left: 1em; padding-right: 1em; text-align: center; vertical-align: top\">NV</td>\n",
       "        <td style=\"padding-left: 1em; padding-right: 1em; text-align: center; vertical-align: top\">89145</td>\n",
       "        <td style=\"padding-left: 1em; padding-right: 1em; text-align: center; vertical-align: top\">Westside</td>\n",
       "        <td style=\"padding-left: 1em; padding-right: 1em; text-align: center; vertical-align: top\">36.17139824</td>\n",
       "        <td style=\"padding-left: 1em; padding-right: 1em; text-align: center; vertical-align: top\">-115.2455138</td>\n",
       "        <td style=\"padding-left: 1em; padding-right: 1em; text-align: center; vertical-align: top\">107</td>\n",
       "        <td style=\"padding-left: 1em; padding-right: 1em; text-align: center; vertical-align: top\">4.5</td>\n",
       "    </tr>\n",
       "    <tr>\n",
       "        <td style=\"padding-left: 1em; padding-right: 1em; text-align: center; vertical-align: top\">NV</td>\n",
       "        <td style=\"padding-left: 1em; padding-right: 1em; text-align: center; vertical-align: top\">89145</td>\n",
       "        <td style=\"padding-left: 1em; padding-right: 1em; text-align: center; vertical-align: top\">Westside</td>\n",
       "        <td style=\"padding-left: 1em; padding-right: 1em; text-align: center; vertical-align: top\">36.17139824</td>\n",
       "        <td style=\"padding-left: 1em; padding-right: 1em; text-align: center; vertical-align: top\">-115.2455138</td>\n",
       "        <td style=\"padding-left: 1em; padding-right: 1em; text-align: center; vertical-align: top\">107</td>\n",
       "        <td style=\"padding-left: 1em; padding-right: 1em; text-align: center; vertical-align: top\">4.5</td>\n",
       "    </tr>\n",
       "    <tr>\n",
       "        <td style=\"padding-left: 1em; padding-right: 1em; text-align: center; vertical-align: top\">NV</td>\n",
       "        <td style=\"padding-left: 1em; padding-right: 1em; text-align: center; vertical-align: top\">89145</td>\n",
       "        <td style=\"padding-left: 1em; padding-right: 1em; text-align: center; vertical-align: top\">Westside</td>\n",
       "        <td style=\"padding-left: 1em; padding-right: 1em; text-align: center; vertical-align: top\">36.17139824</td>\n",
       "        <td style=\"padding-left: 1em; padding-right: 1em; text-align: center; vertical-align: top\">-115.2455138</td>\n",
       "        <td style=\"padding-left: 1em; padding-right: 1em; text-align: center; vertical-align: top\">107</td>\n",
       "        <td style=\"padding-left: 1em; padding-right: 1em; text-align: center; vertical-align: top\">4.5</td>\n",
       "    </tr>\n",
       "</table>\n",
       "[5 rows x 34 columns]<br/>\n",
       "</div>"
      ],
      "text/plain": [
       "Columns:\n",
       "\tSerial Number\tstr\n",
       "\tPermit Number\tstr\n",
       "\tRestaurant Name\tstr\n",
       "\tLocation Name\tstr\n",
       "\tAddress\tstr\n",
       "\tCity\tstr\n",
       "\tState\tstr\n",
       "\tZip\tint\n",
       "\tCurrent Grade\tstr\n",
       "\tInspection Grade\tstr\n",
       "\tInspection Date\tstr\n",
       "\tPrior Insp Date\tstr\n",
       "\tNext Insp Date\tstr\n",
       "\tLocation 1\tstr\n",
       "\tuser_id\tstr\n",
       "\treview_id\tstr\n",
       "\tbusiness_id\tstr\n",
       "\trev_stars\tint\n",
       "\trev_date\tstr\n",
       "\trev_text\tstr\n",
       "\trev_funny\tint\n",
       "\trev_useful\tint\n",
       "\trev_cool\tint\n",
       "\tusr_revcnt\tint\n",
       "\tusr_avgrating\tfloat\n",
       "\tusr_name\tstr\n",
       "\tcity\tstr\n",
       "\tstate\tstr\n",
       "\tpostal_code\tint\n",
       "\tneighborhood\tstr\n",
       "\tlatitude\tfloat\n",
       "\tlongitude\tfloat\n",
       "\tbus_revcnt\tint\n",
       "\tbus_rating\tfloat\n",
       "\n",
       "Rows: 5\n",
       "\n",
       "Data:\n",
       "+---------------+---------------+-------------------------------+\n",
       "| Serial Number | Permit Number |        Restaurant Name        |\n",
       "+---------------+---------------+-------------------------------+\n",
       "|   DA1304620   |   PR0105774   | ARIA MEDITERRANEAN RESTAURANT |\n",
       "|   DA1304620   |   PR0105774   | ARIA MEDITERRANEAN RESTAURANT |\n",
       "|   DA1304620   |   PR0105774   | ARIA MEDITERRANEAN RESTAURANT |\n",
       "|   DA1304620   |   PR0105774   | ARIA MEDITERRANEAN RESTAURANT |\n",
       "|   DA1304620   |   PR0105774   | ARIA MEDITERRANEAN RESTAURANT |\n",
       "+---------------+---------------+-------------------------------+\n",
       "+-------------------------------+--------------------+-----------+--------+\n",
       "|         Location Name         |      Address       |    City   | State  |\n",
       "+-------------------------------+--------------------+-----------+--------+\n",
       "| ARIA MEDITERRANEAN RESTAURANT | 230 S RAINBOW BLVD | LAS VEGAS | NEVADA |\n",
       "| ARIA MEDITERRANEAN RESTAURANT | 230 S RAINBOW BLVD | LAS VEGAS | NEVADA |\n",
       "| ARIA MEDITERRANEAN RESTAURANT | 230 S RAINBOW BLVD | LAS VEGAS | NEVADA |\n",
       "| ARIA MEDITERRANEAN RESTAURANT | 230 S RAINBOW BLVD | LAS VEGAS | NEVADA |\n",
       "| ARIA MEDITERRANEAN RESTAURANT | 230 S RAINBOW BLVD | LAS VEGAS | NEVADA |\n",
       "+-------------------------------+--------------------+-----------+--------+\n",
       "+-------+---------------+------------------+-----------------+-----------------+\n",
       "|  Zip  | Current Grade | Inspection Grade | Inspection Date | Prior Insp Date |\n",
       "+-------+---------------+------------------+-----------------+-----------------+\n",
       "| 89145 |       A       |        A         |     10/24/14    |       None      |\n",
       "| 89145 |       A       |        A         |     10/24/14    |       None      |\n",
       "| 89145 |       A       |        A         |     10/24/14    |       None      |\n",
       "| 89145 |       A       |        A         |     10/24/14    |       None      |\n",
       "| 89145 |       A       |        A         |     10/24/14    |       None      |\n",
       "+-------+---------------+------------------+-----------------+-----------------+\n",
       "+----------------+----------------------------+------------------------+\n",
       "| Next Insp Date |         Location 1         |        user_id         |\n",
       "+----------------+----------------------------+------------------------+\n",
       "|     7/9/15     | (36.1715383, -115.2442591) | lJ4NkD1LIfCCxcm2hU04vg |\n",
       "|     7/9/15     | (36.1715383, -115.2442591) | _OH1vsgO_QVmmI_9BaEzBw |\n",
       "|     7/9/15     | (36.1715383, -115.2442591) | Q3LokcKH-GK4HMyQo8aLuw |\n",
       "|     7/9/15     | (36.1715383, -115.2442591) | gmB4FosCp9Oquc55iMSi5A |\n",
       "|     7/9/15     | (36.1715383, -115.2442591) | 3mZFkwfa6XV0BBazRTva9w |\n",
       "+----------------+----------------------------+------------------------+\n",
       "+------------------------+------------------------+-----------+----------+\n",
       "|       review_id        |      business_id       | rev_stars | rev_date |\n",
       "+------------------------+------------------------+-----------+----------+\n",
       "| EZxPDohUjaahzuHfnp2FBA | ufmokEGxGqEWIdvIVsNg_Q |     4     | 4/10/15  |\n",
       "| yYm2JpAKblVI3rcUODHKJA | ufmokEGxGqEWIdvIVsNg_Q |     5     | 2/13/15  |\n",
       "| VknreguAe2VzgEg-7ouNOg | ufmokEGxGqEWIdvIVsNg_Q |     5     | 2/22/15  |\n",
       "| KcADsT0A2MpUl0qQ3fpfng | ufmokEGxGqEWIdvIVsNg_Q |     5     | 2/24/15  |\n",
       "| daGPgA0TITTYDI-2yQKqaQ | ufmokEGxGqEWIdvIVsNg_Q |     5     | 1/15/15  |\n",
       "+------------------------+------------------------+-----------+----------+\n",
       "+-------------------------------+-----+\n",
       "|            rev_text           | ... |\n",
       "+-------------------------------+-----+\n",
       "| This place is great , I wo... | ... |\n",
       "| Apart from the bread, the ... | ... |\n",
       "| Excellent food, excellent ... | ... |\n",
       "| This place is fantastic! I... | ... |\n",
       "| Hidden little gem tucked i... | ... |\n",
       "+-------------------------------+-----+\n",
       "[5 rows x 34 columns]"
      ]
     },
     "execution_count": 2,
     "metadata": {},
     "output_type": "execute_result"
    }
   ],
   "source": [
    "sf_LVRevJoin = gl.SFrame.read_csv('/home/ubuntu/LARA_Python/data/LVInspRevJoin_Clean_Deduped.csv')\n",
    "sf_LVRevJoin.head(5)"
   ]
  },
  {
   "cell_type": "code",
   "execution_count": 21,
   "metadata": {
    "collapsed": false
   },
   "outputs": [],
   "source": [
    "gl.canvas.set_target('ipynb')\n",
    "#sf_train['inspection_grade'].show()\n",
    "stopwords = gl.text_analytics.stopwords()\n",
    "stopwords.add(\"it's\")\n",
    "stopwords.add(\"-\")\n",
    "stopwords.add(\"&\")\n",
    "stopwords.add(\"--\")\n",
    "stopwords.add(\"2\")\n",
    "stopwords.add(\"i'm\")\n",
    "stopwords.add(\"it\")\n",
    "stopwords.add(\"vegas.\")\n",
    "stopwords.add(\"vegas\")\n",
    "stopwords.add(\"las\")\n",
    "stopwords.add(\".\")\n",
    "stopwords.add(\"i've\")\n",
    "stopwords.add(\"5\")\n",
    "\n",
    "sf_LVRevJoinClean = sf_LVRevJoin.dropna()"
   ]
  },
  {
   "cell_type": "code",
   "execution_count": 4,
   "metadata": {
    "collapsed": false
   },
   "outputs": [
    {
     "data": {
      "text/html": [
       "<div style=\"max-height:1000px;max-width:1500px;overflow:auto;\"><table frame=\"box\" rules=\"cols\">\n",
       "    <tr>\n",
       "        <th style=\"padding-left: 1em; padding-right: 1em; text-align: center\">Serial Number</th>\n",
       "        <th style=\"padding-left: 1em; padding-right: 1em; text-align: center\">Permit Number</th>\n",
       "        <th style=\"padding-left: 1em; padding-right: 1em; text-align: center\">Restaurant Name</th>\n",
       "        <th style=\"padding-left: 1em; padding-right: 1em; text-align: center\">Location Name</th>\n",
       "        <th style=\"padding-left: 1em; padding-right: 1em; text-align: center\">Address</th>\n",
       "        <th style=\"padding-left: 1em; padding-right: 1em; text-align: center\">City</th>\n",
       "        <th style=\"padding-left: 1em; padding-right: 1em; text-align: center\">State</th>\n",
       "    </tr>\n",
       "    <tr>\n",
       "        <td style=\"padding-left: 1em; padding-right: 1em; text-align: center; vertical-align: top\">DA1548277</td>\n",
       "        <td style=\"padding-left: 1em; padding-right: 1em; text-align: center; vertical-align: top\">PR0105774</td>\n",
       "        <td style=\"padding-left: 1em; padding-right: 1em; text-align: center; vertical-align: top\">ARIA MEDITERRANEAN<br>RESTAURANT ...</td>\n",
       "        <td style=\"padding-left: 1em; padding-right: 1em; text-align: center; vertical-align: top\">ARIA MEDITERRANEAN<br>RESTAURANT ...</td>\n",
       "        <td style=\"padding-left: 1em; padding-right: 1em; text-align: center; vertical-align: top\">230 S RAINBOW BLVD</td>\n",
       "        <td style=\"padding-left: 1em; padding-right: 1em; text-align: center; vertical-align: top\">LAS VEGAS</td>\n",
       "        <td style=\"padding-left: 1em; padding-right: 1em; text-align: center; vertical-align: top\">NEVADA</td>\n",
       "    </tr>\n",
       "    <tr>\n",
       "        <td style=\"padding-left: 1em; padding-right: 1em; text-align: center; vertical-align: top\">DA1548277</td>\n",
       "        <td style=\"padding-left: 1em; padding-right: 1em; text-align: center; vertical-align: top\">PR0105774</td>\n",
       "        <td style=\"padding-left: 1em; padding-right: 1em; text-align: center; vertical-align: top\">ARIA MEDITERRANEAN<br>RESTAURANT ...</td>\n",
       "        <td style=\"padding-left: 1em; padding-right: 1em; text-align: center; vertical-align: top\">ARIA MEDITERRANEAN<br>RESTAURANT ...</td>\n",
       "        <td style=\"padding-left: 1em; padding-right: 1em; text-align: center; vertical-align: top\">230 S RAINBOW BLVD</td>\n",
       "        <td style=\"padding-left: 1em; padding-right: 1em; text-align: center; vertical-align: top\">LAS VEGAS</td>\n",
       "        <td style=\"padding-left: 1em; padding-right: 1em; text-align: center; vertical-align: top\">NEVADA</td>\n",
       "    </tr>\n",
       "    <tr>\n",
       "        <td style=\"padding-left: 1em; padding-right: 1em; text-align: center; vertical-align: top\">DA1548277</td>\n",
       "        <td style=\"padding-left: 1em; padding-right: 1em; text-align: center; vertical-align: top\">PR0105774</td>\n",
       "        <td style=\"padding-left: 1em; padding-right: 1em; text-align: center; vertical-align: top\">ARIA MEDITERRANEAN<br>RESTAURANT ...</td>\n",
       "        <td style=\"padding-left: 1em; padding-right: 1em; text-align: center; vertical-align: top\">ARIA MEDITERRANEAN<br>RESTAURANT ...</td>\n",
       "        <td style=\"padding-left: 1em; padding-right: 1em; text-align: center; vertical-align: top\">230 S RAINBOW BLVD</td>\n",
       "        <td style=\"padding-left: 1em; padding-right: 1em; text-align: center; vertical-align: top\">LAS VEGAS</td>\n",
       "        <td style=\"padding-left: 1em; padding-right: 1em; text-align: center; vertical-align: top\">NEVADA</td>\n",
       "    </tr>\n",
       "    <tr>\n",
       "        <td style=\"padding-left: 1em; padding-right: 1em; text-align: center; vertical-align: top\">DA1548277</td>\n",
       "        <td style=\"padding-left: 1em; padding-right: 1em; text-align: center; vertical-align: top\">PR0105774</td>\n",
       "        <td style=\"padding-left: 1em; padding-right: 1em; text-align: center; vertical-align: top\">ARIA MEDITERRANEAN<br>RESTAURANT ...</td>\n",
       "        <td style=\"padding-left: 1em; padding-right: 1em; text-align: center; vertical-align: top\">ARIA MEDITERRANEAN<br>RESTAURANT ...</td>\n",
       "        <td style=\"padding-left: 1em; padding-right: 1em; text-align: center; vertical-align: top\">230 S RAINBOW BLVD</td>\n",
       "        <td style=\"padding-left: 1em; padding-right: 1em; text-align: center; vertical-align: top\">LAS VEGAS</td>\n",
       "        <td style=\"padding-left: 1em; padding-right: 1em; text-align: center; vertical-align: top\">NEVADA</td>\n",
       "    </tr>\n",
       "    <tr>\n",
       "        <td style=\"padding-left: 1em; padding-right: 1em; text-align: center; vertical-align: top\">DA1548277</td>\n",
       "        <td style=\"padding-left: 1em; padding-right: 1em; text-align: center; vertical-align: top\">PR0105774</td>\n",
       "        <td style=\"padding-left: 1em; padding-right: 1em; text-align: center; vertical-align: top\">ARIA MEDITERRANEAN<br>RESTAURANT ...</td>\n",
       "        <td style=\"padding-left: 1em; padding-right: 1em; text-align: center; vertical-align: top\">ARIA MEDITERRANEAN<br>RESTAURANT ...</td>\n",
       "        <td style=\"padding-left: 1em; padding-right: 1em; text-align: center; vertical-align: top\">230 S RAINBOW BLVD</td>\n",
       "        <td style=\"padding-left: 1em; padding-right: 1em; text-align: center; vertical-align: top\">LAS VEGAS</td>\n",
       "        <td style=\"padding-left: 1em; padding-right: 1em; text-align: center; vertical-align: top\">NEVADA</td>\n",
       "    </tr>\n",
       "</table>\n",
       "<table frame=\"box\" rules=\"cols\">\n",
       "    <tr>\n",
       "        <th style=\"padding-left: 1em; padding-right: 1em; text-align: center\">Zip</th>\n",
       "        <th style=\"padding-left: 1em; padding-right: 1em; text-align: center\">Current Grade</th>\n",
       "        <th style=\"padding-left: 1em; padding-right: 1em; text-align: center\">Inspection Grade</th>\n",
       "        <th style=\"padding-left: 1em; padding-right: 1em; text-align: center\">Inspection Date</th>\n",
       "        <th style=\"padding-left: 1em; padding-right: 1em; text-align: center\">Prior Insp Date</th>\n",
       "        <th style=\"padding-left: 1em; padding-right: 1em; text-align: center\">Next Insp Date</th>\n",
       "    </tr>\n",
       "    <tr>\n",
       "        <td style=\"padding-left: 1em; padding-right: 1em; text-align: center; vertical-align: top\">89145</td>\n",
       "        <td style=\"padding-left: 1em; padding-right: 1em; text-align: center; vertical-align: top\">A</td>\n",
       "        <td style=\"padding-left: 1em; padding-right: 1em; text-align: center; vertical-align: top\">A</td>\n",
       "        <td style=\"padding-left: 1em; padding-right: 1em; text-align: center; vertical-align: top\">7/9/15</td>\n",
       "        <td style=\"padding-left: 1em; padding-right: 1em; text-align: center; vertical-align: top\">10/24/14</td>\n",
       "        <td style=\"padding-left: 1em; padding-right: 1em; text-align: center; vertical-align: top\">2/3/16</td>\n",
       "    </tr>\n",
       "    <tr>\n",
       "        <td style=\"padding-left: 1em; padding-right: 1em; text-align: center; vertical-align: top\">89145</td>\n",
       "        <td style=\"padding-left: 1em; padding-right: 1em; text-align: center; vertical-align: top\">A</td>\n",
       "        <td style=\"padding-left: 1em; padding-right: 1em; text-align: center; vertical-align: top\">A</td>\n",
       "        <td style=\"padding-left: 1em; padding-right: 1em; text-align: center; vertical-align: top\">7/9/15</td>\n",
       "        <td style=\"padding-left: 1em; padding-right: 1em; text-align: center; vertical-align: top\">10/24/14</td>\n",
       "        <td style=\"padding-left: 1em; padding-right: 1em; text-align: center; vertical-align: top\">2/3/16</td>\n",
       "    </tr>\n",
       "    <tr>\n",
       "        <td style=\"padding-left: 1em; padding-right: 1em; text-align: center; vertical-align: top\">89145</td>\n",
       "        <td style=\"padding-left: 1em; padding-right: 1em; text-align: center; vertical-align: top\">A</td>\n",
       "        <td style=\"padding-left: 1em; padding-right: 1em; text-align: center; vertical-align: top\">A</td>\n",
       "        <td style=\"padding-left: 1em; padding-right: 1em; text-align: center; vertical-align: top\">7/9/15</td>\n",
       "        <td style=\"padding-left: 1em; padding-right: 1em; text-align: center; vertical-align: top\">10/24/14</td>\n",
       "        <td style=\"padding-left: 1em; padding-right: 1em; text-align: center; vertical-align: top\">2/3/16</td>\n",
       "    </tr>\n",
       "    <tr>\n",
       "        <td style=\"padding-left: 1em; padding-right: 1em; text-align: center; vertical-align: top\">89145</td>\n",
       "        <td style=\"padding-left: 1em; padding-right: 1em; text-align: center; vertical-align: top\">A</td>\n",
       "        <td style=\"padding-left: 1em; padding-right: 1em; text-align: center; vertical-align: top\">A</td>\n",
       "        <td style=\"padding-left: 1em; padding-right: 1em; text-align: center; vertical-align: top\">7/9/15</td>\n",
       "        <td style=\"padding-left: 1em; padding-right: 1em; text-align: center; vertical-align: top\">10/24/14</td>\n",
       "        <td style=\"padding-left: 1em; padding-right: 1em; text-align: center; vertical-align: top\">2/3/16</td>\n",
       "    </tr>\n",
       "    <tr>\n",
       "        <td style=\"padding-left: 1em; padding-right: 1em; text-align: center; vertical-align: top\">89145</td>\n",
       "        <td style=\"padding-left: 1em; padding-right: 1em; text-align: center; vertical-align: top\">A</td>\n",
       "        <td style=\"padding-left: 1em; padding-right: 1em; text-align: center; vertical-align: top\">A</td>\n",
       "        <td style=\"padding-left: 1em; padding-right: 1em; text-align: center; vertical-align: top\">7/9/15</td>\n",
       "        <td style=\"padding-left: 1em; padding-right: 1em; text-align: center; vertical-align: top\">10/24/14</td>\n",
       "        <td style=\"padding-left: 1em; padding-right: 1em; text-align: center; vertical-align: top\">2/3/16</td>\n",
       "    </tr>\n",
       "</table>\n",
       "<table frame=\"box\" rules=\"cols\">\n",
       "    <tr>\n",
       "        <th style=\"padding-left: 1em; padding-right: 1em; text-align: center\">Location 1</th>\n",
       "        <th style=\"padding-left: 1em; padding-right: 1em; text-align: center\">user_id</th>\n",
       "        <th style=\"padding-left: 1em; padding-right: 1em; text-align: center\">review_id</th>\n",
       "        <th style=\"padding-left: 1em; padding-right: 1em; text-align: center\">business_id</th>\n",
       "        <th style=\"padding-left: 1em; padding-right: 1em; text-align: center\">rev_stars</th>\n",
       "        <th style=\"padding-left: 1em; padding-right: 1em; text-align: center\">rev_date</th>\n",
       "    </tr>\n",
       "    <tr>\n",
       "        <td style=\"padding-left: 1em; padding-right: 1em; text-align: center; vertical-align: top\">(36.1715383,<br>-115.2442591) ...</td>\n",
       "        <td style=\"padding-left: 1em; padding-right: 1em; text-align: center; vertical-align: top\">_UwZg-ztV7gc9u0zsRSHxA</td>\n",
       "        <td style=\"padding-left: 1em; padding-right: 1em; text-align: center; vertical-align: top\">R_ZcGSAZ-lran8p_LLF2UQ</td>\n",
       "        <td style=\"padding-left: 1em; padding-right: 1em; text-align: center; vertical-align: top\">ufmokEGxGqEWIdvIVsNg_Q</td>\n",
       "        <td style=\"padding-left: 1em; padding-right: 1em; text-align: center; vertical-align: top\">5</td>\n",
       "        <td style=\"padding-left: 1em; padding-right: 1em; text-align: center; vertical-align: top\">8/24/15</td>\n",
       "    </tr>\n",
       "    <tr>\n",
       "        <td style=\"padding-left: 1em; padding-right: 1em; text-align: center; vertical-align: top\">(36.1715383,<br>-115.2442591) ...</td>\n",
       "        <td style=\"padding-left: 1em; padding-right: 1em; text-align: center; vertical-align: top\">lJ4NkD1LIfCCxcm2hU04vg</td>\n",
       "        <td style=\"padding-left: 1em; padding-right: 1em; text-align: center; vertical-align: top\">EZxPDohUjaahzuHfnp2FBA</td>\n",
       "        <td style=\"padding-left: 1em; padding-right: 1em; text-align: center; vertical-align: top\">ufmokEGxGqEWIdvIVsNg_Q</td>\n",
       "        <td style=\"padding-left: 1em; padding-right: 1em; text-align: center; vertical-align: top\">4</td>\n",
       "        <td style=\"padding-left: 1em; padding-right: 1em; text-align: center; vertical-align: top\">4/10/15</td>\n",
       "    </tr>\n",
       "    <tr>\n",
       "        <td style=\"padding-left: 1em; padding-right: 1em; text-align: center; vertical-align: top\">(36.1715383,<br>-115.2442591) ...</td>\n",
       "        <td style=\"padding-left: 1em; padding-right: 1em; text-align: center; vertical-align: top\">5WRtuCkmQmzgogUdc32NWw</td>\n",
       "        <td style=\"padding-left: 1em; padding-right: 1em; text-align: center; vertical-align: top\">YDzrLqALeVQHgQFjX_bKQg</td>\n",
       "        <td style=\"padding-left: 1em; padding-right: 1em; text-align: center; vertical-align: top\">ufmokEGxGqEWIdvIVsNg_Q</td>\n",
       "        <td style=\"padding-left: 1em; padding-right: 1em; text-align: center; vertical-align: top\">5</td>\n",
       "        <td style=\"padding-left: 1em; padding-right: 1em; text-align: center; vertical-align: top\">12/27/15</td>\n",
       "    </tr>\n",
       "    <tr>\n",
       "        <td style=\"padding-left: 1em; padding-right: 1em; text-align: center; vertical-align: top\">(36.1715383,<br>-115.2442591) ...</td>\n",
       "        <td style=\"padding-left: 1em; padding-right: 1em; text-align: center; vertical-align: top\">_OH1vsgO_QVmmI_9BaEzBw</td>\n",
       "        <td style=\"padding-left: 1em; padding-right: 1em; text-align: center; vertical-align: top\">yYm2JpAKblVI3rcUODHKJA</td>\n",
       "        <td style=\"padding-left: 1em; padding-right: 1em; text-align: center; vertical-align: top\">ufmokEGxGqEWIdvIVsNg_Q</td>\n",
       "        <td style=\"padding-left: 1em; padding-right: 1em; text-align: center; vertical-align: top\">5</td>\n",
       "        <td style=\"padding-left: 1em; padding-right: 1em; text-align: center; vertical-align: top\">2/13/15</td>\n",
       "    </tr>\n",
       "    <tr>\n",
       "        <td style=\"padding-left: 1em; padding-right: 1em; text-align: center; vertical-align: top\">(36.1715383,<br>-115.2442591) ...</td>\n",
       "        <td style=\"padding-left: 1em; padding-right: 1em; text-align: center; vertical-align: top\">SW94-PYKH1ffp4h24eNyGQ</td>\n",
       "        <td style=\"padding-left: 1em; padding-right: 1em; text-align: center; vertical-align: top\">AKSAVVCNy1ctuiGAxUy_eA</td>\n",
       "        <td style=\"padding-left: 1em; padding-right: 1em; text-align: center; vertical-align: top\">ufmokEGxGqEWIdvIVsNg_Q</td>\n",
       "        <td style=\"padding-left: 1em; padding-right: 1em; text-align: center; vertical-align: top\">5</td>\n",
       "        <td style=\"padding-left: 1em; padding-right: 1em; text-align: center; vertical-align: top\">12/13/15</td>\n",
       "    </tr>\n",
       "</table>\n",
       "<table frame=\"box\" rules=\"cols\">\n",
       "    <tr>\n",
       "        <th style=\"padding-left: 1em; padding-right: 1em; text-align: center\">rev_text</th>\n",
       "        <th style=\"padding-left: 1em; padding-right: 1em; text-align: center\">rev_funny</th>\n",
       "        <th style=\"padding-left: 1em; padding-right: 1em; text-align: center\">rev_useful</th>\n",
       "        <th style=\"padding-left: 1em; padding-right: 1em; text-align: center\">rev_cool</th>\n",
       "        <th style=\"padding-left: 1em; padding-right: 1em; text-align: center\">usr_revcnt</th>\n",
       "        <th style=\"padding-left: 1em; padding-right: 1em; text-align: center\">usr_avgrating</th>\n",
       "        <th style=\"padding-left: 1em; padding-right: 1em; text-align: center\">usr_name</th>\n",
       "        <th style=\"padding-left: 1em; padding-right: 1em; text-align: center\">city</th>\n",
       "    </tr>\n",
       "    <tr>\n",
       "        <td style=\"padding-left: 1em; padding-right: 1em; text-align: center; vertical-align: top\">Excellent food. I have<br>eaten here several times ...</td>\n",
       "        <td style=\"padding-left: 1em; padding-right: 1em; text-align: center; vertical-align: top\">0</td>\n",
       "        <td style=\"padding-left: 1em; padding-right: 1em; text-align: center; vertical-align: top\">1</td>\n",
       "        <td style=\"padding-left: 1em; padding-right: 1em; text-align: center; vertical-align: top\">2</td>\n",
       "        <td style=\"padding-left: 1em; padding-right: 1em; text-align: center; vertical-align: top\">67</td>\n",
       "        <td style=\"padding-left: 1em; padding-right: 1em; text-align: center; vertical-align: top\">2.7</td>\n",
       "        <td style=\"padding-left: 1em; padding-right: 1em; text-align: center; vertical-align: top\">Claude</td>\n",
       "        <td style=\"padding-left: 1em; padding-right: 1em; text-align: center; vertical-align: top\">LAS VEGAS</td>\n",
       "    </tr>\n",
       "    <tr>\n",
       "        <td style=\"padding-left: 1em; padding-right: 1em; text-align: center; vertical-align: top\">This place is great , I<br>would definitely ...</td>\n",
       "        <td style=\"padding-left: 1em; padding-right: 1em; text-align: center; vertical-align: top\">0</td>\n",
       "        <td style=\"padding-left: 1em; padding-right: 1em; text-align: center; vertical-align: top\">0</td>\n",
       "        <td style=\"padding-left: 1em; padding-right: 1em; text-align: center; vertical-align: top\">0</td>\n",
       "        <td style=\"padding-left: 1em; padding-right: 1em; text-align: center; vertical-align: top\">25</td>\n",
       "        <td style=\"padding-left: 1em; padding-right: 1em; text-align: center; vertical-align: top\">3.48</td>\n",
       "        <td style=\"padding-left: 1em; padding-right: 1em; text-align: center; vertical-align: top\">Jenu</td>\n",
       "        <td style=\"padding-left: 1em; padding-right: 1em; text-align: center; vertical-align: top\">LAS VEGAS</td>\n",
       "    </tr>\n",
       "    <tr>\n",
       "        <td style=\"padding-left: 1em; padding-right: 1em; text-align: center; vertical-align: top\">Best persian food.<br>Awesome shishlik (lamp ...</td>\n",
       "        <td style=\"padding-left: 1em; padding-right: 1em; text-align: center; vertical-align: top\">0</td>\n",
       "        <td style=\"padding-left: 1em; padding-right: 1em; text-align: center; vertical-align: top\">0</td>\n",
       "        <td style=\"padding-left: 1em; padding-right: 1em; text-align: center; vertical-align: top\">0</td>\n",
       "        <td style=\"padding-left: 1em; padding-right: 1em; text-align: center; vertical-align: top\">4</td>\n",
       "        <td style=\"padding-left: 1em; padding-right: 1em; text-align: center; vertical-align: top\">4.0</td>\n",
       "        <td style=\"padding-left: 1em; padding-right: 1em; text-align: center; vertical-align: top\">fred</td>\n",
       "        <td style=\"padding-left: 1em; padding-right: 1em; text-align: center; vertical-align: top\">LAS VEGAS</td>\n",
       "    </tr>\n",
       "    <tr>\n",
       "        <td style=\"padding-left: 1em; padding-right: 1em; text-align: center; vertical-align: top\">Apart from the bread, the<br>food is homemade,  even ...</td>\n",
       "        <td style=\"padding-left: 1em; padding-right: 1em; text-align: center; vertical-align: top\">0</td>\n",
       "        <td style=\"padding-left: 1em; padding-right: 1em; text-align: center; vertical-align: top\">0</td>\n",
       "        <td style=\"padding-left: 1em; padding-right: 1em; text-align: center; vertical-align: top\">0</td>\n",
       "        <td style=\"padding-left: 1em; padding-right: 1em; text-align: center; vertical-align: top\">4</td>\n",
       "        <td style=\"padding-left: 1em; padding-right: 1em; text-align: center; vertical-align: top\">3.25</td>\n",
       "        <td style=\"padding-left: 1em; padding-right: 1em; text-align: center; vertical-align: top\">John</td>\n",
       "        <td style=\"padding-left: 1em; padding-right: 1em; text-align: center; vertical-align: top\">LAS VEGAS</td>\n",
       "    </tr>\n",
       "    <tr>\n",
       "        <td style=\"padding-left: 1em; padding-right: 1em; text-align: center; vertical-align: top\">I got the beef koobideh<br>with rice. It was very ...</td>\n",
       "        <td style=\"padding-left: 1em; padding-right: 1em; text-align: center; vertical-align: top\">0</td>\n",
       "        <td style=\"padding-left: 1em; padding-right: 1em; text-align: center; vertical-align: top\">0</td>\n",
       "        <td style=\"padding-left: 1em; padding-right: 1em; text-align: center; vertical-align: top\">0</td>\n",
       "        <td style=\"padding-left: 1em; padding-right: 1em; text-align: center; vertical-align: top\">1</td>\n",
       "        <td style=\"padding-left: 1em; padding-right: 1em; text-align: center; vertical-align: top\">5.0</td>\n",
       "        <td style=\"padding-left: 1em; padding-right: 1em; text-align: center; vertical-align: top\">Tony</td>\n",
       "        <td style=\"padding-left: 1em; padding-right: 1em; text-align: center; vertical-align: top\">LAS VEGAS</td>\n",
       "    </tr>\n",
       "</table>\n",
       "<table frame=\"box\" rules=\"cols\">\n",
       "    <tr>\n",
       "        <th style=\"padding-left: 1em; padding-right: 1em; text-align: center\">state</th>\n",
       "        <th style=\"padding-left: 1em; padding-right: 1em; text-align: center\">postal_code</th>\n",
       "        <th style=\"padding-left: 1em; padding-right: 1em; text-align: center\">neighborhood</th>\n",
       "        <th style=\"padding-left: 1em; padding-right: 1em; text-align: center\">latitude</th>\n",
       "        <th style=\"padding-left: 1em; padding-right: 1em; text-align: center\">longitude</th>\n",
       "        <th style=\"padding-left: 1em; padding-right: 1em; text-align: center\">bus_revcnt</th>\n",
       "        <th style=\"padding-left: 1em; padding-right: 1em; text-align: center\">bus_rating</th>\n",
       "    </tr>\n",
       "    <tr>\n",
       "        <td style=\"padding-left: 1em; padding-right: 1em; text-align: center; vertical-align: top\">NV</td>\n",
       "        <td style=\"padding-left: 1em; padding-right: 1em; text-align: center; vertical-align: top\">89145</td>\n",
       "        <td style=\"padding-left: 1em; padding-right: 1em; text-align: center; vertical-align: top\">Westside</td>\n",
       "        <td style=\"padding-left: 1em; padding-right: 1em; text-align: center; vertical-align: top\">36.17139824</td>\n",
       "        <td style=\"padding-left: 1em; padding-right: 1em; text-align: center; vertical-align: top\">-115.2455138</td>\n",
       "        <td style=\"padding-left: 1em; padding-right: 1em; text-align: center; vertical-align: top\">107</td>\n",
       "        <td style=\"padding-left: 1em; padding-right: 1em; text-align: center; vertical-align: top\">4.5</td>\n",
       "    </tr>\n",
       "    <tr>\n",
       "        <td style=\"padding-left: 1em; padding-right: 1em; text-align: center; vertical-align: top\">NV</td>\n",
       "        <td style=\"padding-left: 1em; padding-right: 1em; text-align: center; vertical-align: top\">89145</td>\n",
       "        <td style=\"padding-left: 1em; padding-right: 1em; text-align: center; vertical-align: top\">Westside</td>\n",
       "        <td style=\"padding-left: 1em; padding-right: 1em; text-align: center; vertical-align: top\">36.17139824</td>\n",
       "        <td style=\"padding-left: 1em; padding-right: 1em; text-align: center; vertical-align: top\">-115.2455138</td>\n",
       "        <td style=\"padding-left: 1em; padding-right: 1em; text-align: center; vertical-align: top\">107</td>\n",
       "        <td style=\"padding-left: 1em; padding-right: 1em; text-align: center; vertical-align: top\">4.5</td>\n",
       "    </tr>\n",
       "    <tr>\n",
       "        <td style=\"padding-left: 1em; padding-right: 1em; text-align: center; vertical-align: top\">NV</td>\n",
       "        <td style=\"padding-left: 1em; padding-right: 1em; text-align: center; vertical-align: top\">89145</td>\n",
       "        <td style=\"padding-left: 1em; padding-right: 1em; text-align: center; vertical-align: top\">Westside</td>\n",
       "        <td style=\"padding-left: 1em; padding-right: 1em; text-align: center; vertical-align: top\">36.17139824</td>\n",
       "        <td style=\"padding-left: 1em; padding-right: 1em; text-align: center; vertical-align: top\">-115.2455138</td>\n",
       "        <td style=\"padding-left: 1em; padding-right: 1em; text-align: center; vertical-align: top\">107</td>\n",
       "        <td style=\"padding-left: 1em; padding-right: 1em; text-align: center; vertical-align: top\">4.5</td>\n",
       "    </tr>\n",
       "    <tr>\n",
       "        <td style=\"padding-left: 1em; padding-right: 1em; text-align: center; vertical-align: top\">NV</td>\n",
       "        <td style=\"padding-left: 1em; padding-right: 1em; text-align: center; vertical-align: top\">89145</td>\n",
       "        <td style=\"padding-left: 1em; padding-right: 1em; text-align: center; vertical-align: top\">Westside</td>\n",
       "        <td style=\"padding-left: 1em; padding-right: 1em; text-align: center; vertical-align: top\">36.17139824</td>\n",
       "        <td style=\"padding-left: 1em; padding-right: 1em; text-align: center; vertical-align: top\">-115.2455138</td>\n",
       "        <td style=\"padding-left: 1em; padding-right: 1em; text-align: center; vertical-align: top\">107</td>\n",
       "        <td style=\"padding-left: 1em; padding-right: 1em; text-align: center; vertical-align: top\">4.5</td>\n",
       "    </tr>\n",
       "    <tr>\n",
       "        <td style=\"padding-left: 1em; padding-right: 1em; text-align: center; vertical-align: top\">NV</td>\n",
       "        <td style=\"padding-left: 1em; padding-right: 1em; text-align: center; vertical-align: top\">89145</td>\n",
       "        <td style=\"padding-left: 1em; padding-right: 1em; text-align: center; vertical-align: top\">Westside</td>\n",
       "        <td style=\"padding-left: 1em; padding-right: 1em; text-align: center; vertical-align: top\">36.17139824</td>\n",
       "        <td style=\"padding-left: 1em; padding-right: 1em; text-align: center; vertical-align: top\">-115.2455138</td>\n",
       "        <td style=\"padding-left: 1em; padding-right: 1em; text-align: center; vertical-align: top\">107</td>\n",
       "        <td style=\"padding-left: 1em; padding-right: 1em; text-align: center; vertical-align: top\">4.5</td>\n",
       "    </tr>\n",
       "</table>\n",
       "[5 rows x 34 columns]<br/>\n",
       "</div>"
      ],
      "text/plain": [
       "Columns:\n",
       "\tSerial Number\tstr\n",
       "\tPermit Number\tstr\n",
       "\tRestaurant Name\tstr\n",
       "\tLocation Name\tstr\n",
       "\tAddress\tstr\n",
       "\tCity\tstr\n",
       "\tState\tstr\n",
       "\tZip\tint\n",
       "\tCurrent Grade\tstr\n",
       "\tInspection Grade\tstr\n",
       "\tInspection Date\tstr\n",
       "\tPrior Insp Date\tstr\n",
       "\tNext Insp Date\tstr\n",
       "\tLocation 1\tstr\n",
       "\tuser_id\tstr\n",
       "\treview_id\tstr\n",
       "\tbusiness_id\tstr\n",
       "\trev_stars\tint\n",
       "\trev_date\tstr\n",
       "\trev_text\tstr\n",
       "\trev_funny\tint\n",
       "\trev_useful\tint\n",
       "\trev_cool\tint\n",
       "\tusr_revcnt\tint\n",
       "\tusr_avgrating\tfloat\n",
       "\tusr_name\tstr\n",
       "\tcity\tstr\n",
       "\tstate\tstr\n",
       "\tpostal_code\tint\n",
       "\tneighborhood\tstr\n",
       "\tlatitude\tfloat\n",
       "\tlongitude\tfloat\n",
       "\tbus_revcnt\tint\n",
       "\tbus_rating\tfloat\n",
       "\n",
       "Rows: 5\n",
       "\n",
       "Data:\n",
       "+---------------+---------------+-------------------------------+\n",
       "| Serial Number | Permit Number |        Restaurant Name        |\n",
       "+---------------+---------------+-------------------------------+\n",
       "|   DA1548277   |   PR0105774   | ARIA MEDITERRANEAN RESTAURANT |\n",
       "|   DA1548277   |   PR0105774   | ARIA MEDITERRANEAN RESTAURANT |\n",
       "|   DA1548277   |   PR0105774   | ARIA MEDITERRANEAN RESTAURANT |\n",
       "|   DA1548277   |   PR0105774   | ARIA MEDITERRANEAN RESTAURANT |\n",
       "|   DA1548277   |   PR0105774   | ARIA MEDITERRANEAN RESTAURANT |\n",
       "+---------------+---------------+-------------------------------+\n",
       "+-------------------------------+--------------------+-----------+--------+\n",
       "|         Location Name         |      Address       |    City   | State  |\n",
       "+-------------------------------+--------------------+-----------+--------+\n",
       "| ARIA MEDITERRANEAN RESTAURANT | 230 S RAINBOW BLVD | LAS VEGAS | NEVADA |\n",
       "| ARIA MEDITERRANEAN RESTAURANT | 230 S RAINBOW BLVD | LAS VEGAS | NEVADA |\n",
       "| ARIA MEDITERRANEAN RESTAURANT | 230 S RAINBOW BLVD | LAS VEGAS | NEVADA |\n",
       "| ARIA MEDITERRANEAN RESTAURANT | 230 S RAINBOW BLVD | LAS VEGAS | NEVADA |\n",
       "| ARIA MEDITERRANEAN RESTAURANT | 230 S RAINBOW BLVD | LAS VEGAS | NEVADA |\n",
       "+-------------------------------+--------------------+-----------+--------+\n",
       "+-------+---------------+------------------+-----------------+-----------------+\n",
       "|  Zip  | Current Grade | Inspection Grade | Inspection Date | Prior Insp Date |\n",
       "+-------+---------------+------------------+-----------------+-----------------+\n",
       "| 89145 |       A       |        A         |      7/9/15     |     10/24/14    |\n",
       "| 89145 |       A       |        A         |      7/9/15     |     10/24/14    |\n",
       "| 89145 |       A       |        A         |      7/9/15     |     10/24/14    |\n",
       "| 89145 |       A       |        A         |      7/9/15     |     10/24/14    |\n",
       "| 89145 |       A       |        A         |      7/9/15     |     10/24/14    |\n",
       "+-------+---------------+------------------+-----------------+-----------------+\n",
       "+----------------+----------------------------+------------------------+\n",
       "| Next Insp Date |         Location 1         |        user_id         |\n",
       "+----------------+----------------------------+------------------------+\n",
       "|     2/3/16     | (36.1715383, -115.2442591) | _UwZg-ztV7gc9u0zsRSHxA |\n",
       "|     2/3/16     | (36.1715383, -115.2442591) | lJ4NkD1LIfCCxcm2hU04vg |\n",
       "|     2/3/16     | (36.1715383, -115.2442591) | 5WRtuCkmQmzgogUdc32NWw |\n",
       "|     2/3/16     | (36.1715383, -115.2442591) | _OH1vsgO_QVmmI_9BaEzBw |\n",
       "|     2/3/16     | (36.1715383, -115.2442591) | SW94-PYKH1ffp4h24eNyGQ |\n",
       "+----------------+----------------------------+------------------------+\n",
       "+------------------------+------------------------+-----------+----------+\n",
       "|       review_id        |      business_id       | rev_stars | rev_date |\n",
       "+------------------------+------------------------+-----------+----------+\n",
       "| R_ZcGSAZ-lran8p_LLF2UQ | ufmokEGxGqEWIdvIVsNg_Q |     5     | 8/24/15  |\n",
       "| EZxPDohUjaahzuHfnp2FBA | ufmokEGxGqEWIdvIVsNg_Q |     4     | 4/10/15  |\n",
       "| YDzrLqALeVQHgQFjX_bKQg | ufmokEGxGqEWIdvIVsNg_Q |     5     | 12/27/15 |\n",
       "| yYm2JpAKblVI3rcUODHKJA | ufmokEGxGqEWIdvIVsNg_Q |     5     | 2/13/15  |\n",
       "| AKSAVVCNy1ctuiGAxUy_eA | ufmokEGxGqEWIdvIVsNg_Q |     5     | 12/13/15 |\n",
       "+------------------------+------------------------+-----------+----------+\n",
       "+-------------------------------+-----+\n",
       "|            rev_text           | ... |\n",
       "+-------------------------------+-----+\n",
       "| Excellent food. I have eat... | ... |\n",
       "| This place is great , I wo... | ... |\n",
       "| Best persian food. Awesome... | ... |\n",
       "| Apart from the bread, the ... | ... |\n",
       "| I got the beef koobideh wi... | ... |\n",
       "+-------------------------------+-----+\n",
       "[5 rows x 34 columns]"
      ]
     },
     "execution_count": 4,
     "metadata": {},
     "output_type": "execute_result"
    }
   ],
   "source": [
    "sf_LVRevJoinClean.head(5)"
   ]
  },
  {
   "cell_type": "code",
   "execution_count": 22,
   "metadata": {
    "collapsed": false
   },
   "outputs": [],
   "source": [
    "train_docs = gl.text_analytics.count_words(sf_LVRevJoinClean['rev_text'])\n",
    "train_docs = train_docs.dict_trim_by_keys(stopwords, exclude=True)"
   ]
  },
  {
   "cell_type": "code",
   "execution_count": null,
   "metadata": {
    "collapsed": false
   },
   "outputs": [
    {
     "data": {
      "text/html": [
       "<pre>Learning a topic model</pre>"
      ],
      "text/plain": [
       "Learning a topic model"
      ]
     },
     "metadata": {},
     "output_type": "display_data"
    },
    {
     "data": {
      "text/html": [
       "<pre>       Number of documents     82311</pre>"
      ],
      "text/plain": [
       "       Number of documents     82311"
      ]
     },
     "metadata": {},
     "output_type": "display_data"
    },
    {
     "data": {
      "text/html": [
       "<pre>           Vocabulary size     67120</pre>"
      ],
      "text/plain": [
       "           Vocabulary size     67120"
      ]
     },
     "metadata": {},
     "output_type": "display_data"
    },
    {
     "data": {
      "text/html": [
       "<pre>   Running collapsed Gibbs sampling</pre>"
      ],
      "text/plain": [
       "   Running collapsed Gibbs sampling"
      ]
     },
     "metadata": {},
     "output_type": "display_data"
    },
    {
     "data": {
      "text/html": [
       "<pre>+-----------+---------------+----------------+-----------------+</pre>"
      ],
      "text/plain": [
       "+-----------+---------------+----------------+-----------------+"
      ]
     },
     "metadata": {},
     "output_type": "display_data"
    },
    {
     "data": {
      "text/html": [
       "<pre>| Iteration | Elapsed Time  | Tokens/Second  | Est. Perplexity |</pre>"
      ],
      "text/plain": [
       "| Iteration | Elapsed Time  | Tokens/Second  | Est. Perplexity |"
      ]
     },
     "metadata": {},
     "output_type": "display_data"
    },
    {
     "data": {
      "text/html": [
       "<pre>+-----------+---------------+----------------+-----------------+</pre>"
      ],
      "text/plain": [
       "+-----------+---------------+----------------+-----------------+"
      ]
     },
     "metadata": {},
     "output_type": "display_data"
    },
    {
     "data": {
      "text/html": [
       "<pre>| 10        | 3.51s         | 1.17895e+07    | 0               |</pre>"
      ],
      "text/plain": [
       "| 10        | 3.51s         | 1.17895e+07    | 0               |"
      ]
     },
     "metadata": {},
     "output_type": "display_data"
    },
    {
     "data": {
      "text/html": [
       "<pre>| 20        | 6.78s         | 1.16956e+07    | 0               |</pre>"
      ],
      "text/plain": [
       "| 20        | 6.78s         | 1.16956e+07    | 0               |"
      ]
     },
     "metadata": {},
     "output_type": "display_data"
    }
   ],
   "source": [
    "topic_model = gl.topic_model.create(train_docs, num_topics=6, num_iterations=10000)"
   ]
  },
  {
   "cell_type": "code",
   "execution_count": 7,
   "metadata": {
    "collapsed": false
   },
   "outputs": [
    {
     "name": "stdout",
     "output_type": "stream",
     "text": [
      "+-------+------------+------------------+\n",
      "| topic |    word    |      score       |\n",
      "+-------+------------+------------------+\n",
      "|   0   |   tacos    | 0.0135641855398  |\n",
      "|   0   |    food    | 0.0121181511598  |\n",
      "|   0   |   place    | 0.00904604633132 |\n",
      "|   0   |  chicken   | 0.00869363530361 |\n",
      "|   0   |    good    | 0.00796774519763 |\n",
      "|   1   |   ramen    | 0.0274524375404  |\n",
      "|   1   |   pizza    | 0.0115716482916  |\n",
      "|   1   |   place    | 0.0114593963968  |\n",
      "|   1   |   broth    |  0.011046537733  |\n",
      "|   1   |    good    | 0.00931709752368 |\n",
      "|   2   |   place    | 0.0160265705059  |\n",
      "|   2   |    meat    | 0.0113049975809  |\n",
      "|   2   |    good    | 0.0110700118914  |\n",
      "|   2   |    bbq     | 0.0106929418314  |\n",
      "|   2   |    eat     | 0.0103304445273  |\n",
      "|   3   |   great    | 0.0101862101082  |\n",
      "|   3   |    good    | 0.00869557175229 |\n",
      "|   3   |  ordered   | 0.00769274570507 |\n",
      "|   3   |   place    | 0.00742435826386 |\n",
      "|   3   |   cheese   | 0.00711244853489 |\n",
      "|   4   |  sandwich  | 0.0098111753113  |\n",
      "|   4   |   don't    | 0.00887652892105 |\n",
      "|   4   |   place    | 0.00867504826207 |\n",
      "|   4   |    ice     | 0.00696992490741 |\n",
      "|   4   | sandwiches | 0.00644010539677 |\n",
      "|   5   |    thai    |  0.027280715289  |\n",
      "|   5   |  chicken   | 0.0212057544807  |\n",
      "|   5   |   fried    |  0.019193569826  |\n",
      "|   5   |    rice    | 0.0179962782098  |\n",
      "|   5   |    soup    | 0.0152009279093  |\n",
      "|   6   |    food    | 0.0172384939164  |\n",
      "|   6   |   order    | 0.0153611171937  |\n",
      "|   6   |    time    | 0.0119170679518  |\n",
      "|   6   |    back    | 0.0114501896775  |\n",
      "|   6   |   didn't   | 0.0113630609855  |\n",
      "|   7   |    food    | 0.0382235739063  |\n",
      "|   7   |   place    | 0.0374099412796  |\n",
      "|   7   |   great    | 0.0268385012501  |\n",
      "|   7   |    good    | 0.0220106905928  |\n",
      "|   7   |    pho     | 0.0205569488853  |\n",
      "+-------+------------+------------------+\n",
      "[40 rows x 3 columns]\n",
      "\n",
      "None\n"
     ]
    }
   ],
   "source": [
    "print topic_model.get_topics().print_rows(num_rows=100, num_columns=10)"
   ]
  },
  {
   "cell_type": "code",
   "execution_count": 8,
   "metadata": {
    "collapsed": false
   },
   "outputs": [
    {
     "name": "stdout",
     "output_type": "stream",
     "text": [
      "+-------------------------------+\n",
      "|             words             |\n",
      "+-------------------------------+\n",
      "| [tacos, food, place, chick... |\n",
      "| [ramen, pizza, place, brot... |\n",
      "| [place, meat, good, bbq, eat] |\n",
      "| [great, good, ordered, pla... |\n",
      "| [sandwich, don't, place, i... |\n",
      "| [thai, chicken, fried, ric... |\n",
      "| [food, order, time, back, ... |\n",
      "| [food, place, great, good,... |\n",
      "+-------------------------------+\n",
      "[8 rows x 1 columns]\n",
      "\n"
     ]
    }
   ],
   "source": [
    "print topic_model.get_topics(output_type='topic_words')"
   ]
  },
  {
   "cell_type": "code",
   "execution_count": 9,
   "metadata": {
    "collapsed": false
   },
   "outputs": [
    {
     "data": {
      "text/plain": [
       "['tacos',\n",
       " 'food',\n",
       " 'place',\n",
       " 'chicken',\n",
       " 'good',\n",
       " 'great',\n",
       " 'mexican',\n",
       " 'taco',\n",
       " 'love',\n",
       " 'nice',\n",
       " 'friendly',\n",
       " 'coconut',\n",
       " 'time',\n",
       " 'carne',\n",
       " 'staff',\n",
       " 'steak',\n",
       " 'burrito',\n",
       " 'back',\n",
       " 'delicious',\n",
       " 'salsa',\n",
       " 'fish',\n",
       " 'asada',\n",
       " 'fresh',\n",
       " 'make',\n",
       " 'made']"
      ]
     },
     "execution_count": 9,
     "metadata": {},
     "output_type": "execute_result"
    }
   ],
   "source": [
    "topic_model.get_topics(num_words=25, output_type='topic_words')['words'][0]"
   ]
  },
  {
   "cell_type": "code",
   "execution_count": 10,
   "metadata": {
    "collapsed": false
   },
   "outputs": [
    {
     "data": {
      "text/plain": [
       "['ramen',\n",
       " 'pizza',\n",
       " 'place',\n",
       " 'broth',\n",
       " 'good',\n",
       " 'spicy',\n",
       " 'pork',\n",
       " 'bowl',\n",
       " 'miso',\n",
       " 'noodles',\n",
       " 'it.',\n",
       " \"i've\",\n",
       " 'extra',\n",
       " 'wait',\n",
       " 'ordered',\n",
       " 'order',\n",
       " 'sora',\n",
       " 'pretty',\n",
       " \"don't\",\n",
       " 'flavor',\n",
       " 'bit',\n",
       " 'super',\n",
       " 'ramen.',\n",
       " 'large',\n",
       " 'taste']"
      ]
     },
     "execution_count": 10,
     "metadata": {},
     "output_type": "execute_result"
    }
   ],
   "source": [
    "topic_model.get_topics(num_words=25, output_type='topic_words')['words'][1]"
   ]
  },
  {
   "cell_type": "code",
   "execution_count": 11,
   "metadata": {
    "collapsed": false
   },
   "outputs": [
    {
     "data": {
      "text/plain": [
       "['place',\n",
       " 'meat',\n",
       " 'good',\n",
       " 'bbq',\n",
       " 'eat',\n",
       " 'tofu',\n",
       " 'korean',\n",
       " 'pretty',\n",
       " \"don't\",\n",
       " 'pork',\n",
       " 'night',\n",
       " \"i've\",\n",
       " 'bar',\n",
       " 'side',\n",
       " 'salad',\n",
       " 'price',\n",
       " 'time',\n",
       " 'short',\n",
       " 'late',\n",
       " \"you're\",\n",
       " 'service',\n",
       " 'beef',\n",
       " 'love',\n",
       " 'people',\n",
       " 'back']"
      ]
     },
     "execution_count": 11,
     "metadata": {},
     "output_type": "execute_result"
    }
   ],
   "source": [
    "topic_model.get_topics(num_words=25, output_type='topic_words')['words'][2]"
   ]
  },
  {
   "cell_type": "code",
   "execution_count": 12,
   "metadata": {
    "collapsed": false
   },
   "outputs": [
    {
     "data": {
      "text/plain": [
       "['great',\n",
       " 'good',\n",
       " 'ordered',\n",
       " 'place',\n",
       " 'cheese',\n",
       " 'crab',\n",
       " 'breakfast',\n",
       " 'food',\n",
       " 'nice',\n",
       " 'service',\n",
       " 'bread',\n",
       " 'made',\n",
       " 'restaurant',\n",
       " 'happy',\n",
       " 'dinner',\n",
       " 'italian',\n",
       " 'back',\n",
       " 'good.',\n",
       " 'sauce',\n",
       " 'potato',\n",
       " 'fries',\n",
       " 'served',\n",
       " 'omelet',\n",
       " 'meal',\n",
       " 'half']"
      ]
     },
     "execution_count": 12,
     "metadata": {},
     "output_type": "execute_result"
    }
   ],
   "source": [
    "topic_model.get_topics(num_words=25, output_type='topic_words')['words'][3]"
   ]
  },
  {
   "cell_type": "code",
   "execution_count": 13,
   "metadata": {
    "collapsed": false
   },
   "outputs": [
    {
     "data": {
      "text/plain": [
       "['sandwich',\n",
       " \"don't\",\n",
       " 'place',\n",
       " 'ice',\n",
       " 'sandwiches',\n",
       " 'coffee',\n",
       " 'location',\n",
       " 'bread',\n",
       " 'frozen',\n",
       " 'good',\n",
       " 'custard',\n",
       " 'love',\n",
       " 'open',\n",
       " 'make',\n",
       " 'fresh',\n",
       " \"lee's\",\n",
       " 'chocolate',\n",
       " 'back',\n",
       " 'time',\n",
       " 'cream',\n",
       " 'flavors',\n",
       " 'made',\n",
       " 'taste',\n",
       " 'it.',\n",
       " 'vegas']"
      ]
     },
     "execution_count": 13,
     "metadata": {},
     "output_type": "execute_result"
    }
   ],
   "source": [
    "topic_model.get_topics(num_words=25, output_type='topic_words')['words'][4]"
   ]
  },
  {
   "cell_type": "code",
   "execution_count": 14,
   "metadata": {
    "collapsed": false
   },
   "outputs": [
    {
     "data": {
      "text/plain": [
       "['thai',\n",
       " 'chicken',\n",
       " 'fried',\n",
       " 'rice',\n",
       " 'soup',\n",
       " 'noodle',\n",
       " 'beef',\n",
       " 'ordered',\n",
       " 'pad',\n",
       " 'curry',\n",
       " 'dish',\n",
       " 'good',\n",
       " 'chinese',\n",
       " 'lunch',\n",
       " 'spicy',\n",
       " 'shrimp',\n",
       " 'dishes',\n",
       " 'sauce',\n",
       " 'noodles',\n",
       " 'style',\n",
       " 'tea',\n",
       " 'duck',\n",
       " 'food',\n",
       " 'restaurant',\n",
       " 'sweet']"
      ]
     },
     "execution_count": 14,
     "metadata": {},
     "output_type": "execute_result"
    }
   ],
   "source": [
    "topic_model.get_topics(num_words=25, output_type='topic_words')['words'][5]"
   ]
  },
  {
   "cell_type": "code",
   "execution_count": 15,
   "metadata": {
    "collapsed": false
   },
   "outputs": [
    {
     "data": {
      "text/plain": [
       "['food',\n",
       " 'order',\n",
       " 'time',\n",
       " 'back',\n",
       " \"didn't\",\n",
       " 'ordered',\n",
       " 'asked',\n",
       " 'minutes',\n",
       " 'service',\n",
       " 'table',\n",
       " 'told',\n",
       " 'give',\n",
       " 'customer',\n",
       " 'wanted',\n",
       " 'gave',\n",
       " 'people',\n",
       " 'bad',\n",
       " 'server',\n",
       " \"don't\",\n",
       " 'decided',\n",
       " 'wait',\n",
       " '5',\n",
       " 'called',\n",
       " 'waitress',\n",
       " 'looked']"
      ]
     },
     "execution_count": 15,
     "metadata": {},
     "output_type": "execute_result"
    }
   ],
   "source": [
    "topic_model.get_topics(num_words=25, output_type='topic_words')['words'][6]"
   ]
  },
  {
   "cell_type": "code",
   "execution_count": 16,
   "metadata": {
    "collapsed": false
   },
   "outputs": [
    {
     "data": {
      "text/plain": [
       "['food',\n",
       " 'place',\n",
       " 'great',\n",
       " 'good',\n",
       " 'pho',\n",
       " 'service',\n",
       " 'restaurant',\n",
       " 'vegas',\n",
       " 'vegas.',\n",
       " 'las',\n",
       " 'love',\n",
       " \"i've\",\n",
       " 'recommend',\n",
       " 'places',\n",
       " 'food.',\n",
       " 'place.',\n",
       " '.',\n",
       " 'here.',\n",
       " 'eat',\n",
       " 'prices',\n",
       " 'spring',\n",
       " 'good.',\n",
       " 'restaurants',\n",
       " 'quality',\n",
       " 'large']"
      ]
     },
     "execution_count": 16,
     "metadata": {},
     "output_type": "execute_result"
    }
   ],
   "source": [
    "topic_model.get_topics(num_words=25, output_type='topic_words')['words'][7]"
   ]
  },
  {
   "cell_type": "code",
   "execution_count": 17,
   "metadata": {
    "collapsed": true
   },
   "outputs": [],
   "source": [
    "# turn on automatic rendering of visualizations\n",
    "pyLDAvis.enable_notebook()"
   ]
  },
  {
   "cell_type": "code",
   "execution_count": 18,
   "metadata": {
    "collapsed": false
   },
   "outputs": [],
   "source": [
    "topic_model_vis = pyLDAvis.graphlab.prepare(topic_model, train_docs)"
   ]
  },
  {
   "cell_type": "code",
   "execution_count": 20,
   "metadata": {
    "collapsed": false
   },
   "outputs": [
    {
     "data": {
      "text/html": [
       "\n",
       "<link rel=\"stylesheet\" type=\"text/css\" href=\"https://cdn.rawgit.com/bmabey/pyLDAvis/files/ldavis.v1.0.0.css\">\n",
       "\n",
       "\n",
       "<div id=\"ldavis_el19631401941802244648147276900\"></div>\n",
       "<script type=\"text/javascript\">\n",
       "\n",
       "var ldavis_el19631401941802244648147276900_data = {\"plot.opts\": {\"xlab\": \"PC1\", \"ylab\": \"PC2\"}, \"topic.order\": [7, 6, 3, 4, 5, 2, 1, 8], \"token.table\": {\"Topic\": [1, 2, 8, 8, 3, 3, 8, 1, 3, 5, 7, 8, 8, 1, 3, 4, 6, 8, 3, 1, 5, 6, 1, 4, 5, 6, 4, 5, 1, 5, 1, 7, 1, 2, 3, 5, 6, 7, 8, 4, 5, 8, 8, 4, 2, 1, 4, 6, 8, 1, 7, 8, 1, 5, 7, 3, 4, 6, 8, 1, 6, 8, 3, 1, 2, 3, 4, 5, 6, 7, 8, 3, 4, 1, 3, 4, 5, 6, 8, 5, 5, 5, 4, 5, 3, 5, 7, 3, 4, 7, 3, 4, 7, 3, 3, 6, 2, 4, 5, 8, 3, 4, 6, 3, 5, 1, 3, 2, 4, 7, 8, 2, 7, 7, 3, 2, 3, 6, 8, 1, 3, 4, 6, 7, 2, 3, 6, 8, 1, 2, 3, 4, 5, 6, 7, 8, 2, 3, 4, 5, 6, 7, 4, 8, 6, 1, 6, 7, 8, 1, 6, 7, 7, 4, 5, 4, 8, 4, 3, 3, 2, 4, 6, 6, 7, 8, 1, 6, 8, 6, 3, 3, 4, 8, 4, 7, 7, 7, 7, 4, 1, 2, 3, 5, 7, 1, 2, 3, 6, 7, 7, 7, 4, 1, 5, 8, 8, 6, 6, 3, 4, 7, 4, 2, 4, 7, 2, 3, 7, 4, 7, 5, 6, 2, 1, 5, 7, 8, 2, 7, 5, 5, 4, 5, 1, 3, 5, 6, 7, 8, 1, 1, 3, 1, 3, 2, 3, 4, 6, 3, 4, 6, 7, 8, 2, 4, 4, 5, 7, 6, 1, 4, 5, 7, 8, 2, 2, 2, 6, 7, 5, 5, 5, 8, 1, 5, 7, 1, 2, 5, 7, 1, 5, 8, 1, 2, 3, 4, 5, 6, 7, 8, 7, 1, 2, 4, 6, 7, 2, 3, 4, 6, 8, 5, 7, 1, 2, 3, 4, 5, 6, 7, 8, 1, 2, 1, 6, 4, 1, 2, 3, 4, 5, 6, 7, 2, 3, 4, 8, 1, 2, 4, 7, 2, 2, 3, 4, 7, 2, 3, 4, 7, 1, 2, 3, 5, 6, 7, 8, 5, 5, 1, 3, 4, 5, 6, 2, 2, 1, 3, 4, 5, 6, 7, 8, 1, 7, 8, 1, 2, 3, 6, 8, 2, 4, 6, 3, 7, 1, 1, 2, 3, 4, 6, 7, 2, 3, 7, 8, 2, 3, 4, 6, 7, 1, 2, 4, 5, 8, 5, 2, 3, 6, 7, 8, 1, 5, 6, 8, 2, 4, 7, 2, 5, 6, 7, 2, 3, 6, 7, 2, 5, 6, 7, 1, 2, 3, 4, 7, 8, 1, 2, 4, 7, 8, 1, 4, 5, 7, 4, 5, 2, 3, 4, 5, 7, 8, 2, 4, 6, 2, 4, 6, 7, 8, 4, 7, 4, 3, 4, 5, 8, 8, 2, 3, 4, 6, 1, 2, 3, 6, 7, 5, 8, 8, 1, 2, 3, 4, 5, 6, 7, 8, 2, 3, 4, 5, 6, 7, 8, 1, 2, 3, 4, 5, 6, 7, 8, 1, 2, 4, 6, 7, 8, 3, 7, 2, 4, 5, 7, 8, 7, 1, 3, 4, 7, 6, 1, 3, 4, 5, 6, 7, 3, 4, 7, 4, 7, 1, 1, 3, 4, 6, 7, 8, 2, 4, 6, 7, 8, 3, 2, 8, 4, 7, 8, 1, 2, 1, 5, 1, 1, 2, 3, 4, 5, 6, 7, 8, 8, 8, 8, 7, 3, 3, 2, 3, 4, 5, 6, 7, 8, 1, 2, 5, 1, 2, 3, 4, 5, 6, 7, 8, 4, 6, 8, 5, 8, 1, 2, 3, 4, 7, 3, 3, 6, 3, 6, 2, 3, 1, 7, 1, 4, 5, 6, 7, 8, 2, 4, 8, 5, 6, 7, 8, 1, 3, 5, 7, 5, 1, 3, 4, 6, 7, 8, 1, 2, 5, 7, 2, 3, 6, 4, 1, 2, 3, 5, 6, 1, 4, 1, 2, 5, 7, 1, 2, 3, 4, 5, 7, 7, 2, 3, 4, 5, 6, 7, 8, 2, 3, 4, 5, 6, 7, 8, 2, 3, 4, 5, 7, 5, 5, 1, 3, 4, 5, 6, 7, 1, 2, 3, 4, 5, 6, 7, 8, 1, 8, 1, 5, 4, 3, 4, 4, 1, 2, 3, 4, 7, 2, 3, 6, 7, 8, 4, 3, 7, 8, 1, 2, 3, 4, 5, 6, 7, 8, 7, 5, 4, 1, 8, 1, 2, 6, 8, 1, 1, 6, 6, 6, 6, 5, 6, 6, 3, 5, 8, 3, 4, 7, 8, 2, 3, 4, 5, 6, 7, 1, 2, 3, 4, 5, 6, 8, 2, 2, 4, 6, 8, 4, 8, 4, 4, 5, 8, 4, 1, 3, 5, 7, 1, 2, 3, 5, 6, 8, 1, 2, 6, 8, 1, 2, 4, 6, 7, 3, 8, 1, 8, 2, 1, 3, 5, 8, 2, 2, 8, 4, 7, 2, 1, 2, 3, 4, 5, 6, 8, 2, 6, 8, 8, 1, 8, 8, 6, 8, 1, 2, 6, 1, 7, 8, 1, 1, 6, 3, 6, 3, 6, 3, 4, 5, 6, 7, 8, 1, 2, 3, 4, 5, 6, 7, 8, 2, 3, 5, 6, 7, 8, 1, 3, 5, 1, 5, 6, 5, 6, 2, 3, 6, 2, 3, 3, 4, 7, 4, 4, 1, 2, 3, 4, 5, 6, 7, 8, 3, 5, 7, 8, 2, 3, 4, 8, 7, 3, 6, 7, 4, 1, 3, 5, 6, 8, 6, 6, 6, 6, 1, 2, 4, 5, 8, 2, 6, 8, 1, 1, 2, 3, 4, 6, 7, 8, 1, 2, 3, 4, 7, 8, 2, 3, 4, 7, 8, 3, 3, 1, 3, 2, 3, 7, 2, 3, 7, 2, 8, 5, 6, 7, 8, 5, 8, 5, 8, 2, 1, 3, 6, 1, 8, 2, 3, 4, 5, 7, 8, 4, 7, 7, 2, 3, 7, 2, 6, 7, 1, 2, 6, 2, 3, 7, 8, 5, 5, 5, 5, 7, 5, 8, 5, 1, 4, 8, 6, 1, 4, 1, 2, 3, 4, 5, 6, 7, 8, 2, 6, 7, 2, 4, 5, 6, 2, 3, 4, 1, 4, 6, 1, 4, 7, 1, 2, 3, 4, 6, 7, 1, 2, 4, 1, 2, 3, 4, 5, 6, 8, 1, 8, 4, 8, 6, 6, 3, 8, 1, 3, 6, 2, 4, 7, 3, 4, 5, 6, 7, 3, 2, 5, 6, 3, 6, 5, 2, 6, 6, 6, 7, 2, 3, 4, 6, 8, 2, 6, 7, 8, 2, 4, 7, 8, 2, 3, 6, 2, 2, 6, 7, 8, 8, 1, 3, 4, 7, 8, 4, 7, 3, 5, 6, 7, 1, 2, 2, 5, 6, 5, 3, 4, 8, 2, 4, 2, 4, 6, 7, 8, 5, 2, 3, 4, 5, 6, 7, 8, 3, 6, 2, 4, 5, 6, 7, 1, 3, 4, 7, 8, 7, 7, 7, 3, 7, 5, 7, 5, 7, 8, 4, 1, 2, 5, 6, 7, 8, 1, 1, 2, 5, 8, 1, 2, 2, 2, 1, 3, 5, 6, 7, 3, 6, 6, 1, 7, 1, 3, 4, 5, 6, 7, 8, 1, 4, 2, 3, 1, 5, 2, 3, 7, 3, 4, 7, 7, 6, 7, 8, 8, 5, 2, 1, 4, 6, 5, 6, 1, 3, 4, 5, 6, 7, 8, 5, 6, 8, 2, 3, 4, 5, 6, 7, 8, 3, 5, 8, 1, 2, 3, 4, 6, 8, 1, 1, 6, 7, 1, 2, 3, 6, 1, 3, 4, 1, 2, 3, 4, 5, 6, 7, 8, 1, 2, 3, 5, 6, 7, 2, 5, 4, 1, 2, 5, 1, 2, 2, 8, 2, 2, 1, 3, 6, 2, 5, 6, 3, 5, 6, 7, 2, 4], \"Freq\": [0.0007432848163806239, 0.2571765464676959, 0.741054961931482, 0.9954500872261036, 0.9988677095390691, 0.9994124341620596, 0.9984106595287459, 0.23181058643098648, 0.000223755392307902, 0.007607683338468668, 0.03803841669234334, 0.7222824063699077, 0.988994725394818, 0.011573943490317899, 0.020833098282572217, 0.9259154792254319, 0.010416549141286108, 0.03124964742385833, 0.9981372182171535, 0.9687326560593759, 0.027224336938436795, 0.0037811579081162214, 0.9599762155225386, 0.003002271197881278, 0.03602725437457534, 0.0007505677994703195, 0.0008029115219855541, 0.9988219333500293, 0.9102037458619159, 0.08916968305116736, 0.9953236349100939, 0.0025455847440155853, 0.4629237973346601, 0.12348348384578779, 0.03175289584605972, 0.06350579169211944, 0.04010892106870701, 0.014483777052588643, 0.26367901813687017, 0.002766021471395526, 0.010510881591302998, 0.9863632566996445, 0.9985631332890831, 0.9994003426734704, 0.9993992279268781, 0.8931340637111944, 0.09560810123504142, 0.010095265347799405, 0.0005938391381058474, 0.9969770425000654, 0.9998501420325123, 0.99580564259303, 0.9701105886572385, 0.0005379541157064169, 0.02922884028671532, 0.004830177662666585, 0.7003757610866549, 0.00043910706024241684, 0.2942017303624193, 0.9940735271914808, 0.0020709865149822516, 0.0020709865149822516, 0.999715060664718, 0.3724519280865683, 0.010164810852555408, 0.10142713437658549, 0.12346930573620292, 0.1333578989025476, 0.053365256975915897, 0.13081669618940875, 0.07507596711208044, 0.0640449238056955, 0.9350558875631543, 0.5045317342747847, 0.26670823937323207, 0.0001729625417465837, 0.0997993865877788, 0.06122873977829063, 0.06745539128116765, 0.9982484700449763, 0.998159009698275, 0.9973827909333989, 0.8200318962231621, 0.1801534678439819, 0.997404662922516, 0.9982703104810472, 0.0012393175797405923, 0.7880183575822319, 0.21156525708935475, 0.00024890030245806443, 0.998406866303988, 0.997889188613407, 0.999512135807624, 0.9990376754326181, 0.0016834218450070802, 0.9965857322441914, 0.9864392290452316, 0.002798409160412005, 0.009794432061442017, 0.0006996022901030012, 0.9993109513819548, 0.0001704726972674778, 0.0003409453945349556, 0.9953490509154109, 0.002140535593366475, 0.0013093289959807896, 0.9977086949373617, 0.01739047361521274, 0.0019322748461347487, 0.9796633469903177, 0.0004830687115336872, 0.001091246905717768, 0.9984909187317578, 0.9976276418567598, 0.9991109029393621, 0.6734295182294378, 0.24347483949501958, 0.00021671102758791242, 0.08278361253858253, 0.07729762946483061, 0.8742253022571688, 0.009253941555648735, 0.011431339568742555, 0.02721747516367275, 0.0010050580754437052, 0.8482690156744872, 0.1497536532411121, 0.9971411717338406, 0.07053163480661168, 0.2290771045001063, 0.15251712483822866, 0.14046043512769676, 0.015311995932375526, 0.23305581210458182, 0.09030460593188401, 0.06872313135003189, 0.20219086756253082, 0.16868206211908449, 0.11873497475998526, 0.1331500835167886, 0.3009470073788764, 0.0762483384241439, 0.9988701165688495, 0.9982256350435139, 0.9987141744834156, 0.0005013946945966525, 0.712147597892112, 0.07420641480030457, 0.2130927452035773, 0.009250767106082216, 0.8834482586308516, 0.1073088984305537, 0.9996465739416304, 0.47490546814812556, 0.5249043184918896, 0.9994644153060748, 0.00028051204471121944, 0.9986148189429457, 0.9994696836770744, 0.9980722799414622, 0.9925399838421816, 0.005671657050526752, 0.001417914262631688, 0.9065796989549871, 0.00015475925212615006, 0.09316506977994234, 0.0007289021214221622, 0.7828408784074021, 0.21648393006238215, 0.9966146073119854, 0.9994583024966495, 0.997404662922516, 0.0024041015162299295, 0.9965000784773058, 0.9984616974588543, 0.9998312914114009, 0.997960951613954, 0.9977139910296984, 0.9996006774276077, 0.9986003273411034, 0.9024561238414615, 0.016269631528409448, 0.008643241749467519, 0.06151954421679822, 0.0106769456905187, 0.9831182157192639, 0.0032540114711436126, 0.008541780111751983, 0.0008135028677859032, 0.004067514338929516, 0.9997988583289891, 0.997960951613954, 0.9982367998426028, 0.003704869694498319, 0.9956837303964232, 0.9982541613743497, 0.9898216456031645, 0.9996614288523327, 0.998619638248436, 0.9984387099685724, 0.7735231829063163, 0.22639702914331208, 0.9982203218281881, 0.6763119205098436, 0.0749997839645852, 0.24864891880813578, 0.9994636831294084, 0.0004517349980245913, 0.9995056973827683, 0.24375606588485157, 0.7558521427608902, 0.9987410459198292, 0.0007989928367358633, 0.9996253812721584, 0.9953021506646769, 0.16898502782400757, 0.17723513861002813, 0.6537501581474232, 0.0572679217080799, 0.942437994814471, 0.9998504251288036, 0.9977044141439506, 0.008677119112910974, 0.9906377653906695, 0.1549715494390048, 0.2108753967212961, 0.035938187538615836, 0.09222233310173905, 0.06636205000516893, 0.4396248126416921, 0.9948137318085762, 0.007366221580177793, 0.9919845061306094, 0.1730957480599878, 0.8269031164465702, 0.25754501848778333, 0.006352007182434118, 0.25465774249576784, 0.4813089078689852, 0.8952340361233497, 0.0005626863834841922, 0.029259691941177994, 0.07427460261991337, 0.0005626863834841922, 0.01149287907987167, 0.9883876008689636, 0.9995524168596599, 0.7608335284809324, 0.23915722925069205, 0.9991008975966469, 0.14529113642953229, 0.13021944177916586, 0.7125897230693243, 0.005425810074131911, 0.006631545646161225, 0.9998241297369547, 0.9993679013160123, 0.9940578342784249, 0.0014770547314686847, 0.0029541094629373693, 0.9998454576278141, 0.9975024581126111, 0.9973860561696187, 0.0016217659449912498, 0.860534029099357, 0.08136707157253045, 0.05793541488550428, 0.8980012968485218, 0.002252511614168533, 0.0946054877950784, 0.004505023228337066, 0.0047486269447144045, 0.014245880834143215, 0.9782171506111674, 0.15968994734166714, 0.024671199729751948, 0.18615541614267378, 0.032745410550398035, 0.36603089053595617, 0.14556007840553647, 0.019736959783801557, 0.06526653746688924, 0.9995582551714791, 0.4945357630022434, 0.0381270520554569, 0.18114999366836596, 0.1941689870531561, 0.09169091055287927, 0.0048088806612, 0.027651063801899998, 0.7838475477756, 0.0108199814877, 0.17251859372054998, 0.9951819978803073, 0.004175588802294995, 0.00016112135329752534, 0.27165060165962773, 0.00016112135329752534, 0.15322640698594658, 0.07234348763058887, 0.11391279678135041, 0.3808908791953499, 0.007411582251686166, 0.9825232764519515, 0.016387802943095477, 0.9965183114189154, 0.9989259773534765, 0.9996202105182491, 0.5767483528617886, 0.04819167851266664, 0.013879893095776976, 0.10371125089577454, 0.08396904270364455, 0.12647082715220387, 0.046984731286946906, 0.09367882633058067, 0.33123043898849874, 0.5749941754083917, 0.9935780713051764, 0.9970569988982717, 0.9522974204139958, 0.04696806504027231, 0.0005970516742407497, 0.9997358465022738, 0.9143982856804564, 0.0006818779162419511, 0.08387098369775998, 0.0006818779162419511, 0.7174527002665932, 0.2462426895478423, 0.03604992974980411, 0.00019699415163827383, 0.16007970435079918, 0.018431712437574414, 0.24259966462177454, 0.2676825760429385, 0.13837875851451126, 0.06848480309373979, 0.1043336382934258, 0.9976655336229968, 0.998620461504218, 0.23314419006146525, 0.5405298261201569, 0.2243524398775832, 0.0013024815087232695, 0.0003256203771808174, 0.9998757311037155, 0.9987872563878413, 0.1261651108731551, 0.47168263233369667, 0.02248487124472071, 0.005746133762539737, 0.04313764186950121, 0.10018259299036672, 0.2306781235106532, 0.0040417211040714085, 0.024250326624428453, 0.9700130649771381, 0.00042367258339633254, 0.47938552811295027, 0.18832246331966981, 0.18789879073627347, 0.1438368420630549, 0.0020208249442462576, 0.9908778309954149, 0.006736083147487525, 0.0031531536265714806, 0.9963965459965879, 0.9982646002517347, 0.00029546543612018187, 0.1630969207383404, 0.06943437748824273, 0.5120416007962751, 0.17816565798046965, 0.07682101339124728, 0.002912819961017082, 0.03495383953220499, 0.002912819961017082, 0.95831776717462, 0.001077604329835659, 0.08211344993347722, 0.0002155208659671318, 0.6569075994678177, 0.25970264349039385, 0.10798102319065254, 0.07941322822031, 0.22985280907330652, 0.002358808759019109, 0.5802669547187008, 0.9975855497369275, 0.16410254648676198, 0.1646414711057661, 0.24062984238535048, 0.16868340574829718, 0.26178263368126314, 0.7158920513618248, 0.05075748665490042, 0.23263848050162694, 0.0007049650924291726, 0.32273798599000725, 0.008319468083297964, 0.6689999851810638, 0.2630039143141864, 0.10766522769674418, 0.3821875616159314, 0.24700610930724073, 0.1392834448161457, 0.009878258497598987, 0.7008624404046482, 0.14965561623862467, 0.04440913213052329, 0.8173482417741766, 0.0058722819346146505, 0.13212634352882963, 0.23585943598497358, 0.06450697480731889, 0.028163708021062855, 0.0791465260063862, 0.1471158708591988, 0.4451817807487807, 0.20413919981834325, 0.17637626864304856, 0.012248351989100594, 0.20658887021616337, 0.40057943552925185, 0.012565651429375525, 0.32425510273851965, 0.4428625930596984, 0.22035861896880493, 0.7710202352895233, 0.22826620585990906, 0.03980516501170714, 0.0011823316340111032, 0.16684013057712233, 0.33512533315136933, 0.29781620158924116, 0.15922066004682855, 0.9539027221655664, 0.04470086088488256, 0.001279604796322974, 0.0019514478598125753, 0.22831939959807132, 0.08656065149597209, 0.42151273771951625, 0.2617727914805726, 0.9801078999117808, 0.019630886124271135, 0.9983986328015699, 0.0019598480923584496, 0.9975626790104508, 0.9987376111518558, 0.0009668321501954074, 0.9951855735345174, 0.14107561544453234, 0.006813310973173437, 0.6745177863441703, 0.17714608530250936, 0.8094012245710636, 0.029353704584847165, 0.0021743484877664566, 0.05870740916969433, 0.10002003043725702, 0.9992291439936158, 0.9917523944629014, 0.9940828914855635, 0.4063114330658034, 0.0018513252109672092, 0.12044504019586667, 0.0009801133469826402, 0.1192471238828879, 0.17097532830697168, 0.0803692944525765, 0.0999715613922293, 0.11675925354678145, 0.15782002444886783, 0.12383241990863547, 0.0779868599970596, 0.1284871874776497, 0.10825585133969959, 0.28687930626460867, 0.0005183477585639492, 0.1978360611852406, 0.09770855248930442, 0.19222062713413116, 0.017710215084268264, 0.14876580670785342, 0.11153115938434306, 0.2337748391123411, 4.0500522061791877e-05, 0.0017820229707188426, 0.2259119120606751, 0.05900926064403077, 0.1684416712549924, 0.5448130227752244, 0.9972887665304823, 0.00208783412392983, 0.002360044042242736, 0.06506978573612116, 0.27679945124018374, 0.6557550945945888, 0.9926990188647101, 0.9994973277467382, 0.8162426539964664, 0.09780876509468674, 0.00043860432777886426, 0.08508923958909967, 0.9989357928881895, 0.19501125110468073, 0.1424739734098124, 0.4318742318984939, 0.011576010339547258, 0.11130779172641594, 0.10774594239117063, 0.39266797531574626, 0.5041530295766173, 0.10310756463433163, 0.9987491581606059, 0.9994448354565298, 0.9989626471609871, 0.014631686411527327, 0.17379191971025235, 0.07104496624263824, 0.17492993976448226, 0.07917368091570898, 0.4864222860365529, 0.017684273583013766, 0.09557032957628717, 0.18323917521122776, 0.05041899276859244, 0.6528130780112529, 0.9974526038380217, 0.007096274048108015, 0.986382092687014, 0.8180851716704131, 0.17681956160023338, 0.004715188309339557, 0.001661085912329666, 0.9966515473977997, 0.9977135046108812, 0.0019205264766330725, 0.9992478587344045, 0.9984648822194414, 0.23556613278071248, 0.1421933734678593, 0.0254774243267928, 0.20328583598969752, 0.14539472521572852, 0.21795869816743157, 0.03014606229243546, 0.9906192471280794, 0.9932011643721688, 0.9885697609211259, 0.9994470766371685, 0.99912218897703, 0.9991504731880618, 0.1226840915310291, 0.20856949178237288, 0.028432381361746223, 0.09791197075838125, 0.20771978843133218, 0.06666903215857735, 0.2679833645589874, 0.0009266847995417655, 0.1350643095332123, 0.8639019043728109, 0.11002395520475129, 0.09067992416458306, 0.12371004831222208, 0.10245455175425068, 0.14527137935304202, 0.2510901104186263, 0.149476603492209, 0.027295727594229473, 0.9995088995082845, 0.9714729983819589, 0.028090785495381944, 0.9916333246461052, 0.007710990082784645, 0.0021692442835433267, 0.01301546570125996, 0.982667660445127, 0.0021692442835433267, 0.9994735041308727, 0.997375488022211, 0.9987227519100984, 0.9985404690388799, 0.989098419909351, 0.010118653912116122, 0.9981383824798877, 0.9998354716309402, 0.9991465300942639, 0.0005873877308020364, 0.004595723608670929, 0.09311335659307188, 0.008592005007515216, 0.41461419513009473, 0.00019981406994221433, 0.4787545115815455, 0.04967175841026843, 0.005519084267807603, 0.9437634097951002, 0.13864362589950202, 0.11435207285155591, 0.0023134812426615354, 0.7446104628166342, 0.006080869722626751, 0.8550378482204616, 0.13817087314190785, 0.0006756521914029724, 0.9995696805236436, 0.7221044366222324, 0.0014580604474956737, 0.01676769514620025, 0.09331586863972312, 0.16548986079075897, 0.00036451511187391843, 0.9954954582227711, 0.002237068445444429, 0.0017788267736913313, 0.9961429932671456, 0.9848203657829809, 0.0006994462825163217, 0.013988925650326433, 0.9985846933994517, 0.3244325490956123, 0.0014526830556519956, 0.009684553704346637, 0.65516005809905, 0.009200326019129304, 0.002098269155535311, 0.9973772719311179, 0.09528753507045544, 0.09588935108142674, 0.6746357482988246, 0.13420497044659935, 0.6362227298402308, 0.07446605210432432, 0.056800747773006505, 0.15518290420280725, 0.0010870956511580192, 0.07609669558106134, 0.9994487933844285, 0.15520697396829372, 0.20427774016075603, 0.00013783923087770314, 0.16843954013255322, 0.26933785713503194, 0.017643421552346, 0.1848424086069999, 0.9995819162621039, 0.133311310168033, 0.07282089969469308, 0.17921171768835814, 0.12672644157861926, 0.19780428782317339, 0.290057005610156, 0.5937301931201119, 0.04266243123200069, 0.02099046137293325, 0.09950023897559267, 0.24316222785268127, 0.9991826327046092, 0.9970592017312963, 0.10857691264246072, 0.015023220617195823, 0.27269421665758475, 0.250956071673612, 0.11267415462896867, 0.24014390532032714, 0.15815167738797756, 0.05608981850219577, 0.055991587646675285, 0.10756278679492884, 0.2553019934977352, 0.12229741512300128, 0.21158926279112028, 0.03290733659936179, 0.9966997095495703, 0.0026367717183851066, 0.9991363102362398, 0.0005979271754854817, 0.998141298811125, 0.9994434974530227, 0.9989053840979496, 0.9995335036321231, 0.1815779423621023, 0.10556857114075716, 0.14040619961720702, 0.4157290331523017, 0.15666375957288362, 0.0019155703935186711, 0.6248792262646696, 0.13751779035576145, 0.20153816929704335, 0.0340769891057532, 0.998241940950466, 0.7512944958810963, 0.24776232277959664, 0.00047103103190037385, 0.08675863852522434, 0.2405998848226049, 0.08031502611486285, 0.2220744991428156, 0.030377029934561307, 0.09780483122870118, 0.17800479283623613, 0.06420599508895912, 0.999882067963124, 0.9991600752935129, 0.9978847107971097, 0.9954981180579474, 0.003160311485898246, 0.9985621408368269, 0.00021088957567831613, 0.00042177915135663225, 0.0006326687270349484, 0.9982646002517347, 0.9816684196531524, 0.01789990400519184, 0.9998661269972563, 0.9996584846543636, 0.9963554669228502, 0.003099555781235966, 0.9949574057767451, 0.9983376020925651, 0.005658289660474496, 0.005658289660474496, 0.9845424009225623, 0.7049013418231962, 0.2434599011919473, 0.05095672350529129, 0.9929500519066916, 0.10549340005286764, 0.08663845813099676, 0.29074320443524915, 0.0642010772439704, 0.16677196129894806, 0.2862180183740001, 0.003951028872535245, 0.0004938786090669056, 0.596605359752822, 0.24726855693949745, 0.1229757736576595, 0.027163323498679812, 0.0016462620302230189, 0.9999590489477509, 0.46568607552877606, 0.000138844983759325, 0.5341366525221233, 0.9976435472405972, 0.9958392731466787, 0.0019299210719896875, 0.9995118864218862, 0.9961416749472144, 0.0015989432984706493, 0.0015989432984706493, 0.999317123657174, 0.028950646938173848, 0.23399779095482665, 0.6639507872184498, 0.07297477120779358, 0.5329652211266457, 0.1345967011337084, 0.09417054659004642, 0.06841802540115388, 0.16105638537584285, 0.008721677656650106, 0.8994064024118409, 0.07059170817984188, 0.008505025081908662, 0.02083731145067622, 0.2961979563207611, 0.3024815625000391, 0.21522628319754514, 0.14436968343609363, 0.04173744917455361, 0.9986880806991787, 0.9917523944629014, 0.010674671329857657, 0.9856279861235236, 0.9998244641940498, 0.9678983194606274, 0.028548856235280164, 0.00092093084629936, 0.00184186169259872, 0.9986977644282654, 0.9987251859762029, 0.0007327404152429955, 0.9987770514320873, 0.9978267753988962, 0.9976753534407045, 0.34912170497990347, 0.0005949585974435983, 0.2209676230905524, 0.00011899171948871966, 0.20990139317810147, 0.047477696075999144, 0.17194303466119992, 0.9996769116666225, 0.9986062763906262, 0.9981021741430594, 0.9998937054291833, 0.005311644410448755, 0.9932775047539171, 0.9996509923956389, 0.003663075277903796, 0.9954407067703566, 0.9931619097443805, 0.005904648690513558, 0.9993538157248562, 0.0008669751416230884, 0.9961544377249286, 0.0026009254248692652, 0.9968831548878236, 0.10889734028277184, 0.890925439966784, 0.014779870775193698, 0.984876843474271, 0.004429807173390557, 0.9949346911435192, 0.18674801495822782, 0.08642356348966018, 0.09864529221729289, 0.12916773126578085, 0.10045198255094294, 0.3985346324228058, 0.046896618310324274, 0.00013399033802949793, 0.1554287921142176, 0.05828579704283159, 0.07811636707119729, 0.10437847332497888, 0.11134597090251278, 0.4453838836100511, 0.001984257325920908, 0.14683504211814719, 0.06068520321774777, 0.21843366062845995, 0.003472450320361589, 0.5684897238763401, 0.005329035391198173, 0.9912005827628603, 0.001776345130399391, 0.9690327753803715, 0.026600899716323925, 0.003800128530903418, 0.12408510044118114, 0.8750777605740013, 0.1551281654484141, 0.39018577319585224, 0.4546418216096152, 0.997644078840675, 0.00196000801343944, 0.0050325141107975925, 0.8710443173438832, 0.12371597189044081, 0.9992742264704485, 0.9975501118199336, 7.240619829432665e-05, 0.12395941147988722, 0.3119259022519592, 0.11317088793403254, 0.054956304505393926, 0.18297046308976345, 0.11418457471015313, 0.09868964827516721, 0.5072689949867221, 0.045377517369721315, 0.09296857217211196, 0.3541659892270932, 0.23572991917625438, 0.10289497275941006, 0.13833025803751262, 0.5228125779801333, 0.997477062017162, 0.8259618555058483, 0.17298446407763995, 0.0007792092976470267, 0.9991245993675164, 0.0006367736723009935, 0.2440965743820475, 0.17023082839513226, 0.07068187762541027, 0.5145131272192027, 0.9999611312437854, 0.9987086915152176, 0.9998415321585034, 0.999820357239611, 0.0006646553085087778, 0.18543883107394898, 0.0006646553085087778, 0.04320259505307055, 0.7696708472531646, 0.1425790562108544, 0.009721299287103708, 0.8473732545258732, 0.9989091144305586, 0.9997035024413772, 0.04123922677735064, 0.07123139170633291, 0.11076651820362775, 0.14757508425283328, 0.0006816401120223246, 0.6286425933125889, 0.13661877375154424, 0.22071723435901264, 0.0006595957694703403, 0.19697178665808038, 0.0045347209151085895, 0.44036262559263595, 0.1792592003623516, 0.002430633225252225, 0.04040927736981824, 0.00030382915315652813, 0.7774988029275555, 0.997873751987326, 0.999400819194709, 0.002109111342108943, 0.9955005534754211, 0.9260010347035026, 0.001501384605623228, 0.07250804477745118, 0.6989045636395114, 0.0020831730659896016, 0.29893533496950786, 0.9989044378296783, 0.0009232018833915695, 0.13616121587888652, 0.8638572504104192, 0.9974418872461456, 0.9956231166723225, 0.03023155706458593, 0.9696084847623561, 0.026137378420636456, 0.9726838683679709, 0.9987696533908984, 0.9966125420484, 0.0010774189643766488, 0.0010774189643766488, 0.9970569988982717, 0.999614859667323, 0.20994718156521938, 0.43048871273323236, 0.18010394324749096, 0.0769955548597393, 0.10191465885504253, 0.0005968647663545682, 0.0008534746871217977, 0.9989921212760643, 0.9978153506755608, 0.8951603350756723, 0.0016577043242142079, 0.10277766810128089, 0.13819757751862533, 0.7964113360559514, 0.0650020226273376, 0.0013444721819152858, 0.020167082728729285, 0.978775748434328, 0.007329345266487149, 0.0031411479713516354, 0.9842263643568457, 0.005235246618919392, 0.9998069693619129, 0.9988213368188493, 0.9996819454309892, 0.9996015607479052, 0.00029007590271268286, 0.9982512484339819, 0.0013083240477509593, 0.9994901270278961, 0.001679005685944738, 0.9956503717652296, 0.001679005685944738, 0.9970787396358358, 0.9353579989445475, 0.0643243040283632, 0.00024892115185490976, 0.43586093689794697, 0.06148352450816271, 0.2748089516478204, 0.00012446057592745488, 0.14549441325919477, 0.08152167723248295, 0.00037338172778236464, 0.08415005249848923, 0.0008765630468592627, 0.914255257874211, 0.07864458412937982, 0.9165492273843772, 0.004854603958603693, 0.9977751486919436, 0.8644892414932835, 0.003248602577636556, 0.13210983815721994, 0.7780662485865347, 0.1225750894159476, 0.09885087856124807, 0.9908725319103214, 0.002359220314072194, 0.004718440628144388, 0.0020749432220161187, 0.3137775250182153, 0.01936613673881711, 0.471703759138331, 0.04910698958771481, 0.14409327930667493, 0.673357488992344, 0.000943077715675552, 0.3253618119080654, 0.2142475831691385, 0.01548777709656423, 0.1152329578945628, 0.14508832695177623, 0.0002922222093691364, 0.03828110942735687, 0.4713057200108555, 0.5437598385067804, 0.4560189007098602, 0.020807720712667076, 0.9779628734953525, 0.9996613139040188, 0.9961403461227872, 0.9995135235840813, 0.0003803323910137295, 0.9973805925672234, 0.0020027722742313723, 0.9987486599029747, 0.7410752104990651, 0.15894321421761465, 0.09995806124519975, 0.47643299149211354, 0.2118493110494438, 0.0013677502148098954, 0.18358247327670596, 0.1267448532390503, 0.9991461964278542, 0.0007962758439834151, 0.0007962758439834151, 0.9977336325112192, 0.04671878452290933, 0.9530632042673504, 0.998454289710908, 0.0007714126133090947, 0.9989793342352775, 0.9966146073119854, 0.9967110560736967, 0.002498022696926558, 0.7834647262427279, 0.03512144267370856, 0.002742480410289585, 0.11536111145218127, 0.06334245076668849, 0.759735523061574, 0.2390179173676862, 0.000742291668843746, 0.000371145834421873, 0.08925412752001956, 0.0004931167266299423, 0.9088141271789837, 0.0009862334532598847, 0.9382788692987393, 0.024156231052406565, 0.03750572716031546, 0.998118694525656, 0.45772123682229526, 0.5417129166869851, 0.00011139480088155153, 0.0004455792035262061, 0.9995956345452731, 0.0819874675339483, 0.07336489964713377, 0.24946988784393895, 0.3649246103962013, 0.2301787190124217, 0.32812509517013505, 0.6718491314784667, 0.012756176040789605, 0.015075480775478625, 0.0011596523673445096, 0.9706290314673545, 0.0020119202832892705, 0.9969065003698336, 0.9990825553533615, 0.8777545880665663, 0.12122215581161248, 0.999594999102833, 0.002150410459833809, 0.2508812203139444, 0.746909233048943, 0.0006216746184336945, 0.999031111822947, 0.658368782436105, 0.0010361485401890226, 0.11397633942079248, 0.2254659223451313, 0.0010361485401890226, 0.9979405760801898, 0.1035731108247279, 0.00015032381832326254, 0.06478956569732615, 0.09440335790700888, 0.33687567686243136, 0.23615871858584545, 0.16400328579067944, 0.9766318542317928, 0.022537658174579832, 0.48550999947278345, 0.14538727896643946, 0.21599311157155104, 0.0034164112550860446, 0.14975269334793828, 0.8313448849537662, 0.04833174792283161, 0.11549152616098317, 0.0017469306478131907, 0.003105654485001228, 0.9998964495445442, 0.9976940794399202, 0.9979817684847058, 0.00014107181018905313, 0.9997759188098194, 0.0007526224967417339, 0.9987300531762808, 0.0006789857573678406, 0.9987880490880937, 0.9983546496560944, 0.9997593584982357, 0.00012855983061667772, 0.21546627611355185, 0.2738324392135235, 0.2609764561518558, 0.13421646316381153, 0.1153181680631599, 0.9962174077774458, 0.011716472023183547, 0.9075515896876769, 0.020899652798111193, 0.05984900574004569, 0.9991544265304186, 0.9999702184963217, 0.9993258627009203, 0.9995212778204097, 0.17258582251095983, 0.3036265954885285, 0.2117516401327471, 0.14751237851944182, 0.1645330375793774, 0.0014284196087003273, 0.9977510966771787, 0.9977986038104583, 0.9893047366002273, 0.008366213417338075, 0.35438299557536496, 0.13479381718549935, 0.061412244922280715, 0.12186492351765078, 0.09282541625588153, 0.13282418104078805, 0.1019665481069776, 0.001967625729942424, 0.9975862450808091, 0.058607103619233554, 0.9413140943075532, 0.9977929668246915, 0.001975827657078597, 0.9994590305949596, 0.9587399485378779, 0.03994749785574491, 0.99910795601057, 0.04325943255710016, 0.9566514514055864, 0.9979817684847058, 0.16790644032694305, 0.06762898290946318, 0.7639743034875909, 0.9914421956954456, 0.9994527562416305, 0.9981603661537555, 0.8681581557568895, 0.12995071765417593, 0.0010920228374300498, 0.9987777363701678, 0.9992253535885792, 0.00039418047986098905, 0.026410092150686265, 0.13165628027357035, 0.1851662804146996, 0.13086791931384836, 0.00019709023993049452, 0.5253440345347331, 0.0009489980809877942, 0.1651256660918762, 0.8341693131882711, 0.04059433025251732, 0.006573980607695112, 0.0057522330317332235, 0.0027939417582704225, 0.08151735953541939, 0.001643495151923778, 0.8610271100928673, 0.9975084923159456, 0.3357414291995061, 0.6639097434546624, 0.3500199554469792, 0.000270181362753361, 0.16210881765201662, 0.057143358222335856, 0.3929787921247636, 0.037420118741340505, 0.9997233348481936, 0.8356404965566611, 0.16398954345572034, 0.0003923194819514841, 0.7332749940319349, 0.2549986119523066, 0.0021557853667465536, 0.009239080143199515, 0.9976692293451196, 0.00042745039817700066, 0.0017098015927080026, 0.5905320802464961, 0.025390955893334687, 0.001346490085252597, 0.0742493104153575, 0.05232075759838663, 0.11425930152000609, 0.13503371997818903, 0.006732450426262985, 0.24821374410128674, 0.1773943951801947, 0.16251541144921608, 0.09746311048586771, 0.2249148703520024, 0.08950458430418147, 0.9996702417375732, 0.9982557303834175, 0.9992221614688496, 0.0880586468060522, 0.910153604944306, 0.0019282915358989534, 0.9976385603032841, 0.0019912945315434813, 0.9974291166526861, 0.001710856117757609, 0.9997739037462254, 0.9990825553533615, 0.9923478260011557, 0.004604862301629493, 0.0023024311508147463, 0.9987253773692484, 0.9960098676025861, 0.0020880710012632833, 0.3926890759335417, 0.2312378129124719, 0.18604423483634652, 0.18987690576859745, 0.9994948204119845, 0.9989924857619695], \"Term\": [\"!\", \"!\", \"!\", \"!!!\", \"$13.99\", \"$16.99\", \"$30\", \".\", \".\", \".\", \".\", \".\", \"1.5\", \"1/2\", \"1/2\", \"1/2\", \"1/2\", \"1/2\", \"10pm\", \"15\", \"15\", \"15\", \"20\", \"20\", \"20\", \"20\", \"24\", \"24\", \"30\", \"30\", \"45\", \"45\", \"5\", \"5\", \"5\", \"5\", \"5\", \"5\", \"5\", \"8\", \"8\", \"8\", \"87\", \"amore\", \"archi's\", \"arrived\", \"arrived\", \"arrived\", \"arrived\", \"arrived.\", \"asada\", \"asians\", \"asked\", \"asked\", \"asked\", \"atmosphere\", \"atmosphere\", \"atmosphere\", \"atmosphere\", \"attitude\", \"attitude\", \"attitude\", \"ayce\", \"back\", \"back\", \"back\", \"back\", \"back\", \"back\", \"back\", \"back\", \"bacon\", \"bacon\", \"bad\", \"bad\", \"bad\", \"bad\", \"bad\", \"bad\", \"baguette\", \"bahn\", \"bakery\", \"banana\", \"banana\", \"banchan\", \"banh\", \"banh\", \"bar\", \"bar\", \"bar\", \"barbecue\", \"barcelona\", \"bark\", \"bartenders\", \"base\", \"base\", \"basil\", \"basil\", \"basil\", \"basil\", \"bbq\", \"bbq\", \"bbq\", \"bbq,\", \"bbq,\", \"bbq.\", \"bbq.\", \"beans\", \"beans\", \"beans\", \"beans\", \"beans,\", \"beans,\", \"beans.\", \"beauty\", \"beef\", \"beef\", \"beef\", \"beef\", \"beer\", \"beer\", \"beer\", \"beer\", \"beer\", \"belly\", \"belly\", \"belly\", \"biet\", \"big\", \"big\", \"big\", \"big\", \"big\", \"big\", \"big\", \"big\", \"bit\", \"bit\", \"bit\", \"bit\", \"bit\", \"bit\", \"blue\", \"bo\", \"boiled\", \"bowl\", \"bowl\", \"bowl\", \"bowl\", \"bowl.\", \"bowl.\", \"bowl.\", \"braddah's\", \"bread\", \"bread\", \"breakfast\", \"breakfast\", \"breakfast.\", \"brisket\", \"brisket,\", \"broccoli\", \"broccoli\", \"broccoli\", \"broth\", \"broth\", \"broth\", \"broth.\", \"broth.\", \"broth.\", \"broths\", \"buffet\", \"bulgogi\", \"bun\", \"bun\", \"burgers\", \"burrito\", \"burrito,\", \"burrito.\", \"burritos\", \"cakes\", \"call\", \"call\", \"call\", \"call\", \"call\", \"called\", \"called\", \"called\", \"called\", \"called\", \"carne\", \"carnitas\", \"casa\", \"cash\", \"cash\", \"cha\", \"challenge.\", \"chashu\", \"chasu\", \"cheapest\", \"cheese\", \"cheese\", \"chicago\", \"chicken\", \"chicken\", \"chicken\", \"chinese\", \"chinese\", \"chipotle\", \"chips\", \"chips\", \"chocolate\", \"chocolate\", \"chow\", \"church's\", \"clean\", \"clean\", \"clean\", \"coconut\", \"coconut\", \"coffee\", \"coffee,\", \"coffee.\", \"coffee.\", \"coming\", \"coming\", \"coming\", \"coming\", \"coming\", \"coming\", \"contact\", \"container\", \"container\", \"cook\", \"cook\", \"cooked\", \"cooked\", \"cooked\", \"cooked\", \"cool\", \"cool\", \"cool\", \"cool\", \"cool\", \"crab\", \"crab\", \"crabs\", \"cream\", \"cream\", \"crust\", \"cup\", \"cup\", \"cup\", \"cup\", \"cup\", \"curry\", \"curry,\", \"curry.\", \"curry.\", \"curry.\", \"custard\", \"custard,\", \"custard.\", \"custard.\", \"customer\", \"customer\", \"customer\", \"customers\", \"customers\", \"customers\", \"customers\", \"dac\", \"dac\", \"dac\", \"day\", \"day\", \"day\", \"day\", \"day\", \"day\", \"day\", \"day\", \"de\", \"decided\", \"decided\", \"decided\", \"decided\", \"decided\", \"decor\", \"decor\", \"decor\", \"decor\", \"decor\", \"deli\", \"deli\", \"delicious\", \"delicious\", \"delicious\", \"delicious\", \"delicious\", \"delicious\", \"delicious\", \"delicious\", \"delivery\", \"delivery\", \"delivery.\", \"deluxe\", \"di\", \"didn't\", \"didn't\", \"didn't\", \"didn't\", \"didn't\", \"didn't\", \"didn't\", \"dinner\", \"dinner\", \"dinner\", \"dinning\", \"disgusting\", \"dish\", \"dish\", \"dish\", \"dish,\", \"dish.\", \"dish.\", \"dish.\", \"dish.\", \"dishes\", \"dishes\", \"dishes\", \"dishes\", \"don't\", \"don't\", \"don't\", \"don't\", \"don't\", \"don't\", \"don't\", \"donut\", \"donuts\", \"drinks\", \"drinks\", \"drinks\", \"drinks\", \"drinks\", \"duck\", \"dumplings\", \"eat\", \"eat\", \"eat\", \"eat\", \"eat\", \"eat\", \"eat\", \"efficient.\", \"efficient.\", \"efficient.\", \"egg\", \"egg\", \"egg\", \"egg\", \"egg\", \"eggs\", \"eggs\", \"eggs\", \"el\", \"el\", \"employee\", \"enjoyed\", \"enjoyed\", \"enjoyed\", \"enjoyed\", \"enjoyed\", \"enjoyed\", \"environment\", \"environment\", \"environment\", \"environment\", \"extra\", \"extra\", \"extra\", \"extra\", \"extra\", \"family\", \"family\", \"family\", \"family\", \"family\", \"farm\", \"favorite\", \"favorite\", \"favorite\", \"favorite\", \"favorite\", \"finally\", \"finally\", \"finally\", \"finally\", \"fish\", \"fish\", \"fish\", \"flavor\", \"flavor\", \"flavor\", \"flavor\", \"flavorful\", \"flavorful\", \"flavorful\", \"flavorful\", \"flavors\", \"flavors\", \"flavors\", \"flavors\", \"food\", \"food\", \"food\", \"food\", \"food\", \"food\", \"food.\", \"food.\", \"food.\", \"food.\", \"food.\", \"free\", \"free\", \"free\", \"free\", \"french\", \"french\", \"fresh\", \"fresh\", \"fresh\", \"fresh\", \"fresh\", \"fresh\", \"fried\", \"fried\", \"fried\", \"friendly\", \"friendly\", \"friendly\", \"friendly\", \"friendly\", \"fries\", \"fries\", \"fries,\", \"fries.\", \"fries.\", \"frozen\", \"frozen\", \"ga\", \"garlic\", \"garlic\", \"garlic\", \"garlic\", \"gave\", \"gave\", \"gave\", \"gave\", \"gave\", \"gelato\", \"gem!\", \"gio\", \"give\", \"give\", \"give\", \"give\", \"give\", \"give\", \"give\", \"give\", \"good\", \"good\", \"good\", \"good\", \"good\", \"good\", \"good\", \"good.\", \"good.\", \"good.\", \"good.\", \"good.\", \"good.\", \"good.\", \"good.\", \"great\", \"great\", \"great\", \"great\", \"great\", \"great\", \"grill\", \"grill\", \"grilled\", \"grilled\", \"grilled\", \"grilled\", \"groups.\", \"guacamole\", \"guy\", \"guy\", \"guy\", \"guy\", \"gyoza\", \"half\", \"half\", \"half\", \"half\", \"half\", \"half\", \"happy\", \"happy\", \"happy\", \"hash\", \"hawaiian\", \"health\", \"here.\", \"here.\", \"here.\", \"here.\", \"here.\", \"here.\", \"highly\", \"highly\", \"highly\", \"highly\", \"highly\", \"hipster\", \"hitting\", \"hitting\", \"homemade\", \"homemade\", \"homemade\", \"hong\", \"hong\", \"horrible\", \"horrible\", \"horrible.\", \"hostess\", \"hot\", \"hot\", \"hot\", \"hot\", \"hot\", \"hot\", \"hot\", \"hu\", \"hubs\", \"hue,\", \"huli\", \"hut\", \"hut.\", \"i've\", \"i've\", \"i've\", \"i've\", \"i've\", \"i've\", \"i've\", \"ice\", \"ice\", \"ice\", \"it.\", \"it.\", \"it.\", \"it.\", \"it.\", \"it.\", \"it.\", \"it.\", \"italian\", \"japanese\", \"japanese\", \"jason's\", \"jason's\", \"kalbi\", \"kalbi\", \"kalbi\", \"kalbi\", \"kalua\", \"karaoke\", \"kbbq\", \"killer\", \"kimchi\", \"kimchi\", \"kong\", \"korean\", \"lady\", \"lady\", \"large\", \"large\", \"large\", \"large\", \"large\", \"large\", \"large.\", \"large.\", \"large.\", \"las\", \"las\", \"las\", \"las\", \"late\", \"late\", \"late\", \"late\", \"lee's\", \"left\", \"left\", \"left\", \"left\", \"left\", \"left\", \"left.\", \"left.\", \"lettuce,\", \"lettuce,\", \"level\", \"level\", \"level\", \"limo\", \"line\", \"line\", \"line\", \"line\", \"line\", \"lobster\", \"lobster\", \"location\", \"location\", \"location\", \"location\", \"looked\", \"looked\", \"looked\", \"looked\", \"looked\", \"looked\", \"los\", \"lot\", \"lot\", \"lot\", \"lot\", \"lot\", \"lot\", \"lot\", \"lotus\", \"love\", \"love\", \"love\", \"love\", \"love\", \"love\", \"lunch\", \"lunch\", \"lunch\", \"lunch\", \"lunch\", \"luv-it\", \"machine\", \"made\", \"made\", \"made\", \"made\", \"made\", \"made\", \"make\", \"make\", \"make\", \"make\", \"make\", \"make\", \"make\", \"make\", \"management\", \"management\", \"manager\", \"manager\", \"marinara\", \"marinated\", \"maryland\", \"mashed\", \"meal\", \"meal\", \"meal\", \"meal\", \"meal\", \"meat\", \"meat\", \"meat\", \"meat\", \"meat\", \"meatballs\", \"meats\", \"meats\", \"meats\", \"menu\", \"menu\", \"menu\", \"menu\", \"menu\", \"menu\", \"menu\", \"menu\", \"mexican\", \"mi\", \"mimi's\", \"mins\", \"mins\", \"minutes\", \"minutes\", \"minutes\", \"minutes\", \"minutes,\", \"minutes.\", \"minutes.\", \"miso\", \"monta\", \"monta's\", \"monta,\", \"monta,\", \"monta.\", \"msg.\", \"msg.\", \"msg.\", \"music\", \"music\", \"music\", \"network\", \"nice\", \"nice\", \"nice\", \"nice\", \"nice\", \"nice\", \"night\", \"night\", \"night\", \"night\", \"night\", \"night\", \"night\", \"noodle\", \"noodles\", \"noodles\", \"noodles\", \"nuong\", \"nut\", \"nut\", \"omelet\", \"omelets\", \"omelets\", \"omelets\", \"omelette\", \"open\", \"open\", \"open\", \"open\", \"order\", \"order\", \"order\", \"order\", \"order\", \"order\", \"order.\", \"order.\", \"order.\", \"order.\", \"ordered\", \"ordered\", \"ordered\", \"ordered\", \"ordered\", \"outdoor\", \"ox\", \"oxtail\", \"oxtail\", \"pad\", \"paid\", \"paid\", \"paid\", \"paid\", \"panang\", \"papaya\", \"papaya\", \"pasta\", \"pastor\", \"peanuts\", \"people\", \"people\", \"people\", \"people\", \"people\", \"people\", \"people\", \"pepper\", \"pepperoni\", \"peruvian\", \"pho\", \"pho!\", \"pho!\", \"pho,\", \"pho.\", \"pho.\", \"phone\", \"phone\", \"pie\", \"pig\", \"pig\", \"pig\", \"pissed\", \"pizza\", \"pizza\", \"pizza,\", \"pizza,\", \"pizza.\", \"pizza.\", \"place\", \"place\", \"place\", \"place\", \"place\", \"place\", \"place.\", \"place.\", \"place.\", \"place.\", \"place.\", \"place.\", \"place.\", \"place.\", \"places\", \"places\", \"places\", \"places\", \"places\", \"places\", \"play\", \"play\", \"play\", \"poor\", \"poor\", \"poor\", \"pop\", \"pop\", \"pork\", \"pork\", \"pork\", \"pot\", \"pot\", \"potato\", \"potato\", \"potato\", \"potatoes\", \"potatoes,\", \"pretty\", \"pretty\", \"pretty\", \"pretty\", \"pretty\", \"pretty\", \"pretty\", \"pretty\", \"price\", \"price\", \"price\", \"price\", \"prices\", \"prices\", \"prices\", \"prices\", \"pulehu\", \"pulled\", \"pulled\", \"pulled\", \"pumpkin\", \"quality\", \"quality\", \"quality\", \"quality\", \"quality\", \"ramen\", \"ramen!\", \"ramen,\", \"ramen.\", \"reasonable\", \"reasonable\", \"reasonable\", \"reasonable\", \"reasonable\", \"reasonable.\", \"reasonable.\", \"reasonable.\", \"receipt\", \"received\", \"recommend\", \"recommend\", \"recommend\", \"recommend\", \"recommend\", \"recommend\", \"restaurant\", \"restaurant\", \"restaurant\", \"restaurant\", \"restaurant\", \"restaurant\", \"restaurants\", \"restaurants\", \"restaurants\", \"restaurants\", \"restaurants\", \"ribeye,\", \"ribs\", \"ribs,\", \"ribs,\", \"rice\", \"rice\", \"rice\", \"rice,\", \"rice,\", \"rice,\", \"rice.\", \"rice.\", \"rich\", \"rich\", \"roberto's\", \"rocks.\", \"rolls\", \"rolls\", \"rolls.\", \"rolls.\", \"roti\", \"rude\", \"rude\", \"rude\", \"rude.\", \"saigon\", \"salad\", \"salad\", \"salad\", \"salad\", \"salad\", \"salad\", \"salsa\", \"salsa\", \"salsa,\", \"salt\", \"salt\", \"salt\", \"salty\", \"salty\", \"salty\", \"salty.\", \"salty.\", \"salty.\", \"sample\", \"sample\", \"sample\", \"sample\", \"sandwich\", \"sandwich,\", \"sandwich.\", \"sandwiches\", \"sandwiches\", \"sandwiches,\", \"sandwiches,\", \"sandwiches.\", \"sangria\", \"sangria\", \"sangria\", \"sapporo\", \"sat\", \"sat\", \"sauce\", \"sauce\", \"sauce\", \"sauce\", \"sauce\", \"sauce\", \"sauce\", \"sauce\", \"sauces\", \"sauces\", \"sauces\", \"sausage\", \"sausage\", \"sausage\", \"screaming\", \"seafood\", \"seafood\", \"seafood\", \"seated\", \"seated\", \"seated\", \"seated.\", \"seated.\", \"seated.\", \"served\", \"served\", \"served\", \"served\", \"served\", \"served\", \"server\", \"server\", \"server\", \"service\", \"service\", \"service\", \"service\", \"service\", \"service\", \"service\", \"service.\", \"service.\", \"services\", \"services\", \"shio\", \"shoots\", \"short\", \"short\", \"showed\", \"showed\", \"shoyu\", \"shrimp\", \"shrimp\", \"shrimp\", \"side\", \"side\", \"side\", \"side\", \"side\", \"sides\", \"slice\", \"slice\", \"slice\", \"slices\", \"slices\", \"smoothie\", \"sora\", \"sora\", \"sora,\", \"sora.\", \"sora.\", \"soup\", \"soup\", \"soup\", \"soup\", \"soup\", \"soup.\", \"soup.\", \"soup.\", \"soup.\", \"sour\", \"sour\", \"sour\", \"sour\", \"spice\", \"spice\", \"spice\", \"spiciness\", \"spicy\", \"spicy\", \"spicy\", \"spicy\", \"spring\", \"staff\", \"staff\", \"staff\", \"staff\", \"staff\", \"steak\", \"steak\", \"step\", \"step\", \"step\", \"step\", \"sticky\", \"sticky\", \"stir\", \"store\", \"store\", \"strawberry\", \"strip.\", \"strip.\", \"strip.\", \"stuffed\", \"stuffed\", \"style\", \"style\", \"style\", \"style\", \"style\", \"sundae\", \"super\", \"super\", \"super\", \"super\", \"super\", \"super\", \"super\", \"sushi\", \"sushi\", \"sweet\", \"sweet\", \"sweet\", \"sweet\", \"sweet\", \"table\", \"table\", \"table\", \"table\", \"table\", \"taco\", \"taco,\", \"taco.\", \"tacos\", \"tacos\", \"tacos,\", \"tacos,\", \"tacos.\", \"tacos.\", \"tai\", \"tapas\", \"taste\", \"taste\", \"taste\", \"taste\", \"taste\", \"taste\", \"tasteless.\", \"tea\", \"tea\", \"tea\", \"tea\", \"terrible\", \"thai\", \"thai,\", \"thai.\", \"that's\", \"that's\", \"that's\", \"that's\", \"that's\", \"thick\", \"thick\", \"thicker\", \"threw\", \"threw\", \"time\", \"time\", \"time\", \"time\", \"time\", \"time\", \"time\", \"toast\", \"toast\", \"tofu\", \"tofu\", \"told\", \"told\", \"tom\", \"tongue\", \"tongue\", \"tongue,\", \"tortilla\", \"tortilla\", \"tortillas\", \"town.\", \"town.\", \"town.\", \"traveled\", \"turkey\", \"udon\", \"us.\", \"us.\", \"us.\", \"vanilla\", \"vegan\", \"vegas\", \"vegas\", \"vegas\", \"vegas\", \"vegas\", \"vegas\", \"vegas\", \"vegas!\", \"vegas!\", \"vegas!\", \"vegas.\", \"vegas.\", \"vegas.\", \"vegas.\", \"vegas.\", \"vegas.\", \"vegas.\", \"venue\", \"vietnamese\", \"vietnamese\", \"wait\", \"wait\", \"wait\", \"wait\", \"wait\", \"wait\", \"waited\", \"waiting\", \"waiting\", \"waiting\", \"waitress\", \"waitress\", \"waitress\", \"waitress\", \"walked\", \"walked\", \"walked\", \"wanted\", \"wanted\", \"wanted\", \"wanted\", \"wanted\", \"wanted\", \"wanted\", \"wanted\", \"wasn't\", \"wasn't\", \"wasn't\", \"wasn't\", \"wasn't\", \"wasn't\", \"wendy's\", \"western\", \"wine\", \"wings\", \"wings\", \"wings\", \"woman\", \"woman\", \"wong\", \"wong\", \"wonton\", \"wontons\", \"worst\", \"worst\", \"worst\", \"xo\", \"yogurt\", \"yogurt\", \"you're\", \"you're\", \"you're\", \"you're\", \"yum\", \"zucchini\"]}, \"mdsDat\": {\"y\": [-0.23089705362617652, -0.13520841868409328, 0.05987289012851661, -0.058388698777566334, 0.06809890301207397, 0.057363604349083525, 0.037879804742071636, 0.20127896885609026], \"cluster\": [1, 1, 1, 1, 1, 1, 1, 1], \"Freq\": [13.515927178127765, 13.373850216582717, 12.585162555434676, 12.570903334829712, 12.281947469912636, 12.173126020980328, 11.993544249391604, 11.505538974740563], \"topics\": [1, 2, 3, 4, 5, 6, 7, 8], \"x\": [-0.23749953963876533, 0.27197112032970183, -0.09081772528741675, 0.10240490036881228, -0.12898996054394588, 0.020345062027061846, 0.07116692352208825, -0.008580780777535936]}, \"R\": 30, \"lambda.step\": 0.01, \"tinfo\": {\"Category\": [\"Default\", \"Default\", \"Default\", \"Default\", \"Default\", \"Default\", \"Default\", \"Default\", \"Default\", \"Default\", \"Default\", \"Default\", \"Default\", \"Default\", \"Default\", \"Default\", \"Default\", \"Default\", \"Default\", \"Default\", \"Default\", \"Default\", \"Default\", \"Default\", \"Default\", \"Default\", \"Default\", \"Default\", \"Default\", \"Default\", \"Topic1\", \"Topic1\", \"Topic1\", \"Topic1\", \"Topic1\", \"Topic1\", \"Topic1\", \"Topic1\", \"Topic1\", \"Topic1\", \"Topic1\", \"Topic1\", \"Topic1\", \"Topic1\", \"Topic1\", \"Topic1\", \"Topic1\", \"Topic1\", \"Topic1\", \"Topic1\", \"Topic1\", \"Topic1\", \"Topic1\", \"Topic1\", \"Topic1\", \"Topic1\", \"Topic1\", \"Topic1\", \"Topic1\", \"Topic1\", \"Topic1\", \"Topic1\", \"Topic1\", \"Topic1\", \"Topic1\", \"Topic1\", \"Topic1\", \"Topic1\", \"Topic1\", \"Topic1\", \"Topic1\", \"Topic1\", \"Topic1\", \"Topic1\", \"Topic1\", \"Topic1\", \"Topic1\", \"Topic1\", \"Topic1\", \"Topic1\", \"Topic1\", \"Topic1\", \"Topic1\", \"Topic1\", \"Topic1\", \"Topic1\", \"Topic1\", \"Topic1\", \"Topic1\", \"Topic1\", \"Topic1\", \"Topic1\", \"Topic1\", \"Topic1\", \"Topic1\", \"Topic1\", \"Topic1\", \"Topic1\", \"Topic1\", \"Topic1\", \"Topic1\", \"Topic1\", \"Topic1\", \"Topic1\", \"Topic1\", \"Topic1\", \"Topic1\", \"Topic1\", \"Topic2\", \"Topic2\", \"Topic2\", \"Topic2\", \"Topic2\", \"Topic2\", \"Topic2\", \"Topic2\", \"Topic2\", \"Topic2\", \"Topic2\", \"Topic2\", \"Topic2\", \"Topic2\", \"Topic2\", \"Topic2\", \"Topic2\", \"Topic2\", \"Topic2\", \"Topic2\", \"Topic2\", \"Topic2\", \"Topic2\", \"Topic2\", \"Topic2\", \"Topic2\", \"Topic2\", \"Topic2\", \"Topic2\", \"Topic2\", \"Topic2\", \"Topic2\", \"Topic2\", \"Topic2\", \"Topic2\", \"Topic2\", \"Topic2\", \"Topic2\", \"Topic2\", \"Topic2\", \"Topic2\", \"Topic2\", \"Topic2\", \"Topic2\", \"Topic2\", \"Topic2\", \"Topic2\", \"Topic2\", \"Topic2\", \"Topic2\", \"Topic2\", \"Topic2\", \"Topic2\", \"Topic2\", \"Topic2\", \"Topic2\", \"Topic2\", \"Topic2\", \"Topic2\", \"Topic2\", \"Topic2\", \"Topic2\", \"Topic2\", \"Topic2\", \"Topic2\", \"Topic2\", \"Topic2\", \"Topic3\", \"Topic3\", \"Topic3\", \"Topic3\", \"Topic3\", \"Topic3\", \"Topic3\", \"Topic3\", \"Topic3\", \"Topic3\", \"Topic3\", \"Topic3\", \"Topic3\", \"Topic3\", \"Topic3\", \"Topic3\", \"Topic3\", \"Topic3\", \"Topic3\", \"Topic3\", \"Topic3\", \"Topic3\", \"Topic3\", \"Topic3\", \"Topic3\", \"Topic3\", \"Topic3\", \"Topic3\", \"Topic3\", \"Topic3\", \"Topic3\", \"Topic3\", \"Topic3\", \"Topic3\", \"Topic3\", \"Topic3\", \"Topic3\", \"Topic3\", \"Topic3\", \"Topic3\", \"Topic3\", \"Topic3\", \"Topic3\", \"Topic3\", \"Topic3\", \"Topic3\", \"Topic3\", \"Topic3\", \"Topic3\", \"Topic3\", \"Topic3\", \"Topic3\", \"Topic3\", \"Topic3\", \"Topic3\", \"Topic3\", \"Topic3\", \"Topic3\", \"Topic3\", \"Topic3\", \"Topic3\", \"Topic3\", \"Topic3\", \"Topic3\", \"Topic3\", \"Topic3\", \"Topic3\", \"Topic3\", \"Topic3\", \"Topic3\", \"Topic4\", \"Topic4\", \"Topic4\", \"Topic4\", \"Topic4\", \"Topic4\", \"Topic4\", \"Topic4\", \"Topic4\", \"Topic4\", \"Topic4\", \"Topic4\", \"Topic4\", \"Topic4\", \"Topic4\", \"Topic4\", \"Topic4\", \"Topic4\", \"Topic4\", \"Topic4\", \"Topic4\", \"Topic4\", \"Topic4\", \"Topic4\", \"Topic4\", \"Topic4\", \"Topic4\", \"Topic4\", \"Topic4\", \"Topic4\", \"Topic4\", \"Topic4\", \"Topic4\", \"Topic4\", \"Topic4\", \"Topic4\", \"Topic4\", \"Topic4\", \"Topic4\", \"Topic4\", \"Topic4\", \"Topic4\", \"Topic4\", \"Topic4\", \"Topic4\", \"Topic4\", \"Topic4\", \"Topic4\", \"Topic4\", \"Topic4\", \"Topic4\", \"Topic4\", \"Topic4\", \"Topic4\", \"Topic4\", \"Topic4\", \"Topic4\", \"Topic4\", \"Topic4\", \"Topic4\", \"Topic4\", \"Topic4\", \"Topic4\", \"Topic4\", \"Topic4\", \"Topic4\", \"Topic4\", \"Topic4\", \"Topic4\", \"Topic4\", \"Topic4\", \"Topic4\", \"Topic5\", \"Topic5\", \"Topic5\", \"Topic5\", \"Topic5\", \"Topic5\", \"Topic5\", \"Topic5\", \"Topic5\", \"Topic5\", \"Topic5\", \"Topic5\", \"Topic5\", \"Topic5\", \"Topic5\", \"Topic5\", \"Topic5\", \"Topic5\", \"Topic5\", \"Topic5\", \"Topic5\", \"Topic5\", \"Topic5\", \"Topic5\", \"Topic5\", \"Topic5\", \"Topic5\", \"Topic5\", \"Topic5\", \"Topic5\", \"Topic5\", \"Topic5\", \"Topic5\", \"Topic5\", \"Topic5\", \"Topic5\", \"Topic5\", \"Topic5\", \"Topic5\", \"Topic5\", \"Topic5\", \"Topic5\", \"Topic5\", \"Topic5\", \"Topic5\", \"Topic5\", \"Topic5\", \"Topic5\", \"Topic5\", \"Topic5\", \"Topic5\", \"Topic5\", \"Topic5\", \"Topic5\", \"Topic5\", \"Topic5\", \"Topic5\", \"Topic5\", \"Topic5\", \"Topic5\", \"Topic5\", \"Topic5\", \"Topic5\", \"Topic6\", \"Topic6\", \"Topic6\", \"Topic6\", \"Topic6\", \"Topic6\", \"Topic6\", \"Topic6\", \"Topic6\", \"Topic6\", \"Topic6\", \"Topic6\", \"Topic6\", \"Topic6\", \"Topic6\", \"Topic6\", \"Topic6\", \"Topic6\", \"Topic6\", \"Topic6\", \"Topic6\", \"Topic6\", \"Topic6\", \"Topic6\", \"Topic6\", \"Topic6\", \"Topic6\", \"Topic6\", \"Topic6\", \"Topic6\", \"Topic6\", \"Topic6\", \"Topic6\", \"Topic6\", \"Topic6\", \"Topic6\", \"Topic6\", \"Topic6\", \"Topic6\", \"Topic6\", \"Topic6\", \"Topic6\", \"Topic6\", \"Topic6\", \"Topic6\", \"Topic6\", \"Topic6\", \"Topic6\", \"Topic6\", \"Topic6\", \"Topic6\", \"Topic6\", \"Topic6\", \"Topic6\", \"Topic6\", \"Topic6\", \"Topic6\", \"Topic6\", \"Topic6\", \"Topic6\", \"Topic6\", \"Topic6\", \"Topic6\", \"Topic6\", \"Topic6\", \"Topic6\", \"Topic6\", \"Topic6\", \"Topic6\", \"Topic6\", \"Topic6\", \"Topic7\", \"Topic7\", \"Topic7\", \"Topic7\", \"Topic7\", \"Topic7\", \"Topic7\", \"Topic7\", \"Topic7\", \"Topic7\", \"Topic7\", \"Topic7\", \"Topic7\", \"Topic7\", \"Topic7\", \"Topic7\", \"Topic7\", \"Topic7\", \"Topic7\", \"Topic7\", \"Topic7\", \"Topic7\", \"Topic7\", \"Topic7\", \"Topic7\", \"Topic7\", \"Topic7\", \"Topic7\", \"Topic7\", \"Topic7\", \"Topic7\", \"Topic7\", \"Topic7\", \"Topic7\", \"Topic7\", \"Topic7\", \"Topic7\", \"Topic7\", \"Topic7\", \"Topic7\", \"Topic7\", \"Topic7\", \"Topic7\", \"Topic7\", \"Topic7\", \"Topic7\", \"Topic7\", \"Topic7\", \"Topic7\", \"Topic7\", \"Topic7\", \"Topic7\", \"Topic7\", \"Topic7\", \"Topic7\", \"Topic7\", \"Topic7\", \"Topic7\", \"Topic7\", \"Topic7\", \"Topic7\", \"Topic7\", \"Topic8\", \"Topic8\", \"Topic8\", \"Topic8\", \"Topic8\", \"Topic8\", \"Topic8\", \"Topic8\", \"Topic8\", \"Topic8\", \"Topic8\", \"Topic8\", \"Topic8\", \"Topic8\", \"Topic8\", \"Topic8\", \"Topic8\", \"Topic8\", \"Topic8\", \"Topic8\", \"Topic8\", \"Topic8\", \"Topic8\", \"Topic8\", \"Topic8\", \"Topic8\", \"Topic8\", \"Topic8\", \"Topic8\", \"Topic8\", \"Topic8\", \"Topic8\", \"Topic8\", \"Topic8\", \"Topic8\", \"Topic8\", \"Topic8\", \"Topic8\", \"Topic8\", \"Topic8\", \"Topic8\", \"Topic8\", \"Topic8\", \"Topic8\", \"Topic8\", \"Topic8\", \"Topic8\", \"Topic8\", \"Topic8\", \"Topic8\", \"Topic8\", \"Topic8\", \"Topic8\", \"Topic8\", \"Topic8\", \"Topic8\", \"Topic8\", \"Topic8\", \"Topic8\", \"Topic8\", \"Topic8\", \"Topic8\", \"Topic8\", \"Topic8\", \"Topic8\", \"Topic8\", \"Topic8\", \"Topic8\", \"Topic8\", \"Topic8\", \"Topic8\", \"Topic8\", \"Topic8\", \"Topic8\", \"Topic8\", \"Topic8\", \"Topic8\", \"Topic8\", \"Topic8\"], \"Term\": [\"thai\", \"ramen\", \"food\", \"great\", \"place\", \"pho\", \"chicken\", \"fried\", \"rice\", \"noodle\", \"tacos\", \"service\", \"soup\", \"spicy\", \"pizza\", \"bbq\", \"broth\", \"order\", \"pad\", \"beef\", \"sandwich\", \"ordered\", \"pork\", \"meat\", \"asked\", \"good\", \"vegas.\", \"noodles\", \"curry\", \"restaurant\", \"waited\", \"received\", \"lady\", \"manager\", \"terrible\", \"minutes\", \"horrible.\", \"health\", \"hostess\", \"employee\", \"minutes,\", \"told\", \"rude.\", \"disgusting\", \"walked\", \"horrible\", \"delivery.\", \"rude\", \"church's\", \"pissed\", \"woman\", \"showed\", \"receipt\", \"arrived.\", \"left.\", \"contact\", \"mins\", \"45\", \"management\", \"tasteless.\", \"worst\", \"called\", \"phone\", \"attitude\", \"asked\", \"delivery\", \"minutes.\", \"threw\", \"seated.\", \"15\", \"paid\", \"20\", \"poor\", \"sat\", \"order.\", \"customer\", \"call\", \"table\", \"arrived\", \"gave\", \"us.\", \"30\", \"waiting\", \"customers\", \"guy\", \"order\", \"didn't\", \"waitress\", \"server\", \"seated\", \"wanted\", \"finally\", \"left\", \"back\", \"time\", \"food\", \"looked\", \"ordered\", \"give\", \"bad\", \"decided\", \"service\", \"service.\", \"people\", \"5\", \"wait\", \"don't\", \"wasn't\", \"thai\", \"noodle\", \"pad\", \"curry\", \"duck\", \"tom\", \"pepper\", \"yum\", \"wonton\", \"chow\", \"chinese\", \"wendy's\", \"panang\", \"dish,\", \"thai,\", \"archi's\", \"thai.\", \"rice.\", \"papaya\", \"kong\", \"curry,\", \"lotus\", \"roti\", \"stir\", \"wontons\", \"dumplings\", \"spiciness\", \"udon\", \"peanuts\", \"xo\", \"pot\", \"sticky\", \"hong\", \"wong\", \"fried\", \"basil\", \"level\", \"curry.\", \"dish\", \"rice\", \"broccoli\", \"tea\", \"spice\", \"soup\", \"seafood\", \"salt\", \"chicken\", \"beef\", \"wings\", \"shrimp\", \"dishes\", \"dish.\", \"lunch\", \"style\", \"soup.\", \"spicy\", \"ordered\", \"noodles\", \"sauce\", \"rice,\", \"sweet\", \"good\", \"egg\", \"restaurant\", \"food\", \"good.\", \"order\", \"korean\", \"ayce\", \"brisket\", \"marinated\", \"ribs\", \"sides\", \"hut\", \"short\", \"bbq\", \"buffet\", \"beauty\", \"kbbq\", \"brisket,\", \"banchan\", \"bulgogi\", \"$16.99\", \"hut.\", \"tongue,\", \"bartenders\", \"$13.99\", \"bbq.\", \"outdoor\", \"cheapest\", \"barbecue\", \"grill\", \"10pm\", \"ribeye,\", \"venue\", \"hipster\", \"karaoke\", \"container\", \"ribs,\", \"bbq,\", \"play\", \"sushi\", \"tofu\", \"kimchi\", \"kalbi\", \"tongue\", \"cool\", \"late\", \"beer\", \"bar\", \"cook\", \"meat\", \"meats\", \"pulled\", \"night\", \"belly\", \"eat\", \"price\", \"side\", \"pork\", \"salad\", \"pretty\", \"place\", \"music\", \"don't\", \"you're\", \"good\", \"drinks\", \"i've\", \"beef\", \"time\", \"happy\", \"service\", \"love\", \"people\", \"back\", \"that's\", \"italian\", \"omelet\", \"potatoes\", \"breakfast\", \"pumpkin\", \"tapas\", \"wine\", \"blue\", \"pasta\", \"limo\", \"stuffed\", \"chicago\", \"di\", \"crabs\", \"omelette\", \"breakfast.\", \"cakes\", \"casa\", \"mashed\", \"maryland\", \"hash\", \"fries,\", \"meatballs\", \"barcelona\", \"amore\", \"zucchini\", \"burgers\", \"marinara\", \"mimi's\", \"potatoes,\", \"crab\", \"lobster\", \"eggs\", \"omelets\", \"sangria\", \"nut\", \"toast\", \"fries\", \"fries.\", \"bacon\", \"potato\", \"cheese\", \"sausage\", \"1/2\", \"banana\", \"french\", \"decor\", \"homemade\", \"atmosphere\", \"garlic\", \"dinner\", \"bread\", \"happy\", \"served\", \"great\", \"enjoyed\", \"nice\", \"ordered\", \"half\", \"meal\", \"good\", \"made\", \"place\", \"sauce\", \"service\", \"restaurant\", \"food\", \"good.\", \"back\", \"menu\", \"staff\", \"friendly\", \"sandwich\", \"coffee\", \"custard\", \"lee's\", \"sandwiches\", \"mi\", \"sandwich.\", \"turkey\", \"luv-it\", \"sandwich,\", \"vanilla\", \"strawberry\", \"sandwiches.\", \"gelato\", \"chocolate\", \"frozen\", \"donuts\", \"smoothie\", \"24\", \"western\", \"baguette\", \"bahn\", \"sundae\", \"coffee,\", \"donut\", \"farm\", \"banh\", \"custard,\", \"bakery\", \"machine\", \"cash\", \"sandwiches,\", \"custard.\", \"deli\", \"coffee.\", \"jason's\", \"yogurt\", \"ice\", \"flavors\", \"cream\", \"store\", \"location\", \"open\", \"bread\", \"cup\", \"line\", \"don't\", \"fresh\", \"make\", \"taste\", \"place\", \"love\", \"made\", \"day\", \"back\", \"good\", \"time\", \"vegas\", \"people\", \"it.\", \"free\", \"hot\", \"i've\", \"ramen\", \"miso\", \"ramen.\", \"monta\", \"ramen,\", \"chashu\", \"vegan\", \"shio\", \"crust\", \"deluxe\", \"gyoza\", \"shoyu\", \"sora\", \"killer\", \"chasu\", \"boiled\", \"thicker\", \"monta.\", \"pepperoni\", \"pie\", \"sapporo\", \"thick\", \"screaming\", \"slice\", \"ramen!\", \"shoots\", \"base\", \"monta's\", \"broths\", \"sora,\", \"pizza.\", \"sora.\", \"monta,\", \"pizza,\", \"japanese\", \"salty.\", \"broth\", \"slices\", \"pizza\", \"bowl\", \"bowl.\", \"pop\", \"salty\", \"extra\", \"rich\", \"spicy\", \"noodles\", \"pork\", \"flavorful\", \"broth.\", \"wait\", \"flavor\", \"large\", \"it.\", \"place\", \"cooked\", \"good\", \"i've\", \"super\", \"bit\", \"order\", \"ordered\", \"pretty\", \"taste\", \"don't\", \"lot\", \"wasn't\", \"big\", \"favorite\", \"love\", \"time\", \"mexican\", \"taco\", \"tacos\", \"carne\", \"burrito\", \"asada\", \"hawaiian\", \"huli\", \"los\", \"kalua\", \"guacamole\", \"chipotle\", \"bark\", \"de\", \"burritos\", \"braddah's\", \"salsa\", \"tacos.\", \"tortillas\", \"taco.\", \"burrito,\", \"carnitas\", \"tacos,\", \"pastor\", \"salsa,\", \"burrito.\", \"taco,\", \"beans.\", \"pulehu\", \"roberto's\", \"pig\", \"beans,\", \"el\", \"beans\", \"lettuce,\", \"sample\", \"coconut\", \"step\", \"sour\", \"sauces\", \"tortilla\", \"chips\", \"steak\", \"fish\", \"grilled\", \"friendly\", \"chicken\", \"food\", \"staff\", \"delicious\", \"nice\", \"great\", \"place\", \"love\", \"good\", \"fresh\", \"time\", \"made\", \"back\", \"make\", \"meat\", \"it.\", \"pho\", \"spring\", \"saigon\", \"pho,\", \"peruvian\", \"bo\", \"tai\", \"cha\", \"87\", \"!!!\", \"bun\", \"$30\", \"nuong\", \"pho.\", \"biet\", \"gio\", \"network\", \"ox\", \"gem!\", \"traveled\", \"asians\", \"ga\", \"hubs\", \"hu\", \"challenge.\", \"1.5\", \"hue,\", \"rocks.\", \"dinning\", \"groups.\", \"8\", \"rolls\", \"pho!\", \"oxtail\", \"rolls.\", \"msg.\", \"dac\", \"hitting\", \"vegas.\", \"environment\", \"efficient.\", \"large.\", \"services\", \"las\", \"restaurants\", \"vegas!\", \".\", \"town.\", \"reasonable\", \"great\", \"recommend\", \"reasonable.\", \"clean\", \"food\", \"strip.\", \"vietnamese\", \"service\", \"vegas\", \"place\", \"places\", \"highly\", \"!\", \"restaurant\", \"family\", \"prices\", \"good\", \"here.\", \"place.\", \"quality\", \"food.\", \"large\", \"love\", \"i've\", \"coming\", \"eat\", \"good.\", \"service.\", \"price\", \"time\"], \"loglift\": [30.0, 29.0, 28.0, 27.0, 26.0, 25.0, 24.0, 23.0, 22.0, 21.0, 20.0, 19.0, 18.0, 17.0, 16.0, 15.0, 14.0, 13.0, 12.0, 11.0, 10.0, 9.0, 8.0, 7.0, 6.0, 5.0, 4.0, 3.0, 2.0, 1.0, 2.0009, 2.0005, 2.0003, 2.0003, 2.0, 1.9999, 1.9999, 1.9996, 1.9996, 1.9994, 1.9994, 1.9992, 1.999, 1.999, 1.9989, 1.9987, 1.9984, 1.9984, 1.9983, 1.9981, 1.998, 1.9979, 1.9978, 1.9976, 1.9976, 1.9974, 1.9971, 1.997, 1.9969, 1.9969, 1.9938, 1.9843, 1.9947, 1.9958, 1.9709, 1.984, 1.9824, 1.9914, 1.9926, 1.9693, 1.9689, 1.9603, 1.9695, 1.9342, 1.8953, 1.8512, 1.8988, 1.8166, 1.8885, 1.79, 1.8602, 1.9074, 1.8215, 1.8941, 1.7985, 1.3721, 1.451, 1.6912, 1.606, 1.7506, 1.4747, 1.667, 1.6759, 1.0136, 0.9639, 0.5568, 1.5489, 0.7846, 1.1005, 1.3173, 1.2972, 0.4608, 1.3921, 0.9489, 1.2313, 0.9516, 0.1692, 0.6078, 2.0118, 2.0118, 2.0117, 2.0117, 2.0116, 2.0115, 2.0115, 2.0115, 2.0115, 2.0114, 2.0113, 2.0112, 2.0111, 2.0111, 2.0111, 2.0109, 2.0109, 2.0107, 2.0107, 2.0106, 2.0106, 2.0105, 2.0105, 2.0104, 2.0104, 2.0104, 2.0101, 2.01, 2.0099, 2.0098, 2.0092, 2.0092, 2.0091, 2.009, 1.9647, 1.9981, 1.9965, 2.0064, 1.9629, 1.935, 2.0038, 1.9149, 1.9481, 1.7678, 1.8664, 1.9011, 1.6208, 1.6165, 1.9175, 1.7121, 1.6797, 1.9222, 1.4904, 1.594, 1.7371, 1.2303, 0.8161, 1.2475, 1.1816, 1.6536, 1.2892, -0.1358, 1.2766, 0.5012, -0.7292, 0.3916, 0.0066, 2.0725, 2.0723, 2.0722, 2.0722, 2.0722, 2.0721, 2.0721, 2.072, 2.072, 2.0719, 2.0718, 2.0716, 2.0714, 2.0711, 2.0711, 2.071, 2.0708, 2.0707, 2.0707, 2.0705, 2.0705, 2.0703, 2.0701, 2.0701, 2.0701, 2.0699, 2.0696, 2.0693, 2.0693, 2.0692, 2.0646, 2.0691, 2.069, 2.0645, 2.0489, 2.0121, 2.0606, 2.0541, 2.0308, 1.962, 1.9159, 1.9382, 1.8344, 1.8825, 1.6024, 1.7867, 1.8812, 1.5562, 1.9081, 1.3211, 1.3941, 1.3312, 1.1315, 1.2299, 0.9078, 0.3947, 1.7233, 0.6564, 1.1379, 0.2264, 1.4574, 0.5051, 0.66, 0.0685, 1.1377, -0.0882, 0.0578, 0.5627, -0.2159, 0.8806, 2.0735, 2.0734, 2.0733, 2.0733, 2.0732, 2.0732, 2.0731, 2.0731, 2.0731, 2.0729, 2.0728, 2.0727, 2.0727, 2.0727, 2.0727, 2.0726, 2.0726, 2.0725, 2.0724, 2.0723, 2.0723, 2.0722, 2.0722, 2.0721, 2.0719, 2.0718, 2.0717, 2.0716, 2.0715, 2.0715, 2.0621, 2.0713, 2.0645, 2.0695, 2.0694, 2.0706, 2.0705, 2.0536, 2.0705, 2.0071, 1.9355, 1.817, 1.9861, 1.9962, 1.875, 1.814, 1.8302, 1.8728, 1.7176, 1.6802, 1.5204, 1.3292, 1.3888, 1.3223, 0.5862, 1.4044, 0.8383, 0.5377, 1.2339, 1.1962, -0.0151, 0.7745, -0.3748, 0.782, 0.1435, 0.4493, -0.4626, 0.4245, -0.0182, 0.5689, 0.6855, 0.5966, 2.0969, 2.0968, 2.0968, 2.0968, 2.0965, 2.0965, 2.0965, 2.0964, 2.0964, 2.0963, 2.0963, 2.0962, 2.0961, 2.096, 2.096, 2.0959, 2.0958, 2.0957, 2.0957, 2.0956, 2.0956, 2.0956, 2.0955, 2.0954, 2.0954, 2.0954, 2.0954, 2.0954, 2.0953, 2.0952, 2.0928, 2.0949, 2.0943, 2.0919, 2.0874, 2.0885, 2.0935, 1.9508, 1.8953, 1.8236, 1.9669, 1.7034, 1.6875, 1.4526, 1.7581, 1.6739, 0.7791, 1.0039, 0.7318, 0.8019, -0.2191, 0.3778, 0.7146, 1.092, 0.0822, -0.4543, -0.008, 0.4103, 0.5358, 0.1677, 1.2828, 0.5041, -0.2264, 2.1059, 2.1058, 2.1056, 2.1055, 2.1054, 2.1054, 2.1053, 2.1053, 2.1053, 2.1051, 2.1051, 2.1049, 2.1049, 2.1047, 2.1047, 2.1047, 2.1045, 2.1044, 2.1043, 2.1042, 2.1041, 2.104, 2.1039, 2.1038, 2.1036, 2.1031, 2.1031, 2.103, 2.1028, 2.1028, 2.1009, 2.1017, 2.1007, 2.0901, 2.0771, 2.0838, 2.0078, 2.0577, 1.9905, 1.7664, 1.9815, 1.973, 1.8783, 1.6857, 1.9591, 1.4929, 1.4789, 1.3177, 1.7502, 1.8607, 1.1719, 1.1442, 1.2258, 0.724, 0.0593, 1.3746, 0.054, 0.5344, 1.0179, 0.9052, 0.28, 0.1706, 0.4077, 0.7626, 0.1281, 0.7943, 0.6141, 0.6496, 0.6814, 0.0405, -0.2709, 2.1206, 2.1206, 2.1206, 2.1205, 2.1205, 2.1205, 2.1204, 2.1204, 2.1204, 2.1203, 2.1202, 2.1202, 2.1202, 2.12, 2.1199, 2.1197, 2.1197, 2.1197, 2.1196, 2.1196, 2.1196, 2.1196, 2.1195, 2.1195, 2.1195, 2.1194, 2.1194, 2.1193, 2.1192, 2.1192, 2.1168, 2.119, 2.1169, 2.1005, 2.1178, 2.1046, 2.0615, 2.0906, 2.0254, 2.031, 2.076, 1.8411, 1.723, 1.7187, 1.699, 1.2569, 0.7291, 0.2043, 1.1127, 1.1554, 0.8699, 0.3396, -0.1772, 0.5004, -0.1025, 0.9094, 0.102, 0.6941, 0.0867, 0.5675, 0.5193, 0.2204, 2.1623, 2.1621, 2.1618, 2.1616, 2.1611, 2.1605, 2.1604, 2.1604, 2.16, 2.1592, 2.1591, 2.1586, 2.1586, 2.158, 2.1578, 2.1575, 2.1573, 2.1572, 2.1572, 2.1572, 2.1567, 2.1566, 2.1563, 2.156, 2.1558, 2.1557, 2.1557, 2.1552, 2.1548, 2.1547, 2.1486, 2.1313, 2.1535, 2.1495, 2.1346, 2.147, 2.14, 2.1504, 2.0127, 2.1187, 2.1309, 2.105, 2.1378, 1.8675, 1.9107, 1.9805, 1.8369, 1.8932, 1.9004, 1.555, 1.6981, 1.9965, 1.7374, 1.3531, 1.8704, 1.7527, 1.4101, 1.5187, 1.2424, 1.5977, 1.7357, 1.863, 1.3422, 1.6181, 1.5138, 0.9137, 1.4416, 1.3536, 1.4977, 1.2474, 1.4256, 0.9246, 0.8456, 1.3403, 0.6955, 0.7089, 1.3772, 1.1245, -0.1209], \"Freq\": [15894.0, 14558.0, 43034.0, 24691.0, 47047.0, 10304.0, 18266.0, 11722.0, 11322.0, 7654.0, 7088.0, 20532.0, 11303.0, 8977.0, 6887.0, 5866.0, 6461.0, 16969.0, 5479.0, 9228.0, 5250.0, 19574.0, 10146.0, 9918.0, 5576.0, 38455.0, 6084.0, 7202.0, 4909.0, 12128.0, 1879.8264026355612, 831.5528873406162, 1700.7584429591393, 1670.7524605268738, 523.7495836806046, 4735.234408286612, 495.67947108267896, 403.7256539515435, 397.9180444485244, 366.9441270990893, 366.9441270990893, 4040.2571377586614, 299.18868289719995, 299.18868289719995, 2333.7878787882196, 1038.6909596149635, 240.1446529498392, 925.4425743060913, 232.40117361248042, 214.97834510342318, 500.51914566852827, 497.61534091701867, 198.52345151153574, 187.87616742266744, 445.34685538984695, 177.2288833337991, 630.2224245692878, 391.14250002833546, 377.5914111879576, 156.90225007323232, 1293.2578428306333, 2417.030281664827, 841.2322365123146, 480.19251240796143, 5409.885045553996, 1319.3920855942192, 1041.5947643664729, 473.41696798777247, 420.1805475434309, 1280.6746889074252, 1051.2741135381714, 1278.7388190730856, 764.7653780558967, 1584.6062528987575, 2115.0345875078337, 3342.376062479201, 1775.2894315812175, 4283.208801968293, 1504.2676547736603, 2978.432533623338, 1590.4138624017767, 1082.2480308876065, 2129.5536112653817, 1196.4643511136485, 1861.4356392093339, 9044.480659526775, 6690.4629409697045, 2381.216689729542, 2856.472734059937, 1771.417691912538, 3070.386350754474, 2030.8242497140573, 1981.459568938395, 6741.763491579706, 7016.657008055943, 10149.86233493474, 2340.5634232084085, 5798.0269473391045, 3730.5179642643093, 2917.4526338416376, 2659.0140109572885, 4399.360992028674, 2324.108529616521, 2933.907527433525, 2493.4971401212442, 2591.258566755399, 2840.01784046805, 2151.8161143602883, 15893.779982455113, 7653.620073328352, 5479.268550672117, 4909.170120123324, 2776.6517587530916, 1997.38752177428, 1941.9342614649263, 1894.2639148832013, 1699.691071692487, 1513.8740064453543, 4424.6837405784445, 1055.6549607312218, 883.4579945074395, 880.5394018595787, 867.8921670521822, 729.7454483867749, 697.640929260307, 2163.747302702341, 1363.0800529725504, 564.3585316746676, 553.6570252991783, 522.525370388664, 507.93240714936036, 478.74648067075316, 478.74648067075316, 473.88215959098534, 396.0530223146995, 362.975638972278, 357.1384536765566, 335.73544092557796, 1017.7132563090323, 991.445922478286, 600.3545076649498, 582.8429517777854, 11182.19858459196, 1409.777535338322, 1407.831806906415, 673.3193238614678, 4784.6435004812665, 10484.654941753248, 699.5866576922142, 2866.155266620821, 1475.932302023165, 8856.080244246969, 2395.288986099291, 1619.9162059842938, 12354.499964816016, 6214.753897933018, 1415.6147206340434, 3743.678789410943, 3641.528046735818, 1340.7041760056184, 4355.61038124574, 3177.471815725964, 2047.003596787912, 4108.502870393533, 5920.948904715039, 3353.5602388135608, 3502.4084638544573, 2012.9533492295373, 2557.757310163538, 4489.865643047334, 2262.9794527296053, 2677.4196087258274, 2775.678894537138, 2290.219650776305, 2284.382465480584, 4563.060069012678, 1734.8037131780702, 1505.1077520756835, 1484.1355121489437, 1451.1791351212098, 1281.4038595237935, 1267.4223662393006, 2627.6219272021303, 5862.340266378787, 959.8295139804521, 809.0291221262764, 688.1890730245859, 550.3714963631538, 456.4957557387001, 456.4957557387001, 413.55259779347125, 363.6186932059959, 356.6279465637493, 345.6424875545047, 321.6742133525165, 762.0912518140495, 299.70329533402736, 273.73766494854016, 270.74163067329164, 1433.2029294697188, 247.77203456305293, 228.79715081981226, 206.8262328013231, 203.83019852607455, 199.83548615907654, 808.0304440345269, 472.4746052066922, 465.4838585644457, 558.3609210971499, 909.8956093929767, 4705.871036132858, 390.5830016832326, 452.5010433717021, 672.2102235565939, 1590.9940679661408, 2530.750152302428, 1605.9742393423835, 3165.909418655115, 1671.8869933978513, 6197.8961052066215, 1594.988780333139, 1059.6973231554027, 3624.3026627681393, 843.9828553375092, 5663.603326120635, 2750.45933248732, 3134.9503978108805, 3958.859823504224, 2885.2808748735033, 4308.3971556165525, 8786.469719021346, 1245.4514482208112, 4304.402443249554, 2458.8453296964635, 6069.066631370935, 1659.9028562968572, 3190.876370948853, 2247.125574245568, 2668.56772896386, 1827.6807757107745, 2365.9682671637593, 2065.3661615471574, 1856.6424403715102, 1835.6702004447704, 1658.9041782051077, 2249.413669879521, 1982.2765557575879, 1531.4206085034698, 3563.251595468063, 1247.4012232288494, 1218.6020547919122, 1005.0909784491032, 961.3956884068539, 950.4718658962914, 809.4552480326688, 1606.8942913037188, 661.4871067532334, 651.5563590163587, 645.5979103742337, 625.736414900484, 573.1034518950474, 572.1103771213599, 548.2765825528602, 509.54666637904836, 469.82367543154896, 460.8860024683616, 442.0175817682994, 434.07298357879955, 417.1907124261123, 368.53004851542556, 349.6616278153634, 327.81398279423865, 315.89708550998887, 306.9594125468015, 296.0355900362392, 3611.91225937875, 1426.1546824925965, 1470.8430473085334, 622.7571905794216, 592.9649473687971, 516.4981897948608, 506.5674420579859, 2046.8264160472743, 508.55359160536085, 1095.460782854664, 2076.618659257899, 3894.938569879683, 943.5203424804791, 799.5245002957938, 1228.5328025287872, 1395.3693645082844, 1304.006485329036, 1040.8416703018524, 1594.9773940194689, 1683.361048877655, 2313.963530169208, 2840.2931602235744, 2346.7349977008944, 2045.833341273587, 5578.200311279969, 1733.0147875620291, 3083.5964797770084, 4212.722497459678, 1939.574340489026, 1969.3665836996506, 4761.892847308858, 2396.388736385269, 4065.7474309539307, 2207.704529384647, 2979.3236285398225, 2389.4372129694566, 3406.3457812254405, 2224.586800537334, 2234.517548274209, 1929.643592752151, 1707.1948434461547, 1637.6796092880306, 5249.322562241149, 3374.8140395112373, 2870.752908532214, 2525.396173247577, 3445.6820401043274, 1402.4877131457924, 1279.716388174664, 1157.9432040569595, 1041.160724206374, 917.3912583818219, 904.4154272873125, 789.6292291435744, 754.6942992737412, 679.8337352669556, 2500.4426519119816, 3099.327163966266, 552.0717060287081, 525.1219029862655, 1243.7833174514071, 496.175818236975, 495.17767738355116, 483.19998714246543, 456.25018410002264, 430.29852191100366, 426.3059584973084, 418.32083166991794, 1611.0991515113685, 410.3357048425275, 399.3561554548656, 372.4063524124228, 1075.0975132227834, 762.6794261011318, 614.9545797944081, 714.7686651367889, 684.8244395340746, 642.9025236902747, 477.2111420219226, 3729.1540424766886, 2226.952058073858, 2280.8516641587435, 992.2518223886075, 3362.8363492701515, 2774.9313866035286, 3139.252798103218, 1181.8985845391308, 1352.5806704746021, 4749.253994675822, 2551.3478354365957, 2599.258596400938, 2130.1323952917487, 4641.454782506049, 2775.929527456952, 2204.992959298534, 1632.0601094332685, 2413.6043976641104, 2998.5149377704615, 2412.6062568106863, 1878.6009002289488, 1763.814702085211, 1899.5618581508488, 1445.4077698430162, 1524.2608972634969, 1498.309235074478, 14557.876100539343, 3926.836016862394, 2216.7085667501774, 1435.8008107697317, 1405.5330682898696, 1317.7566150982689, 1141.1947839657394, 1082.6771485046722, 1033.239835787564, 799.169293943296, 798.1603691939673, 686.1697220184769, 2590.010724001812, 570.1433758456718, 564.0898273496994, 557.0273541043981, 483.3758474034, 447.0545564275653, 430.9117604383054, 391.56369521448454, 373.40304972656725, 1397.4616702952396, 334.05498450274627, 1253.1854311412294, 292.6890697802679, 243.25175706315952, 592.3397203309041, 233.16250956987213, 222.06433732725597, 222.06433732725597, 1123.034138477822, 398.6261684597857, 320.9389627614727, 732.580260487599, 1245.1140331465995, 727.5356367409554, 5857.917987077605, 1427.7294127751018, 6136.381217892338, 4260.790108890208, 954.5437053399222, 945.4633825959635, 1457.997155254964, 3048.0625601970605, 957.5704795879085, 4863.118184239467, 3847.1309616654235, 4612.904846405939, 1418.649090031143, 1073.5968257607135, 2908.8309447896936, 2389.2346988853924, 2075.459101844154, 3284.1509515399857, 6076.854657681943, 1666.8445783660134, 4940.805389937779, 3178.2138528604683, 2240.922760734067, 2380.154376141433, 2733.278038406493, 2826.099115344737, 2527.4573895434296, 2030.0574881243604, 2454.81480759176, 1954.3881319247048, 1950.3524329273898, 1933.2007121888012, 1785.897698786805, 1963.4684546686635, 1838.3617857518993, 3950.7754069156103, 3851.708320143582, 7086.899143719015, 2540.8206062914883, 2378.71082793726, 2293.6532281834984, 1719.2642604345658, 1688.243253465547, 1665.2276676498232, 1392.0426707936235, 1201.913918402862, 1146.8766479739572, 1107.850219851643, 890.7031710685101, 754.6110114624913, 647.5385035371676, 2340.685077459108, 1471.096204682414, 588.4985225316153, 588.4985225316153, 579.4924237341583, 579.4924237341583, 1326.9986239230998, 527.4571862377393, 523.4544756610917, 490.4321134037489, 484.42804753877743, 465.4151722997013, 427.3894218215489, 419.3840006682537, 1148.878003262281, 914.7194345283957, 947.7417967857386, 2028.473652480594, 560.479548495082, 939.7363756324434, 2847.027965405031, 836.6665782837674, 1843.348288310642, 1042.8061729811193, 773.6238867015675, 1814.3286366299467, 2454.762328893565, 2331.6789786616505, 1945.417408015156, 3024.147908421688, 4542.175894615295, 6331.387522376779, 2496.790789948365, 2363.7006632748316, 3036.156040151631, 4158.916356901287, 4726.300581141086, 3064.1750141881644, 4162.919067477934, 2266.6349317911267, 2629.880916621898, 2109.5285416577085, 2367.7033738514792, 2153.558358000832, 1999.4540007998987, 1955.424184456775, 10303.401239859766, 2748.4176162561935, 1215.7744815625038, 932.6317082552837, 566.3821823732482, 376.9760951097153, 350.8844402315755, 349.9180826434963, 297.73477288721676, 223.32523860511458, 829.231446330804, 186.60365025810307, 182.73821990578608, 1087.2489223479636, 153.7474922634086, 142.15120120645759, 138.28577085414062, 134.4203405018236, 134.4203405018236, 133.45398291374434, 122.82404944487261, 120.89133426871412, 115.09318874023862, 108.32868562368387, 106.39597044752537, 104.46325527136688, 103.49689768328763, 96.73239456673288, 91.90060662633663, 89.96789145017813, 1783.0263857650234, 1763.6992340034383, 186.60365025810307, 277.4412635375526, 520.9633757335234, 174.04100161307284, 205.93080201968806, 139.25212844221986, 5238.72112073642, 328.6582157057528, 239.7533176024618, 342.18722193886225, 187.57000784618234, 4506.222068972349, 2559.0115289926607, 878.5156833228458, 3227.730979943501, 1638.0727475531357, 1157.7930262777488, 13451.79426182196, 3688.6835494573033, 522.896090909682, 2298.094980211263, 19158.13581942993, 1041.830115708239, 1841.007841049778, 9677.201522784413, 5331.491449192028, 18750.332917260486, 3438.396934144778, 1734.708506361061, 997.3776666565934, 5341.1550250728205, 2214.021870048369, 2759.0475497250654, 11032.03486127152, 2991.939728452164, 3324.366738751426, 2423.7214666615655, 3433.5651462043816, 2395.6970966072677, 4492.693062739239, 4100.351881979064, 2311.623986444373, 2769.677483193937, 2705.8978823807065, 1949.2398909146543, 1920.2491632722767, 2018.8176372563598], \"Total\": [15894.0, 14558.0, 43034.0, 24691.0, 47047.0, 10304.0, 18266.0, 11722.0, 11322.0, 7654.0, 7088.0, 20532.0, 11303.0, 8977.0, 6887.0, 5866.0, 6461.0, 16969.0, 5479.0, 9228.0, 5250.0, 19574.0, 10146.0, 9918.0, 5576.0, 38455.0, 6084.0, 7202.0, 4909.0, 12128.0, 1880.5202744271994, 832.2467591322545, 1702.4529923949394, 1672.444473171936, 524.4434554722429, 4741.818066557099, 496.37334287431736, 404.4195257431819, 398.6119162401628, 367.6379988907277, 367.6379988907277, 4048.9361363776907, 299.88255468883835, 299.88255468883835, 2339.452727766358, 1041.3811131134494, 240.83852474147764, 928.1440489388079, 233.09504540411885, 215.6722168950616, 502.18588167612023, 499.3078908004066, 199.21732330317417, 188.57003921430587, 447.0135913974389, 177.92275512543753, 632.8490115370846, 392.8370494641358, 379.2516405676753, 157.59612186487075, 1302.9705574207549, 2458.50393305111, 846.7904293837207, 482.86166653700786, 5576.683795904296, 1342.4618343527898, 1061.4582063953571, 478.1135503560585, 423.8688493970806, 1322.3462551689643, 1085.8578622036268, 1332.3246756731455, 789.4469820174213, 1694.538349796019, 2351.5509722061497, 3883.6349138891915, 1966.854623850746, 5151.8931282510885, 1683.957718229339, 3679.2630275277506, 1831.4635293770689, 1188.7448331421685, 2548.9430069232817, 1331.8466289495188, 2279.95926320221, 16969.21232661619, 11599.512970959771, 3247.07649841978, 4241.4319981409935, 2276.1557942106692, 5198.701480736729, 2837.0199056358792, 2743.3704870537395, 18101.66491723187, 19800.61145035309, 43034.10613025738, 3679.5290237239333, 19574.746807912416, 9182.611406841099, 5781.598662357491, 5376.759779429618, 20532.320294727404, 4273.945656564007, 8403.946125804152, 5385.335587312102, 7402.435088854478, 17741.16220115209, 8669.946975707555, 15894.473361316874, 7654.313452190112, 5479.961929533877, 4909.863498985083, 2777.3451376148523, 1998.0809006360398, 1942.627640326686, 1894.9572937449611, 1700.3844505542468, 1514.5673853071141, 4427.374475623704, 1056.3483395929816, 884.1513733691994, 881.2327807213386, 868.5855459139422, 730.4388272485348, 698.3343081220669, 2166.37339674026, 1364.7397894223895, 565.0519105364275, 554.3504041609382, 523.2187492504239, 508.6257860111204, 479.4398595325132, 479.4398595325132, 474.5755384527454, 396.7464011764595, 363.669017834038, 357.83183253831663, 336.428819787338, 1020.4039913542913, 994.0751711743856, 602.0158214438795, 584.5026882276246, 11722.369315200644, 1429.3835428308444, 1429.7023588464992, 677.0229827608803, 5024.6907084131335, 11322.881516387512, 705.2612603980529, 3157.94719833646, 1573.0930838324734, 11303.635892417053, 2770.4219845037915, 1809.7316609354161, 18266.719283443697, 9228.879684900516, 1555.7813453770232, 5052.118795713952, 5076.292832470621, 1466.5381825405377, 7336.665796140132, 4825.562943984711, 2694.358678597812, 8977.079649016307, 19574.746807912416, 7202.276761639499, 8034.672767245399, 2880.2215706210313, 5268.686541528988, 38455.196171676536, 4720.626442162443, 12128.640555751368, 43034.10613025738, 11575.24056170829, 16969.21232661619, 4563.750866486858, 1735.4945106522507, 1505.798549549864, 1484.8263096231242, 1451.8699325953903, 1282.094656997974, 1268.113163713481, 2629.27908226439, 5866.041988125313, 960.5203114546324, 809.7199196004567, 688.8798704987662, 551.0622938373341, 457.18655321288054, 457.18655321288054, 414.2433952676517, 364.30949068017634, 357.3187440379297, 346.33328502868517, 322.36501082669696, 763.7499842053998, 300.3940928082078, 274.4284624227206, 271.4324281474721, 1436.895759876385, 248.4628320372334, 229.48794829399273, 207.51703027550357, 204.52099600025502, 200.526283633257, 814.5288510117263, 474.1333375980425, 467.17279689205, 562.9536641762636, 931.7738266030606, 4999.393962609063, 395.30949815472803, 460.9900358324613, 700.9199950673075, 1777.188909047225, 2960.102883477751, 1837.0550427372175, 4017.6729000499445, 2022.0022959703467, 9918.7166727396, 2123.0023762245596, 1283.3522431260683, 6074.367152017289, 994.967379928297, 12008.074098418247, 5421.186840074825, 6580.148847756472, 10146.448876322293, 6701.685583537687, 13810.972313931783, 47047.35416847815, 1766.2046106762436, 17741.16220115209, 6261.951632227627, 38455.196171676536, 3071.0608735788633, 15299.457138868502, 9228.879684900516, 19800.61145035309, 4655.332532606195, 20532.320294727404, 15490.05855089984, 8403.946125804152, 18101.66491723187, 5463.948233291967, 2250.105027685508, 1982.9679135635745, 1532.1119663094564, 3564.909310862129, 1248.092581034836, 1219.2934125978989, 1005.7823362550897, 962.0870462128404, 951.163223702278, 810.1466058386553, 1608.558513325659, 662.17846455922, 652.2477168223452, 646.2892681802202, 626.4277727064705, 573.794809701034, 572.8017349273464, 548.9679403588467, 510.238024185035, 470.5150332375356, 461.5773602743482, 442.70893957428603, 434.7643413847862, 417.88207023209895, 369.2214063214122, 350.35298562135, 328.5053406002253, 316.5884433159755, 307.65077035278813, 296.72694784222585, 3654.436778470741, 1429.7498450500927, 1484.5422452556684, 625.4130468269112, 595.5905976800328, 518.1559051889266, 508.22673478114234, 2088.545557263899, 510.243627503097, 1171.052997541864, 2384.494059192642, 5035.401764386078, 1029.9501344777314, 864.0097481351477, 1498.722190759202, 1809.2910356317277, 1663.5887982305833, 1272.4836435727427, 2277.3489441229485, 2495.115820624566, 4024.3885920348207, 5980.137502047436, 4655.332532606195, 4337.468083225501, 24691.039746951763, 3384.4906298726787, 10607.298650334686, 19574.746807912416, 4492.048510215285, 4736.258098381741, 38455.196171676536, 8786.398293912469, 47047.35416847815, 8034.672767245399, 20532.320294727404, 12128.640555751368, 43034.10613025738, 11575.24056170829, 18101.66491723187, 8690.777227685297, 6842.50918919661, 7174.160421249797, 5250.013413439162, 3375.5048907092505, 2871.443759730227, 2526.08702444559, 3447.3735689465025, 1403.1785643438054, 1280.407239372677, 1158.6340552549725, 1041.851575404387, 918.0821095798349, 905.1062784853254, 790.3200803415874, 755.3851504717542, 680.5245864649686, 2503.151352608652, 3102.917087928517, 552.7625572267211, 525.8127541842784, 1245.4672434231077, 496.86666943498795, 495.86852858156414, 483.8908383404784, 456.9410352980356, 430.98937310901664, 426.99680969532136, 419.0116828679309, 1613.7913579977053, 411.02655604054047, 400.04700665287857, 373.09720361043577, 1079.660104089476, 764.336634887224, 616.6117885805004, 718.4615492672875, 691.4737393742124, 648.4251628286839, 478.91091796926435, 4316.462298699571, 2724.66481993766, 2998.0277085766797, 1130.1564394953293, 4984.912241131915, 4179.526635739921, 5980.137502047436, 1658.738488268949, 2065.1442090742466, 17741.16220115209, 7612.077475646298, 10180.100689355, 7778.479445742772, 47047.35416847815, 15490.05855089984, 8786.398293912469, 4458.640082563426, 18101.66491723187, 38455.196171676536, 19800.61145035309, 10147.635929132342, 8403.946125804152, 13078.969914525105, 3262.863070047581, 7496.833178663938, 15299.457138868502, 14558.565873347765, 3927.5257896708167, 2217.3983395586, 1436.4905835781542, 1406.222841098292, 1318.4463879066914, 1141.8845567741619, 1083.3669213130947, 1033.9296085959866, 799.8590667517185, 798.8501420023898, 686.8594948268994, 2592.6462252421416, 570.8331486540943, 564.7796001581219, 557.7171269128206, 484.0656202118225, 447.7443292359878, 431.6015332467279, 392.25346802290704, 374.09282253498975, 1400.1487992871612, 334.74475731116877, 1255.8462090190294, 293.3788425886904, 243.94152987158208, 594.0281712310762, 233.8522823782947, 222.75411013567853, 222.75411013567853, 1128.717301744992, 400.31661891237013, 322.626876423319, 744.2554923052661, 1281.5590367139541, 743.7863077058513, 6461.649214903562, 1498.32665200599, 6887.220551507392, 5983.310219134555, 1080.991434042824, 1079.9040297631764, 1830.712263866582, 4639.921965386432, 1108.9795212633262, 8977.079649016307, 7202.276761639499, 10146.448876322293, 2024.6483734821484, 1371.9263130266356, 7402.435088854478, 6250.857536804816, 5004.652576713928, 13078.969914525105, 47047.35416847815, 3463.4721542568377, 38455.196171676536, 15299.457138868502, 6652.3057433889735, 7908.369053837128, 16969.21232661619, 19574.746807912416, 13810.972313931783, 7778.479445742772, 17741.16220115209, 7254.8286408188305, 8669.946975707555, 8294.15058369187, 7422.188296744409, 15490.05855089984, 19800.61145035309, 3951.4660044345496, 3852.3989176625214, 7088.588419329703, 2541.5112038104276, 2379.4014254561994, 2294.3438257024377, 1719.954857953505, 1688.9338509844863, 1665.9182651687624, 1392.7332683125628, 1202.6045159218013, 1147.5672454928965, 1108.5408173705823, 891.3937685874492, 755.3016089814305, 648.2291010561067, 2343.3618245254224, 1472.7849430547772, 589.1891200505545, 589.1891200505545, 580.1830212530974, 580.1830212530974, 1328.687362295463, 528.1477837566785, 524.1450731800309, 491.1227109226881, 485.11864505771666, 466.1057698186405, 428.08001934048815, 420.0745981871929, 1153.435608462628, 916.3828962632884, 951.4284285799264, 2070.098882672645, 562.168286867445, 955.0648448787023, 3020.888393363706, 862.3273906557895, 2027.9174199467916, 1140.819252628791, 809.0721012995687, 2399.9402758508145, 3654.0941782532987, 3485.799778259857, 2966.046342655513, 7174.160421249797, 18266.719283443697, 43034.10613025738, 6842.50918919661, 6206.501990790807, 10607.298650334686, 24691.039746951763, 47047.35416847815, 15490.05855089984, 38455.196171676536, 7612.077475646298, 19800.61145035309, 8786.398293912469, 18101.66491723187, 10180.100689355, 9918.7166727396, 13078.969914525105, 10304.095269384314, 2749.111645780741, 1216.4685110870512, 933.3257377798311, 567.0762118977956, 377.6701246342628, 351.578469756123, 350.6121121680438, 298.42880241176425, 224.01926812966207, 831.9116254027265, 187.29767978265056, 183.43224943033357, 1091.978650869826, 154.44152178795608, 142.84523073100507, 138.9798003786881, 135.1143700263711, 135.1143700263711, 134.14801243829183, 123.5180789694201, 121.5853637932616, 115.7872182647861, 109.02271514823136, 107.08999997207286, 105.15728479591436, 104.19092720783512, 97.42642409128037, 92.59463615088411, 90.66192097472562, 1807.6504653730606, 1819.2910104662951, 188.26561469982042, 281.0390978136096, 535.6313772060042, 176.73185008279364, 210.5871890216768, 140.9190221827209, 6084.593549481781, 343.3099241914099, 247.41934790915056, 362.378956897949, 192.23633646547975, 6051.486280430679, 3291.323395437354, 1053.7429105853605, 4469.166037455468, 2144.05117099152, 1504.5392509443766, 24691.039746951763, 5868.199258597908, 617.2014483660234, 3515.10431219168, 43034.10613025738, 1395.0824998460296, 2772.9672868187386, 20532.320294727404, 10147.635929132342, 47047.35416847815, 6047.602719284765, 2657.728618558853, 1345.3792919777827, 12128.640555751368, 3815.485238295696, 5277.2257520262665, 38455.196171676536, 6151.033959359259, 7463.224697439381, 4711.2500571191085, 8572.581853741307, 5004.652576713928, 15490.05855089984, 15299.457138868502, 5259.029821604614, 12008.074098418247, 11575.24056170829, 4273.945656564007, 5421.186840074825, 19800.61145035309], \"logprob\": [30.0, 29.0, 28.0, 27.0, 26.0, 25.0, 24.0, 23.0, 22.0, 21.0, 20.0, 19.0, 18.0, 17.0, 16.0, 15.0, 14.0, 13.0, 12.0, 11.0, 10.0, 9.0, 8.0, 7.0, 6.0, 5.0, 4.0, 3.0, 2.0, 1.0, -5.7469, -6.5625, -5.847, -5.8648, -7.0248, -4.823, -7.0799, -7.2851, -7.2996, -7.3806, -7.3806, -4.9818, -7.5848, -7.5848, -5.5306, -6.3401, -7.8046, -6.4556, -7.8374, -7.9153, -7.0702, -7.076, -7.9949, -8.05, -7.187, -8.1084, -6.8398, -7.3168, -7.352, -8.2302, -6.1209, -5.4955, -6.551, -7.1116, -4.6898, -6.1009, -6.3373, -7.1258, -7.2451, -6.1307, -6.3281, -6.1322, -6.6463, -5.9177, -5.629, -5.1714, -5.8041, -4.9234, -5.9698, -5.2867, -5.9141, -6.299, -5.6222, -6.1987, -5.7567, -4.1759, -4.4774, -5.5105, -5.3285, -5.8063, -5.2563, -5.6696, -5.6942, -4.4697, -4.4298, -4.0606, -5.5277, -4.6206, -5.0615, -5.3074, -5.4001, -4.8966, -5.5347, -5.3017, -5.4644, -5.4259, -5.3343, -5.6118, -3.6016, -4.3323, -4.6665, -4.7764, -5.3463, -5.6757, -5.7038, -5.7287, -5.8371, -5.9528, -4.8803, -6.3133, -6.4914, -6.4947, -6.5092, -6.6826, -6.7276, -5.5957, -6.0578, -6.9396, -6.9587, -7.0166, -7.0449, -7.1041, -7.1041, -7.1143, -7.2937, -7.3809, -7.3971, -7.4589, -6.3499, -6.3761, -6.8777, -6.9073, -3.9532, -6.0241, -6.0255, -6.763, -4.8021, -4.0176, -6.7248, -5.3145, -5.9782, -4.1864, -5.494, -5.8851, -3.8535, -4.5406, -6.0199, -5.0474, -5.0751, -6.0743, -4.896, -5.2114, -5.6511, -4.9544, -4.589, -5.1575, -5.1141, -5.6679, -5.4284, -4.8657, -5.5508, -5.3826, -5.3466, -5.5389, -5.5414, -4.7887, -5.7558, -5.8979, -5.9119, -5.9343, -6.0588, -6.0697, -5.3406, -4.5382, -6.3477, -6.5186, -6.6804, -6.9039, -7.0909, -7.0909, -7.1897, -7.3184, -7.3378, -7.3691, -7.4409, -6.5784, -7.5117, -7.6023, -7.6133, -5.9468, -7.702, -7.7816, -7.8826, -7.8972, -7.917, -6.5199, -7.0565, -7.0714, -6.8895, -6.4011, -4.7579, -7.2468, -7.0997, -6.7039, -5.8424, -5.3782, -5.833, -5.1543, -5.7928, -4.4825, -5.8399, -6.2487, -5.0191, -6.4763, -4.5727, -5.295, -5.1641, -4.9308, -5.2471, -4.8462, -4.1335, -6.0872, -4.8471, -5.407, -4.5035, -5.8, -5.1464, -5.4971, -5.3252, -5.7037, -5.4455, -5.5814, -5.688, -5.6993, -5.8006, -5.4949, -5.6213, -5.8794, -5.0349, -6.0845, -6.1079, -6.3005, -6.345, -6.3564, -6.517, -5.8313, -6.7189, -6.734, -6.7432, -6.7744, -6.8623, -6.864, -6.9066, -6.9798, -7.061, -7.0802, -7.122, -7.1401, -7.1798, -7.3038, -7.3564, -7.4209, -7.4579, -7.4866, -7.5229, -5.0213, -5.9506, -5.9198, -6.7792, -6.8282, -6.9663, -6.9857, -5.5893, -6.9818, -6.2144, -5.5748, -4.9459, -6.3637, -6.5293, -6.0998, -5.9724, -6.0401, -6.2656, -5.8387, -5.7848, -5.4666, -5.2617, -5.4526, -5.5898, -4.5867, -5.7557, -5.1795, -4.8675, -5.6431, -5.6279, -4.7449, -5.4316, -4.903, -5.5136, -5.2139, -5.4345, -5.0799, -5.506, -5.5016, -5.6483, -5.7707, -5.8123, -4.6242, -5.066, -5.2278, -5.3559, -5.0452, -5.9441, -6.0357, -6.1357, -6.242, -6.3686, -6.3828, -6.5185, -6.5638, -6.6682, -5.3659, -5.1511, -6.8764, -6.9265, -6.0642, -6.9832, -6.9852, -7.0097, -7.067, -7.1256, -7.1349, -7.1538, -5.8054, -7.1731, -7.2002, -7.2701, -6.2099, -6.5532, -6.7685, -6.6181, -6.6609, -6.7241, -7.0221, -4.9662, -5.4817, -5.4578, -6.2901, -5.0695, -5.2617, -5.1383, -6.1152, -5.9803, -4.7243, -5.3457, -5.3271, -5.5261, -4.7473, -5.2613, -5.4916, -5.7925, -5.4012, -5.1842, -5.4016, -5.6518, -5.7149, -5.6407, -5.9139, -5.8608, -5.878, -3.5953, -4.9056, -5.4774, -5.9117, -5.933, -5.9975, -6.1414, -6.194, -6.2407, -6.4976, -6.4989, -6.6501, -5.3218, -6.8353, -6.846, -6.8586, -7.0004, -7.0785, -7.1153, -7.211, -7.2585, -5.9388, -7.3699, -6.0477, -7.5021, -7.6871, -6.7971, -7.7295, -7.7782, -7.7782, -6.1574, -7.1932, -7.4099, -6.5846, -6.0542, -6.5915, -4.5056, -5.9173, -4.4592, -4.824, -6.32, -6.3295, -5.8964, -5.1589, -6.3168, -4.6918, -4.9261, -4.7446, -5.9237, -6.2024, -5.2057, -5.4025, -5.5433, -5.0843, -4.4689, -5.7625, -4.6759, -5.1171, -5.4665, -5.4063, -5.2679, -5.2345, -5.3462, -5.5654, -5.3754, -5.6034, -5.6054, -5.6143, -5.6935, -5.5987, -5.6646, -4.8847, -4.9101, -4.3003, -5.3261, -5.392, -5.4284, -5.7167, -5.7349, -5.7486, -5.9278, -6.0747, -6.1215, -6.1561, -6.3743, -6.5401, -6.6931, -5.4081, -5.8726, -6.7888, -6.7888, -6.8042, -6.8042, -5.9757, -6.8983, -6.9059, -6.971, -6.9834, -7.0234, -7.1086, -7.1275, -6.1198, -6.3477, -6.3122, -5.5513, -6.8375, -6.3207, -5.2123, -6.4369, -5.647, -6.2167, -6.5152, -5.6629, -5.3605, -5.412, -5.5931, -5.1519, -4.7452, -4.4131, -5.3436, -5.3983, -5.148, -4.8333, -4.7054, -5.1388, -4.8324, -5.4403, -5.2916, -5.5121, -5.3966, -5.4914, -5.5657, -5.588, -3.8846, -5.206, -6.0216, -6.2868, -6.7855, -7.1926, -7.2643, -7.2671, -7.4286, -7.7162, -6.4043, -7.8958, -7.9167, -6.1334, -8.0895, -8.1679, -8.1955, -8.2238, -8.2238, -8.231, -8.314, -8.3299, -8.379, -8.4396, -8.4576, -8.476, -8.4852, -8.5528, -8.6041, -8.6253, -5.6387, -5.6496, -7.8958, -7.4992, -6.8691, -7.9655, -7.7972, -8.1885, -4.561, -7.3298, -7.6452, -7.2894, -7.8906, -4.7116, -5.2774, -6.3466, -5.0453, -5.7235, -6.0705, -3.6179, -4.9118, -6.8654, -5.3849, -3.2643, -6.1761, -5.6067, -3.9473, -4.5434, -3.2858, -4.982, -5.6662, -6.2197, -4.5416, -5.4222, -5.2021, -3.8162, -5.1211, -5.0158, -5.3317, -4.9834, -5.3434, -4.7146, -4.806, -5.3791, -5.1983, -5.2216, -5.5496, -5.5646, -5.5145]}};\n",
       "\n",
       "function LDAvis_load_lib(url, callback){\n",
       "  var s = document.createElement('script');\n",
       "  s.src = url;\n",
       "  s.async = true;\n",
       "  s.onreadystatechange = s.onload = callback;\n",
       "  s.onerror = function(){console.warn(\"failed to load library \" + url);};\n",
       "  document.getElementsByTagName(\"head\")[0].appendChild(s);\n",
       "}\n",
       "\n",
       "if(typeof(LDAvis) !== \"undefined\"){\n",
       "   // already loaded: just create the visualization\n",
       "   !function(LDAvis){\n",
       "       new LDAvis(\"#\" + \"ldavis_el19631401941802244648147276900\", ldavis_el19631401941802244648147276900_data);\n",
       "   }(LDAvis);\n",
       "}else if(typeof define === \"function\" && define.amd){\n",
       "   // require.js is available: use it to load d3/LDAvis\n",
       "   require.config({paths: {d3: \"https://cdnjs.cloudflare.com/ajax/libs/d3/3.5.5/d3.min\"}});\n",
       "   require([\"d3\"], function(d3){\n",
       "      window.d3 = d3;\n",
       "      LDAvis_load_lib(\"https://cdn.rawgit.com/bmabey/pyLDAvis/files/ldavis.v1.0.0.js\", function(){\n",
       "        new LDAvis(\"#\" + \"ldavis_el19631401941802244648147276900\", ldavis_el19631401941802244648147276900_data);\n",
       "      });\n",
       "    });\n",
       "}else{\n",
       "    // require.js not available: dynamically load d3 & LDAvis\n",
       "    LDAvis_load_lib(\"https://cdnjs.cloudflare.com/ajax/libs/d3/3.5.5/d3.min.js\", function(){\n",
       "         LDAvis_load_lib(\"https://cdn.rawgit.com/bmabey/pyLDAvis/files/ldavis.v1.0.0.js\", function(){\n",
       "                 new LDAvis(\"#\" + \"ldavis_el19631401941802244648147276900\", ldavis_el19631401941802244648147276900_data);\n",
       "            })\n",
       "         });\n",
       "}\n",
       "</script>"
      ],
      "text/plain": [
       "<IPython.core.display.HTML object>"
      ]
     },
     "execution_count": 20,
     "metadata": {},
     "output_type": "execute_result"
    }
   ],
   "source": [
    "pyLDAvis.display(topic_model_vis)"
   ]
  },
  {
   "cell_type": "code",
   "execution_count": null,
   "metadata": {
    "collapsed": true
   },
   "outputs": [],
   "source": [
    "pyLDAvis.save_html(topic_model_vis, '/Users/eric/MCSDS/CS498/Project/data/LDAModel.html')"
   ]
  },
  {
   "cell_type": "code",
   "execution_count": 66,
   "metadata": {
    "collapsed": false
   },
   "outputs": [
    {
     "data": {
      "text/html": [
       "<pre>Finished parsing file /Users/eric/MCSDS/CS498/Project/data/Restaurant_Inspections.csv</pre>"
      ],
      "text/plain": [
       "Finished parsing file /Users/eric/MCSDS/CS498/Project/data/Restaurant_Inspections.csv"
      ]
     },
     "metadata": {},
     "output_type": "display_data"
    },
    {
     "data": {
      "text/html": [
       "<pre>Parsing completed. Parsed 100 lines in 1.60304 secs.</pre>"
      ],
      "text/plain": [
       "Parsing completed. Parsed 100 lines in 1.60304 secs."
      ]
     },
     "metadata": {},
     "output_type": "display_data"
    },
    {
     "name": "stdout",
     "output_type": "stream",
     "text": [
      "------------------------------------------------------\n",
      "Inferred types from first 100 line(s) of file as \n",
      "column_type_hints=[str,str,str,str,str,str,str,str,str,int,str,str,str,str,str,str,int,str,str,str,str,str,str]\n",
      "If parsing fails due to incorrect types, you can correct\n",
      "the inferred type list above and pass it to read_csv in\n",
      "the column_type_hints argument\n",
      "------------------------------------------------------\n"
     ]
    },
    {
     "data": {
      "text/html": [
       "<pre>Finished parsing file /Users/eric/MCSDS/CS498/Project/data/Restaurant_Inspections.csv</pre>"
      ],
      "text/plain": [
       "Finished parsing file /Users/eric/MCSDS/CS498/Project/data/Restaurant_Inspections.csv"
      ]
     },
     "metadata": {},
     "output_type": "display_data"
    },
    {
     "data": {
      "text/html": [
       "<pre>Parsing completed. Parsed 122965 lines in 1.37299 secs.</pre>"
      ],
      "text/plain": [
       "Parsing completed. Parsed 122965 lines in 1.37299 secs."
      ]
     },
     "metadata": {},
     "output_type": "display_data"
    }
   ],
   "source": [
    "## import and wrangle restaurant inspections for matching with Yelp Reviews\n",
    "### import\n",
    "sfInsp = gl.SFrame('/Users/eric/MCSDS/CS498/Project/data/Restaurant_Inspections.csv')"
   ]
  },
  {
   "cell_type": "code",
   "execution_count": 67,
   "metadata": {
    "collapsed": false
   },
   "outputs": [
    {
     "data": {
      "text/html": [
       "<div style=\"max-height:1000px;max-width:1500px;overflow:auto;\"><table frame=\"box\" rules=\"cols\">\n",
       "    <tr>\n",
       "        <th style=\"padding-left: 1em; padding-right: 1em; text-align: center\">Serial Number</th>\n",
       "        <th style=\"padding-left: 1em; padding-right: 1em; text-align: center\">Permit Number</th>\n",
       "        <th style=\"padding-left: 1em; padding-right: 1em; text-align: center\">Restaurant Name</th>\n",
       "        <th style=\"padding-left: 1em; padding-right: 1em; text-align: center\">Location Name</th>\n",
       "        <th style=\"padding-left: 1em; padding-right: 1em; text-align: center\">Category Name</th>\n",
       "        <th style=\"padding-left: 1em; padding-right: 1em; text-align: center\">Address</th>\n",
       "    </tr>\n",
       "    <tr>\n",
       "        <td style=\"padding-left: 1em; padding-right: 1em; text-align: center; vertical-align: top\">DA0001131</td>\n",
       "        <td style=\"padding-left: 1em; padding-right: 1em; text-align: center; vertical-align: top\">PR0000411</td>\n",
       "        <td style=\"padding-left: 1em; padding-right: 1em; text-align: center; vertical-align: top\">Black Mountain Clubhouse<br>Restaurant ...</td>\n",
       "        <td style=\"padding-left: 1em; padding-right: 1em; text-align: center; vertical-align: top\">Black Mountain Clubhouse</td>\n",
       "        <td style=\"padding-left: 1em; padding-right: 1em; text-align: center; vertical-align: top\">Restaurant</td>\n",
       "        <td style=\"padding-left: 1em; padding-right: 1em; text-align: center; vertical-align: top\">500 Greenway Rd</td>\n",
       "    </tr>\n",
       "    <tr>\n",
       "        <td style=\"padding-left: 1em; padding-right: 1em; text-align: center; vertical-align: top\">DA0001132</td>\n",
       "        <td style=\"padding-left: 1em; padding-right: 1em; text-align: center; vertical-align: top\">PR0000411</td>\n",
       "        <td style=\"padding-left: 1em; padding-right: 1em; text-align: center; vertical-align: top\">Black Mountain Clubhouse<br>Restaurant ...</td>\n",
       "        <td style=\"padding-left: 1em; padding-right: 1em; text-align: center; vertical-align: top\">Black Mountain Clubhouse</td>\n",
       "        <td style=\"padding-left: 1em; padding-right: 1em; text-align: center; vertical-align: top\">Restaurant</td>\n",
       "        <td style=\"padding-left: 1em; padding-right: 1em; text-align: center; vertical-align: top\">500 Greenway Rd</td>\n",
       "    </tr>\n",
       "    <tr>\n",
       "        <td style=\"padding-left: 1em; padding-right: 1em; text-align: center; vertical-align: top\">DA0001133</td>\n",
       "        <td style=\"padding-left: 1em; padding-right: 1em; text-align: center; vertical-align: top\">PR0000411</td>\n",
       "        <td style=\"padding-left: 1em; padding-right: 1em; text-align: center; vertical-align: top\">Black Mountain Clubhouse<br>Restaurant ...</td>\n",
       "        <td style=\"padding-left: 1em; padding-right: 1em; text-align: center; vertical-align: top\">Black Mountain Clubhouse</td>\n",
       "        <td style=\"padding-left: 1em; padding-right: 1em; text-align: center; vertical-align: top\">Restaurant</td>\n",
       "        <td style=\"padding-left: 1em; padding-right: 1em; text-align: center; vertical-align: top\">500 Greenway Rd</td>\n",
       "    </tr>\n",
       "    <tr>\n",
       "        <td style=\"padding-left: 1em; padding-right: 1em; text-align: center; vertical-align: top\">DA0001173</td>\n",
       "        <td style=\"padding-left: 1em; padding-right: 1em; text-align: center; vertical-align: top\">PR0000412</td>\n",
       "        <td style=\"padding-left: 1em; padding-right: 1em; text-align: center; vertical-align: top\">Black Mountain Clubhouse<br>Bar ...</td>\n",
       "        <td style=\"padding-left: 1em; padding-right: 1em; text-align: center; vertical-align: top\">Black Mountain Clubhouse</td>\n",
       "        <td style=\"padding-left: 1em; padding-right: 1em; text-align: center; vertical-align: top\">Bar / Tavern</td>\n",
       "        <td style=\"padding-left: 1em; padding-right: 1em; text-align: center; vertical-align: top\">500 Greenway Rd</td>\n",
       "    </tr>\n",
       "    <tr>\n",
       "        <td style=\"padding-left: 1em; padding-right: 1em; text-align: center; vertical-align: top\">DA0001174</td>\n",
       "        <td style=\"padding-left: 1em; padding-right: 1em; text-align: center; vertical-align: top\">PR0000412</td>\n",
       "        <td style=\"padding-left: 1em; padding-right: 1em; text-align: center; vertical-align: top\">Black Mountain Clubhouse<br>Bar ...</td>\n",
       "        <td style=\"padding-left: 1em; padding-right: 1em; text-align: center; vertical-align: top\">Black Mountain Clubhouse</td>\n",
       "        <td style=\"padding-left: 1em; padding-right: 1em; text-align: center; vertical-align: top\">Bar / Tavern</td>\n",
       "        <td style=\"padding-left: 1em; padding-right: 1em; text-align: center; vertical-align: top\">500 Greenway Rd</td>\n",
       "    </tr>\n",
       "</table>\n",
       "<table frame=\"box\" rules=\"cols\">\n",
       "    <tr>\n",
       "        <th style=\"padding-left: 1em; padding-right: 1em; text-align: center\">City</th>\n",
       "        <th style=\"padding-left: 1em; padding-right: 1em; text-align: center\">State</th>\n",
       "        <th style=\"padding-left: 1em; padding-right: 1em; text-align: center\">Zip</th>\n",
       "        <th style=\"padding-left: 1em; padding-right: 1em; text-align: center\">Current Demerits</th>\n",
       "        <th style=\"padding-left: 1em; padding-right: 1em; text-align: center\">Current Grade</th>\n",
       "        <th style=\"padding-left: 1em; padding-right: 1em; text-align: center\">Date Current</th>\n",
       "        <th style=\"padding-left: 1em; padding-right: 1em; text-align: center\">Inspection Date</th>\n",
       "    </tr>\n",
       "    <tr>\n",
       "        <td style=\"padding-left: 1em; padding-right: 1em; text-align: center; vertical-align: top\">Henderson</td>\n",
       "        <td style=\"padding-left: 1em; padding-right: 1em; text-align: center; vertical-align: top\">Nevada</td>\n",
       "        <td style=\"padding-left: 1em; padding-right: 1em; text-align: center; vertical-align: top\">89015-7464</td>\n",
       "        <td style=\"padding-left: 1em; padding-right: 1em; text-align: center; vertical-align: top\">3</td>\n",
       "        <td style=\"padding-left: 1em; padding-right: 1em; text-align: center; vertical-align: top\">A</td>\n",
       "        <td style=\"padding-left: 1em; padding-right: 1em; text-align: center; vertical-align: top\">10/29/2015 12:00:00 AM</td>\n",
       "        <td style=\"padding-left: 1em; padding-right: 1em; text-align: center; vertical-align: top\">03/30/2010 12:00:00 AM</td>\n",
       "    </tr>\n",
       "    <tr>\n",
       "        <td style=\"padding-left: 1em; padding-right: 1em; text-align: center; vertical-align: top\">Henderson</td>\n",
       "        <td style=\"padding-left: 1em; padding-right: 1em; text-align: center; vertical-align: top\">Nevada</td>\n",
       "        <td style=\"padding-left: 1em; padding-right: 1em; text-align: center; vertical-align: top\">89015-7464</td>\n",
       "        <td style=\"padding-left: 1em; padding-right: 1em; text-align: center; vertical-align: top\">3</td>\n",
       "        <td style=\"padding-left: 1em; padding-right: 1em; text-align: center; vertical-align: top\">A</td>\n",
       "        <td style=\"padding-left: 1em; padding-right: 1em; text-align: center; vertical-align: top\">10/29/2015 12:00:00 AM</td>\n",
       "        <td style=\"padding-left: 1em; padding-right: 1em; text-align: center; vertical-align: top\">04/13/2010 12:00:00 AM</td>\n",
       "    </tr>\n",
       "    <tr>\n",
       "        <td style=\"padding-left: 1em; padding-right: 1em; text-align: center; vertical-align: top\">Henderson</td>\n",
       "        <td style=\"padding-left: 1em; padding-right: 1em; text-align: center; vertical-align: top\">Nevada</td>\n",
       "        <td style=\"padding-left: 1em; padding-right: 1em; text-align: center; vertical-align: top\">89015-7464</td>\n",
       "        <td style=\"padding-left: 1em; padding-right: 1em; text-align: center; vertical-align: top\">3</td>\n",
       "        <td style=\"padding-left: 1em; padding-right: 1em; text-align: center; vertical-align: top\">A</td>\n",
       "        <td style=\"padding-left: 1em; padding-right: 1em; text-align: center; vertical-align: top\">10/29/2015 12:00:00 AM</td>\n",
       "        <td style=\"padding-left: 1em; padding-right: 1em; text-align: center; vertical-align: top\">03/10/2011 12:00:00 AM</td>\n",
       "    </tr>\n",
       "    <tr>\n",
       "        <td style=\"padding-left: 1em; padding-right: 1em; text-align: center; vertical-align: top\">Henderson</td>\n",
       "        <td style=\"padding-left: 1em; padding-right: 1em; text-align: center; vertical-align: top\">Nevada</td>\n",
       "        <td style=\"padding-left: 1em; padding-right: 1em; text-align: center; vertical-align: top\">89015-7464</td>\n",
       "        <td style=\"padding-left: 1em; padding-right: 1em; text-align: center; vertical-align: top\">0</td>\n",
       "        <td style=\"padding-left: 1em; padding-right: 1em; text-align: center; vertical-align: top\">A</td>\n",
       "        <td style=\"padding-left: 1em; padding-right: 1em; text-align: center; vertical-align: top\">10/29/2015 12:00:00 AM</td>\n",
       "        <td style=\"padding-left: 1em; padding-right: 1em; text-align: center; vertical-align: top\">03/30/2010 12:00:00 AM</td>\n",
       "    </tr>\n",
       "    <tr>\n",
       "        <td style=\"padding-left: 1em; padding-right: 1em; text-align: center; vertical-align: top\">Henderson</td>\n",
       "        <td style=\"padding-left: 1em; padding-right: 1em; text-align: center; vertical-align: top\">Nevada</td>\n",
       "        <td style=\"padding-left: 1em; padding-right: 1em; text-align: center; vertical-align: top\">89015-7464</td>\n",
       "        <td style=\"padding-left: 1em; padding-right: 1em; text-align: center; vertical-align: top\">0</td>\n",
       "        <td style=\"padding-left: 1em; padding-right: 1em; text-align: center; vertical-align: top\">A</td>\n",
       "        <td style=\"padding-left: 1em; padding-right: 1em; text-align: center; vertical-align: top\">10/29/2015 12:00:00 AM</td>\n",
       "        <td style=\"padding-left: 1em; padding-right: 1em; text-align: center; vertical-align: top\">03/10/2011 12:00:00 AM</td>\n",
       "    </tr>\n",
       "</table>\n",
       "<table frame=\"box\" rules=\"cols\">\n",
       "    <tr>\n",
       "        <th style=\"padding-left: 1em; padding-right: 1em; text-align: center\">Inspection Time</th>\n",
       "        <th style=\"padding-left: 1em; padding-right: 1em; text-align: center\">Employee ID</th>\n",
       "        <th style=\"padding-left: 1em; padding-right: 1em; text-align: center\">Inspection Type</th>\n",
       "        <th style=\"padding-left: 1em; padding-right: 1em; text-align: center\">Inspection Demerits</th>\n",
       "        <th style=\"padding-left: 1em; padding-right: 1em; text-align: center\">Inspection Grade</th>\n",
       "        <th style=\"padding-left: 1em; padding-right: 1em; text-align: center\">Permit Status</th>\n",
       "    </tr>\n",
       "    <tr>\n",
       "        <td style=\"padding-left: 1em; padding-right: 1em; text-align: center; vertical-align: top\">03/30/2010 11:30:00 AM</td>\n",
       "        <td style=\"padding-left: 1em; padding-right: 1em; text-align: center; vertical-align: top\">EE7000392</td>\n",
       "        <td style=\"padding-left: 1em; padding-right: 1em; text-align: center; vertical-align: top\">Routine Inspection</td>\n",
       "        <td style=\"padding-left: 1em; padding-right: 1em; text-align: center; vertical-align: top\">18</td>\n",
       "        <td style=\"padding-left: 1em; padding-right: 1em; text-align: center; vertical-align: top\">B</td>\n",
       "        <td style=\"padding-left: 1em; padding-right: 1em; text-align: center; vertical-align: top\"></td>\n",
       "    </tr>\n",
       "    <tr>\n",
       "        <td style=\"padding-left: 1em; padding-right: 1em; text-align: center; vertical-align: top\">04/13/2010 11:15:00 AM</td>\n",
       "        <td style=\"padding-left: 1em; padding-right: 1em; text-align: center; vertical-align: top\">EE7000392</td>\n",
       "        <td style=\"padding-left: 1em; padding-right: 1em; text-align: center; vertical-align: top\">Routine Inspection</td>\n",
       "        <td style=\"padding-left: 1em; padding-right: 1em; text-align: center; vertical-align: top\">1</td>\n",
       "        <td style=\"padding-left: 1em; padding-right: 1em; text-align: center; vertical-align: top\">A</td>\n",
       "        <td style=\"padding-left: 1em; padding-right: 1em; text-align: center; vertical-align: top\"></td>\n",
       "    </tr>\n",
       "    <tr>\n",
       "        <td style=\"padding-left: 1em; padding-right: 1em; text-align: center; vertical-align: top\">03/10/2011 10:40:00 AM</td>\n",
       "        <td style=\"padding-left: 1em; padding-right: 1em; text-align: center; vertical-align: top\">EE7000392</td>\n",
       "        <td style=\"padding-left: 1em; padding-right: 1em; text-align: center; vertical-align: top\">Routine Inspection</td>\n",
       "        <td style=\"padding-left: 1em; padding-right: 1em; text-align: center; vertical-align: top\">9</td>\n",
       "        <td style=\"padding-left: 1em; padding-right: 1em; text-align: center; vertical-align: top\">A</td>\n",
       "        <td style=\"padding-left: 1em; padding-right: 1em; text-align: center; vertical-align: top\"></td>\n",
       "    </tr>\n",
       "    <tr>\n",
       "        <td style=\"padding-left: 1em; padding-right: 1em; text-align: center; vertical-align: top\">03/30/2010 12:45:00 PM</td>\n",
       "        <td style=\"padding-left: 1em; padding-right: 1em; text-align: center; vertical-align: top\">EE7000392</td>\n",
       "        <td style=\"padding-left: 1em; padding-right: 1em; text-align: center; vertical-align: top\">Routine Inspection</td>\n",
       "        <td style=\"padding-left: 1em; padding-right: 1em; text-align: center; vertical-align: top\">3</td>\n",
       "        <td style=\"padding-left: 1em; padding-right: 1em; text-align: center; vertical-align: top\">A</td>\n",
       "        <td style=\"padding-left: 1em; padding-right: 1em; text-align: center; vertical-align: top\"></td>\n",
       "    </tr>\n",
       "    <tr>\n",
       "        <td style=\"padding-left: 1em; padding-right: 1em; text-align: center; vertical-align: top\">03/10/2011 11:40:00 AM</td>\n",
       "        <td style=\"padding-left: 1em; padding-right: 1em; text-align: center; vertical-align: top\">EE7000392</td>\n",
       "        <td style=\"padding-left: 1em; padding-right: 1em; text-align: center; vertical-align: top\">Routine Inspection</td>\n",
       "        <td style=\"padding-left: 1em; padding-right: 1em; text-align: center; vertical-align: top\">4</td>\n",
       "        <td style=\"padding-left: 1em; padding-right: 1em; text-align: center; vertical-align: top\">A</td>\n",
       "        <td style=\"padding-left: 1em; padding-right: 1em; text-align: center; vertical-align: top\"></td>\n",
       "    </tr>\n",
       "</table>\n",
       "<table frame=\"box\" rules=\"cols\">\n",
       "    <tr>\n",
       "        <th style=\"padding-left: 1em; padding-right: 1em; text-align: center\">Inspection Result</th>\n",
       "        <th style=\"padding-left: 1em; padding-right: 1em; text-align: center\">Violations</th>\n",
       "        <th style=\"padding-left: 1em; padding-right: 1em; text-align: center\">Record Updated</th>\n",
       "        <th style=\"padding-left: 1em; padding-right: 1em; text-align: center\">Location 1</th>\n",
       "    </tr>\n",
       "    <tr>\n",
       "        <td style=\"padding-left: 1em; padding-right: 1em; text-align: center; vertical-align: top\">'B' Downgrade</td>\n",
       "        <td style=\"padding-left: 1em; padding-right: 1em; text-align: center; vertical-align: top\">49122731112</td>\n",
       "        <td style=\"padding-left: 1em; padding-right: 1em; text-align: center; vertical-align: top\">02/21/2013 10:26:12 PM</td>\n",
       "        <td style=\"padding-left: 1em; padding-right: 1em; text-align: center; vertical-align: top\">(36.019531, -114.9739838)</td>\n",
       "    </tr>\n",
       "    <tr>\n",
       "        <td style=\"padding-left: 1em; padding-right: 1em; text-align: center; vertical-align: top\">Compliant</td>\n",
       "        <td style=\"padding-left: 1em; padding-right: 1em; text-align: center; vertical-align: top\">37</td>\n",
       "        <td style=\"padding-left: 1em; padding-right: 1em; text-align: center; vertical-align: top\">02/21/2013 10:26:12 PM</td>\n",
       "        <td style=\"padding-left: 1em; padding-right: 1em; text-align: center; vertical-align: top\">(36.019531, -114.9739838)</td>\n",
       "    </tr>\n",
       "    <tr>\n",
       "        <td style=\"padding-left: 1em; padding-right: 1em; text-align: center; vertical-align: top\">Compliant</td>\n",
       "        <td style=\"padding-left: 1em; padding-right: 1em; text-align: center; vertical-align: top\"></td>\n",
       "        <td style=\"padding-left: 1em; padding-right: 1em; text-align: center; vertical-align: top\">02/21/2013 10:26:12 PM</td>\n",
       "        <td style=\"padding-left: 1em; padding-right: 1em; text-align: center; vertical-align: top\">(36.019531, -114.9739838)</td>\n",
       "    </tr>\n",
       "    <tr>\n",
       "        <td style=\"padding-left: 1em; padding-right: 1em; text-align: center; vertical-align: top\">Compliant</td>\n",
       "        <td style=\"padding-left: 1em; padding-right: 1em; text-align: center; vertical-align: top\">313637</td>\n",
       "        <td style=\"padding-left: 1em; padding-right: 1em; text-align: center; vertical-align: top\">02/21/2013 10:26:12 PM</td>\n",
       "        <td style=\"padding-left: 1em; padding-right: 1em; text-align: center; vertical-align: top\">(36.019531, -114.9739838)</td>\n",
       "    </tr>\n",
       "    <tr>\n",
       "        <td style=\"padding-left: 1em; padding-right: 1em; text-align: center; vertical-align: top\">Compliant</td>\n",
       "        <td style=\"padding-left: 1em; padding-right: 1em; text-align: center; vertical-align: top\"></td>\n",
       "        <td style=\"padding-left: 1em; padding-right: 1em; text-align: center; vertical-align: top\">02/21/2013 10:26:12 PM</td>\n",
       "        <td style=\"padding-left: 1em; padding-right: 1em; text-align: center; vertical-align: top\">(36.019531, -114.9739838)</td>\n",
       "    </tr>\n",
       "</table>\n",
       "[5 rows x 23 columns]<br/>\n",
       "</div>"
      ],
      "text/plain": [
       "Columns:\n",
       "\tSerial Number\tstr\n",
       "\tPermit Number\tstr\n",
       "\tRestaurant Name\tstr\n",
       "\tLocation Name\tstr\n",
       "\tCategory Name\tstr\n",
       "\tAddress\tstr\n",
       "\tCity\tstr\n",
       "\tState\tstr\n",
       "\tZip\tstr\n",
       "\tCurrent Demerits\tint\n",
       "\tCurrent Grade\tstr\n",
       "\tDate Current\tstr\n",
       "\tInspection Date\tstr\n",
       "\tInspection Time\tstr\n",
       "\tEmployee ID\tstr\n",
       "\tInspection Type\tstr\n",
       "\tInspection Demerits\tint\n",
       "\tInspection Grade\tstr\n",
       "\tPermit Status\tstr\n",
       "\tInspection Result\tstr\n",
       "\tViolations\tstr\n",
       "\tRecord Updated\tstr\n",
       "\tLocation 1\tstr\n",
       "\n",
       "Rows: 5\n",
       "\n",
       "Data:\n",
       "+---------------+---------------+-------------------------------+\n",
       "| Serial Number | Permit Number |        Restaurant Name        |\n",
       "+---------------+---------------+-------------------------------+\n",
       "|   DA0001131   |   PR0000411   | Black Mountain Clubhouse R... |\n",
       "|   DA0001132   |   PR0000411   | Black Mountain Clubhouse R... |\n",
       "|   DA0001133   |   PR0000411   | Black Mountain Clubhouse R... |\n",
       "|   DA0001173   |   PR0000412   |  Black Mountain Clubhouse Bar |\n",
       "|   DA0001174   |   PR0000412   |  Black Mountain Clubhouse Bar |\n",
       "+---------------+---------------+-------------------------------+\n",
       "+--------------------------+---------------+-----------------+-----------+\n",
       "|      Location Name       | Category Name |     Address     |    City   |\n",
       "+--------------------------+---------------+-----------------+-----------+\n",
       "| Black Mountain Clubhouse |   Restaurant  | 500 Greenway Rd | Henderson |\n",
       "| Black Mountain Clubhouse |   Restaurant  | 500 Greenway Rd | Henderson |\n",
       "| Black Mountain Clubhouse |   Restaurant  | 500 Greenway Rd | Henderson |\n",
       "| Black Mountain Clubhouse |  Bar / Tavern | 500 Greenway Rd | Henderson |\n",
       "| Black Mountain Clubhouse |  Bar / Tavern | 500 Greenway Rd | Henderson |\n",
       "+--------------------------+---------------+-----------------+-----------+\n",
       "+--------+------------+------------------+---------------+\n",
       "| State  |    Zip     | Current Demerits | Current Grade |\n",
       "+--------+------------+------------------+---------------+\n",
       "| Nevada | 89015-7464 |        3         |       A       |\n",
       "| Nevada | 89015-7464 |        3         |       A       |\n",
       "| Nevada | 89015-7464 |        3         |       A       |\n",
       "| Nevada | 89015-7464 |        0         |       A       |\n",
       "| Nevada | 89015-7464 |        0         |       A       |\n",
       "+--------+------------+------------------+---------------+\n",
       "+------------------------+------------------------+------------------------+\n",
       "|      Date Current      |    Inspection Date     |    Inspection Time     |\n",
       "+------------------------+------------------------+------------------------+\n",
       "| 10/29/2015 12:00:00 AM | 03/30/2010 12:00:00 AM | 03/30/2010 11:30:00 AM |\n",
       "| 10/29/2015 12:00:00 AM | 04/13/2010 12:00:00 AM | 04/13/2010 11:15:00 AM |\n",
       "| 10/29/2015 12:00:00 AM | 03/10/2011 12:00:00 AM | 03/10/2011 10:40:00 AM |\n",
       "| 10/29/2015 12:00:00 AM | 03/30/2010 12:00:00 AM | 03/30/2010 12:45:00 PM |\n",
       "| 10/29/2015 12:00:00 AM | 03/10/2011 12:00:00 AM | 03/10/2011 11:40:00 AM |\n",
       "+------------------------+------------------------+------------------------+\n",
       "+-------------+--------------------+---------------------+------------------+---------------+\n",
       "| Employee ID |  Inspection Type   | Inspection Demerits | Inspection Grade | Permit Status |\n",
       "+-------------+--------------------+---------------------+------------------+---------------+\n",
       "|  EE7000392  | Routine Inspection |          18         |        B         |               |\n",
       "|  EE7000392  | Routine Inspection |          1          |        A         |               |\n",
       "|  EE7000392  | Routine Inspection |          9          |        A         |               |\n",
       "|  EE7000392  | Routine Inspection |          3          |        A         |               |\n",
       "|  EE7000392  | Routine Inspection |          4          |        A         |               |\n",
       "+-------------+--------------------+---------------------+------------------+---------------+\n",
       "+-------------------+-----+\n",
       "| Inspection Result | ... |\n",
       "+-------------------+-----+\n",
       "|   'B' Downgrade   | ... |\n",
       "|     Compliant     | ... |\n",
       "|     Compliant     | ... |\n",
       "|     Compliant     | ... |\n",
       "|     Compliant     | ... |\n",
       "+-------------------+-----+\n",
       "[5 rows x 23 columns]"
      ]
     },
     "execution_count": 67,
     "metadata": {},
     "output_type": "execute_result"
    }
   ],
   "source": [
    "sfInsp.head(5)"
   ]
  },
  {
   "cell_type": "code",
   "execution_count": 74,
   "metadata": {
    "collapsed": false
   },
   "outputs": [],
   "source": [
    "### we're going to iterate through these to assign prior and next inspection dates\n",
    "### so sort by name, address, and date\n",
    "sfInsp = sfInsp.sort([('Restaurant Name', True) , ('Address', True) , ('Inspection Date', False)])"
   ]
  },
  {
   "cell_type": "code",
   "execution_count": 81,
   "metadata": {
    "collapsed": false
   },
   "outputs": [],
   "source": [
    "### convert to a pandas dataframe so we can iterate\n",
    "dfInsp = sfInsp.to_dataframe()"
   ]
  },
  {
   "cell_type": "code",
   "execution_count": 90,
   "metadata": {
    "collapsed": false
   },
   "outputs": [],
   "source": [
    "### iterate\n",
    "\n",
    "    #### walk through each row in the dataframe and set the Prior Inspection Date and Next Inspection Date fields\n",
    "    #### if this is the first inspection for a restaurant, then the Prior Inspection Date is the Current Inspection Date\n",
    "    #### if this is the last inspection for a restaurant, then the Next Inspection Date is the Current Inspection Date\n",
    "\n",
    "PermitNumber = ''\n",
    "\n",
    "for i in dfInsp.index:\n",
    "\n",
    "    #print dfInsp.loc[i,'Permit Number']\n",
    "        \n",
    "    #### for the first row, or when we switch to a new permit number / restaurant\n",
    "    #### we don't need to really do anything... set the PermitNumber and the PriorInspDate fields\n",
    "    \n",
    "    if PermitNumber != dfInsp.loc[i,'Permit Number']: \n",
    "        PriorInspDate = dfInsp.loc[i,'Inspection Date']    \n",
    "        PermitNumber = dfInsp.loc[i,'Permit Number']\n",
    "    \n",
    "    \n",
    "    #### otherwise, we want to set some fields:\n",
    "    #### in the current row of the data frame, set the Prior Insp Date field to PriorInspDate\n",
    "    \n",
    "    else:\n",
    "        dfInsp.loc[i,'Prior Insp Date'] = PriorInspDate\n",
    "    \n",
    "        #### in the prior row of the data frame, set the Next Insp Date field to the current row's Inspection Date\n",
    "        dfInsp.loc[i-1, 'Next Insp Date'] = dfInsp.loc[i, 'Inspection Date']"
   ]
  },
  {
   "cell_type": "code",
   "execution_count": 97,
   "metadata": {
    "collapsed": false
   },
   "outputs": [
    {
     "data": {
      "text/html": [
       "<div>\n",
       "<table border=\"1\" class=\"dataframe\">\n",
       "  <thead>\n",
       "    <tr style=\"text-align: right;\">\n",
       "      <th></th>\n",
       "      <th>Serial Number</th>\n",
       "      <th>Permit Number</th>\n",
       "      <th>Restaurant Name</th>\n",
       "      <th>Location Name</th>\n",
       "      <th>Category Name</th>\n",
       "      <th>Address</th>\n",
       "      <th>City</th>\n",
       "      <th>State</th>\n",
       "      <th>Zip</th>\n",
       "      <th>Current Demerits</th>\n",
       "      <th>...</th>\n",
       "      <th>Inspection Type</th>\n",
       "      <th>Inspection Demerits</th>\n",
       "      <th>Inspection Grade</th>\n",
       "      <th>Permit Status</th>\n",
       "      <th>Inspection Result</th>\n",
       "      <th>Violations</th>\n",
       "      <th>Record Updated</th>\n",
       "      <th>Location 1</th>\n",
       "      <th>Prior Insp Date</th>\n",
       "      <th>Next Insp Date</th>\n",
       "    </tr>\n",
       "  </thead>\n",
       "  <tbody>\n",
       "    <tr>\n",
       "      <th>0</th>\n",
       "      <td>DA0861265</td>\n",
       "      <td>PR0098132</td>\n",
       "      <td></td>\n",
       "      <td>Abbarrotes El Toro Meat Department</td>\n",
       "      <td>Meat/Poultry/Seafood</td>\n",
       "      <td>2501 N LAS VEGAS</td>\n",
       "      <td>North Las Vegas</td>\n",
       "      <td>Nevada</td>\n",
       "      <td>89030</td>\n",
       "      <td>5</td>\n",
       "      <td>...</td>\n",
       "      <td>Routine Inspection</td>\n",
       "      <td>5</td>\n",
       "      <td>A</td>\n",
       "      <td></td>\n",
       "      <td>Compliant</td>\n",
       "      <td>215225233</td>\n",
       "      <td>02/21/2013 10:26:12 PM</td>\n",
       "      <td>(36.218571, -115.133306)</td>\n",
       "      <td>NaN</td>\n",
       "      <td>NaN</td>\n",
       "    </tr>\n",
       "  </tbody>\n",
       "</table>\n",
       "<p>1 rows × 25 columns</p>\n",
       "</div>"
      ],
      "text/plain": [
       "  Serial Number Permit Number Restaurant Name  \\\n",
       "0     DA0861265     PR0098132                   \n",
       "\n",
       "                        Location Name         Category Name           Address  \\\n",
       "0  Abbarrotes El Toro Meat Department  Meat/Poultry/Seafood  2501 N LAS VEGAS   \n",
       "\n",
       "              City   State    Zip  Current Demerits      ...        \\\n",
       "0  North Las Vegas  Nevada  89030                 5      ...         \n",
       "\n",
       "      Inspection Type Inspection Demerits Inspection Grade Permit Status  \\\n",
       "0  Routine Inspection                   5                A                 \n",
       "\n",
       "  Inspection Result Violations          Record Updated  \\\n",
       "0         Compliant  215225233  02/21/2013 10:26:12 PM   \n",
       "\n",
       "                 Location 1 Prior Insp Date Next Insp Date  \n",
       "0  (36.218571, -115.133306)             NaN            NaN  \n",
       "\n",
       "[1 rows x 25 columns]"
      ]
     },
     "execution_count": 97,
     "metadata": {},
     "output_type": "execute_result"
    }
   ],
   "source": [
    "dfInsp.head(5)"
   ]
  },
  {
   "cell_type": "code",
   "execution_count": 102,
   "metadata": {
    "collapsed": true
   },
   "outputs": [],
   "source": [
    "### get a subset of the fields\n",
    "dfInsp1 = dfInsp[['Serial Number', 'Permit Number', 'Restaurant Name', 'Location Name', 'Address', 'City', 'State', 'Zip', 'Current Grade', 'Inspection Grade', 'Inspection Date', 'Prior Insp Date', 'Next Insp Date', 'Location 1']]"
   ]
  },
  {
   "cell_type": "code",
   "execution_count": 104,
   "metadata": {
    "collapsed": false
   },
   "outputs": [],
   "source": [
    "### export to csv for further processing\n",
    "dfInsp1.to_csv('/Users/eric/MCSDS/CS498/Project/data/LVInsp.csv')"
   ]
  },
  {
   "cell_type": "code",
   "execution_count": null,
   "metadata": {
    "collapsed": true
   },
   "outputs": [],
   "source": []
  },
  {
   "cell_type": "code",
   "execution_count": null,
   "metadata": {
    "collapsed": true
   },
   "outputs": [],
   "source": []
  },
  {
   "cell_type": "code",
   "execution_count": null,
   "metadata": {
    "collapsed": true
   },
   "outputs": [],
   "source": []
  },
  {
   "cell_type": "code",
   "execution_count": null,
   "metadata": {
    "collapsed": true
   },
   "outputs": [],
   "source": []
  },
  {
   "cell_type": "code",
   "execution_count": null,
   "metadata": {
    "collapsed": true
   },
   "outputs": [],
   "source": []
  },
  {
   "cell_type": "code",
   "execution_count": null,
   "metadata": {
    "collapsed": true
   },
   "outputs": [],
   "source": []
  },
  {
   "cell_type": "code",
   "execution_count": null,
   "metadata": {
    "collapsed": true
   },
   "outputs": [],
   "source": []
  },
  {
   "cell_type": "code",
   "execution_count": null,
   "metadata": {
    "collapsed": true
   },
   "outputs": [],
   "source": []
  },
  {
   "cell_type": "code",
   "execution_count": null,
   "metadata": {
    "collapsed": true
   },
   "outputs": [],
   "source": []
  },
  {
   "cell_type": "code",
   "execution_count": null,
   "metadata": {
    "collapsed": true
   },
   "outputs": [],
   "source": []
  },
  {
   "cell_type": "code",
   "execution_count": null,
   "metadata": {
    "collapsed": true
   },
   "outputs": [],
   "source": []
  },
  {
   "cell_type": "code",
   "execution_count": null,
   "metadata": {
    "collapsed": true
   },
   "outputs": [],
   "source": []
  }
 ],
 "metadata": {
  "kernelspec": {
   "display_name": "Python 2",
   "language": "python",
   "name": "python2"
  },
  "language_info": {
   "codemirror_mode": {
    "name": "ipython",
    "version": 2
   },
   "file_extension": ".py",
   "mimetype": "text/x-python",
   "name": "python",
   "nbconvert_exporter": "python",
   "pygments_lexer": "ipython2",
   "version": "2.7.13"
  }
 },
 "nbformat": 4,
 "nbformat_minor": 0
}
